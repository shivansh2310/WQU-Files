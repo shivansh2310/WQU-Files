{
  "nbformat": 4,
  "nbformat_minor": 0,
  "metadata": {
    "colab": {
      "provenance": [],
      "collapsed_sections": [
        "_k0Ri4U-OpQI",
        "zMONE-1y-1Q3",
        "mDZelAIkD2bN",
        "8Olv0FNzEyVI",
        "paT000YwGlhE",
        "ZwDdVhuaIQec",
        "HzMC86jGL4lQ",
        "F9FzUCGxasQA",
        "1qcE9XIaPWOF",
        "ykpWvNtgSvkl"
      ]
    },
    "kernelspec": {
      "name": "python3",
      "display_name": "Python 3"
    },
    "language_info": {
      "name": "python"
    }
  },
  "cells": [
    {
      "cell_type": "markdown",
      "source": [
        "# GWP 2"
      ],
      "metadata": {
        "id": "DCwQ785Uqv3f"
      }
    },
    {
      "cell_type": "code",
      "source": [
        "import numpy as np\n",
        "import scipy.stats as ss\n",
        "import matplotlib.pyplot as plt\n",
        "import pandas as pd\n",
        "import seaborn as sns\n",
        "from numba import jit, njit"
      ],
      "metadata": {
        "id": "mCLjzVb1qVKB"
      },
      "execution_count": 6,
      "outputs": []
    },
    {
      "cell_type": "markdown",
      "source": [
        "# Step 1"
      ],
      "metadata": {
        "id": "MSxdpNuGAebw"
      }
    },
    {
      "cell_type": "markdown",
      "source": [
        "## Q1 :"
      ],
      "metadata": {
        "id": "_k0Ri4U-OpQI"
      }
    },
    {
      "cell_type": "markdown",
      "source": [
        "### Pricing an ATM European call and put option using Black-Scholes\n",
        "\n",
        "\n",
        "\n"
      ],
      "metadata": {
        "id": "zMONE-1y-1Q3"
      }
    },
    {
      "cell_type": "code",
      "execution_count": 7,
      "metadata": {
        "id": "T77x95pCqKIC"
      },
      "outputs": [],
      "source": [
        "def BS_European_pricing(S, K, T, r, vol, option_type):\n",
        "  #Calculating d1 & d2\n",
        "  d1 = (np.log(S / K) + (r + 0.5 * vol**2) * T) / (vol * np.sqrt(T))\n",
        "  d2 = d1 - vol * np.sqrt(T)\n",
        "\n",
        "  if option_type in [\"C\", \"P\"]:\n",
        "      if option_type in [\"C\"]:\n",
        "          Opt_Price = S * ss.norm.cdf(d1) - K * np.exp(-r * T) * ss.norm.cdf(d2)\n",
        "      else:\n",
        "        Opt_Price = K * np.exp(-r * T) * ss.norm.cdf(-d2) - S * ss.norm.cdf(-d1)\n",
        "  else:\n",
        "    Opt_Price = \"Error: option type incorrect. Choose P for a put option or C for a call option.\"\n",
        "\n",
        "  return Opt_Price\n"
      ]
    },
    {
      "cell_type": "code",
      "source": [
        "# European Call option Price using BS\n",
        "Opt_Price = BS_European_pricing(100, 100, 0.25, 0.05, 0.20, 'C')\n",
        "print(\"Option price for call option= {:.2f}\".format(Opt_Price))"
      ],
      "metadata": {
        "colab": {
          "base_uri": "https://localhost:8080/"
        },
        "id": "xMgmC6q6CTyB",
        "outputId": "da6bcca8-cb7c-4a4b-c0dc-47e9b2ed2f5e"
      },
      "execution_count": 8,
      "outputs": [
        {
          "output_type": "stream",
          "name": "stdout",
          "text": [
            "Option price for call option= 4.61\n"
          ]
        }
      ]
    },
    {
      "cell_type": "code",
      "source": [
        "# European Put option Price using BS\n",
        "Opt_Price = BS_European_pricing(100, 100, 0.25, 0.05, 0.20, 'P')\n",
        "print(\"Option price for Put option= {:.2f}\".format(Opt_Price))"
      ],
      "metadata": {
        "colab": {
          "base_uri": "https://localhost:8080/"
        },
        "id": "1vgz-MC8DdRo",
        "outputId": "da794c48-372b-4187-d215-3d6ec0247705"
      },
      "execution_count": 9,
      "outputs": [
        {
          "output_type": "stream",
          "name": "stdout",
          "text": [
            "Option price for Put option= 3.37\n"
          ]
        }
      ]
    },
    {
      "cell_type": "markdown",
      "source": [
        "### Calculating Delta for European call and put option using Black-Scholes at time 0"
      ],
      "metadata": {
        "id": "mDZelAIkD2bN"
      }
    },
    {
      "cell_type": "code",
      "source": [
        "def BS_European_delta_pricing(S, K, T, r, vol, option_type):\n",
        "  #Calculating d1 & d2\n",
        "  d1 = (np.log(S / K) + (r + 0.5 * vol**2) * T) / (vol * np.sqrt(T))\n",
        "  d2 = d1 - vol * np.sqrt(T)\n",
        "\n",
        "  if option_type in [\"C\", \"P\"]:\n",
        "      if option_type in [\"C\"]:\n",
        "          Delta = ss.norm.cdf(d1)\n",
        "      else:\n",
        "        Delta = -ss.norm.cdf(-d1)\n",
        "  else:\n",
        "    Opt_Price = \"Error: option type incorrect. Choose P for a put option or C for a call option.\"\n",
        "\n",
        "  return Delta\n"
      ],
      "metadata": {
        "id": "yCiLkyLtECiI"
      },
      "execution_count": 10,
      "outputs": []
    },
    {
      "cell_type": "code",
      "source": [
        "# European Call delta using BS\n",
        "Delta = BS_European_delta_pricing(100, 100, 0.25, 0.05, 0.20, 'C')\n",
        "print(\"Delta for call option at time 0= {:.2f}\".format(Delta))"
      ],
      "metadata": {
        "colab": {
          "base_uri": "https://localhost:8080/"
        },
        "id": "DpyDPKyOEQfa",
        "outputId": "55161684-2715-4a68-8183-8371d435b09b"
      },
      "execution_count": 11,
      "outputs": [
        {
          "output_type": "stream",
          "name": "stdout",
          "text": [
            "Delta for call option at time 0= 0.57\n"
          ]
        }
      ]
    },
    {
      "cell_type": "code",
      "source": [
        "# European Put delta using BS\n",
        "Delta = BS_European_delta_pricing(100, 100, 0.25, 0.05, 0.20, 'P')\n",
        "print(\"Delta for Put option at time 0= {:.2f}\".format(Delta))"
      ],
      "metadata": {
        "colab": {
          "base_uri": "https://localhost:8080/"
        },
        "id": "EWyItnPQEYx6",
        "outputId": "af6a19f4-e047-4821-f803-2b04b050ad47"
      },
      "execution_count": 12,
      "outputs": [
        {
          "output_type": "stream",
          "name": "stdout",
          "text": [
            "Delta for Put option at time 0= -0.43\n"
          ]
        }
      ]
    },
    {
      "cell_type": "code",
      "source": [],
      "metadata": {
        "id": "WdbiUR3tEgwZ"
      },
      "execution_count": 12,
      "outputs": []
    },
    {
      "cell_type": "markdown",
      "source": [
        "### Calculating Vega for European call and put option using Black-Scholes at different volatilities"
      ],
      "metadata": {
        "id": "8Olv0FNzEyVI"
      }
    },
    {
      "cell_type": "code",
      "source": [
        "def BS_European_vega_pricing(S, K, T, r, vol, option_type):\n",
        "  #Calculating d1 & d2\n",
        "  d1 = (np.log(S / K) + (r + 0.5 * vol**2) * T) / (vol * np.sqrt(T))\n",
        "  d2 = d1 - vol * np.sqrt(T)\n",
        "\n",
        "  if option_type in [\"C\", \"P\"]:\n",
        "      if option_type in [\"C\"]:\n",
        "        Opt_Price = S * ss.norm.cdf(d1) - K * np.exp(-r * T) * ss.norm.cdf(d2)\n",
        "        Vega = S * ss.norm.pdf(d1) * np.sqrt(T)\n",
        "      else:\n",
        "        Opt_Price = K * np.exp(-r * T) * ss.norm.cdf(-d2) - S * ss.norm.cdf(-d1)\n",
        "        Vega = S * ss.norm.pdf(d1) * np.sqrt(T)\n",
        "  else:\n",
        "    Opt_Price = \"Error: option type incorrect. Choose P for a put option or C for a call option.\"\n",
        "\n",
        "  return Opt_Price, Vega"
      ],
      "metadata": {
        "id": "CnTmPlOuE8Df"
      },
      "execution_count": 13,
      "outputs": []
    },
    {
      "cell_type": "code",
      "source": [
        "# European Call price & vega with 20% volatility\n",
        "Opt_Price, Vega = BS_European_vega_pricing(100, 100, 0.25, 0.05, 0.20, 'C')\n",
        "print(\"Option price for call option with 20% volatility= {:.2f}\".format(Opt_Price))\n",
        "print(\"Vega for call option with 20% volatility= {:.2f}\".format(Vega))\n",
        "\n",
        "print ('===============================================================')\n",
        "\n",
        "# European Call price & vega with 25% volatility\n",
        "Opt_Price, Vega = BS_European_vega_pricing(100, 100, 0.25, 0.05, 0.25, 'C')\n",
        "print(\"Option price for call option with 25% volatility= {:.2f}\".format(Opt_Price))\n",
        "print(\"Vega for call option with 25% volatility= {:.2f}\".format(Vega))"
      ],
      "metadata": {
        "colab": {
          "base_uri": "https://localhost:8080/"
        },
        "id": "5_0ED0_kFIQ6",
        "outputId": "f09cd844-5fd2-4c83-9529-8e34c8b739be"
      },
      "execution_count": 14,
      "outputs": [
        {
          "output_type": "stream",
          "name": "stdout",
          "text": [
            "Option price for call option with 20% volatility= 4.61\n",
            "Vega for call option with 20% volatility= 19.64\n",
            "===============================================================\n",
            "Option price for call option with 25% volatility= 5.60\n",
            "Vega for call option with 25% volatility= 19.69\n"
          ]
        }
      ]
    },
    {
      "cell_type": "code",
      "source": [
        "# European Put price & vega with 20% volatility\n",
        "Opt_Price, Vega = BS_European_vega_pricing(100, 100, 0.25, 0.05, 0.20, 'P')\n",
        "print(\"Option price for Put option with 20% volatility= {:.2f}\".format(Opt_Price))\n",
        "print(\"Vega for Put option with 20% volatility= {:.2f}\".format(Vega))\n",
        "\n",
        "print ('===============================================================')\n",
        "\n",
        "# European Put price & vega with 25% volatility\n",
        "Opt_Price, Vega = BS_European_vega_pricing(100, 100, 0.25, 0.05, 0.25, 'P')\n",
        "print(\"Option price for Put option with 25% volatility= {:.2f}\".format(Opt_Price))\n",
        "print(\"Vega for Put option with 25% volatility= {:.2f}\".format(Vega))"
      ],
      "metadata": {
        "colab": {
          "base_uri": "https://localhost:8080/"
        },
        "id": "34B2kVuDFNjA",
        "outputId": "a0450e95-593d-4190-9bf7-399c0de88246"
      },
      "execution_count": 15,
      "outputs": [
        {
          "output_type": "stream",
          "name": "stdout",
          "text": [
            "Option price for Put option with 20% volatility= 3.37\n",
            "Vega for Put option with 20% volatility= 19.64\n",
            "===============================================================\n",
            "Option price for Put option with 25% volatility= 4.36\n",
            "Vega for Put option with 25% volatility= 19.69\n"
          ]
        }
      ]
    },
    {
      "cell_type": "markdown",
      "source": [
        "## Q2:"
      ],
      "metadata": {
        "id": "QtyYz2dd2IOJ"
      }
    },
    {
      "cell_type": "markdown",
      "source": [
        "### Pricing an ATM European call and put options using MC methods\n",
        "\n",
        "$ S_0 = 100; K=100; r = 5\\%; σ = 20\\%; $ T = 3 months"
      ],
      "metadata": {
        "id": "66_T5aO72LjJ"
      }
    },
    {
      "cell_type": "code",
      "source": [
        "def eu_opt_mc(S, K, r, sigma, T, t, Opttype, Ite):\n",
        "    data = np.zeros((Ite, 2))\n",
        "    z = np.random.normal(0, 1, [1, Ite])\n",
        "    ST = S * np.exp((T - t) * (r - 0.5 * sigma**2) + sigma * np.sqrt(T - t) * z)\n",
        "    if Opttype == 'C':\n",
        "      data[:, 1] = ST - K\n",
        "    elif Opttype == 'P':\n",
        "      data[:, 1] = K - ST\n",
        "    else:\n",
        "      raise Exception(f\"Error, '{Opttype}' is wrong option type.\")\n",
        "\n",
        "    average = np.mean(np.amax(data, axis=1))\n",
        "\n",
        "    return np.exp(-r * (T - t)) * average"
      ],
      "metadata": {
        "id": "2D7M-y1Q2RpX"
      },
      "execution_count": 16,
      "outputs": []
    },
    {
      "cell_type": "code",
      "source": [
        "np.random.seed(10)\n",
        "params = [100, 100, 0.05, 0.2, 3/12, 0]\n",
        "M = 15\n",
        "mc_steps = [1000 * 2**i for i in range(M)]\n",
        "eu_call_prices = [eu_opt_mc(*params, 'C', step) for step in mc_steps]\n",
        "eu_put_prices = [eu_opt_mc(*params, 'P', step) for step in mc_steps]"
      ],
      "metadata": {
        "id": "wiPYIvkl2RuJ"
      },
      "execution_count": 17,
      "outputs": []
    },
    {
      "cell_type": "code",
      "source": [
        "mc_steps"
      ],
      "metadata": {
        "colab": {
          "base_uri": "https://localhost:8080/"
        },
        "id": "v1UM52qREXRs",
        "outputId": "e340865a-5906-4c06-9456-a958cf351881"
      },
      "execution_count": 18,
      "outputs": [
        {
          "output_type": "execute_result",
          "data": {
            "text/plain": [
              "[1000,\n",
              " 2000,\n",
              " 4000,\n",
              " 8000,\n",
              " 16000,\n",
              " 32000,\n",
              " 64000,\n",
              " 128000,\n",
              " 256000,\n",
              " 512000,\n",
              " 1024000,\n",
              " 2048000,\n",
              " 4096000,\n",
              " 8192000,\n",
              " 16384000]"
            ]
          },
          "metadata": {},
          "execution_count": 18
        }
      ]
    },
    {
      "cell_type": "code",
      "source": [
        "plt.figure(figsize=(14,8))\n",
        "plt.plot(range(M), eu_call_prices, color='blue', label='Call price with different steps', marker='o')\n",
        "plt.plot(range(M), eu_put_prices, color='red', label='Put price with different steps', marker='o')\n",
        "plt.xlabel('M (N=1000 * 2**M steps)')\n",
        "plt.ylabel('Option price')\n",
        "plt.title('European options')\n",
        "plt.legend()\n",
        "plt.grid()"
      ],
      "metadata": {
        "colab": {
          "base_uri": "https://localhost:8080/",
          "height": 718
        },
        "id": "RLWKnnAi2Rv_",
        "outputId": "0fffa228-be3a-48fd-c6f7-0b5f0338dc33"
      },
      "execution_count": 19,
      "outputs": [
        {
          "output_type": "display_data",
          "data": {
            "text/plain": [
              "<Figure size 1400x800 with 1 Axes>"
            ],
            "image/png": "[encoded data removed]"
          },
          "metadata": {}
        }
      ]
    },
    {
      "cell_type": "code",
      "source": [
        "print(\"Monte Carlo Call Price:\", np.round(eu_call_prices[-1], 2))\n",
        "print(\"Monte Carlo Put Price:\", np.round(eu_put_prices[-1], 2))"
      ],
      "metadata": {
        "colab": {
          "base_uri": "https://localhost:8080/"
        },
        "id": "G4KuYhO9EtXC",
        "outputId": "5b38aea0-b92b-4b82-d633-24c67a78c20b"
      },
      "execution_count": 20,
      "outputs": [
        {
          "output_type": "stream",
          "name": "stdout",
          "text": [
            "Monte Carlo Call Price: 4.61\n",
            "Monte Carlo Put Price: 3.37\n"
          ]
        }
      ]
    },
    {
      "cell_type": "markdown",
      "source": [
        "### Compute the Greek Delta for the European call and European put at time 0:\n",
        "\n",
        "$ S_0 = 100; K=100; r = 5\\%; σ = 20\\%; $ T = 3 months"
      ],
      "metadata": {
        "id": "4H43MT5yLxi1"
      }
    },
    {
      "cell_type": "code",
      "source": [
        "np.random.seed(10)\n",
        "S1 = 100\n",
        "S2 = S1 + 0.5\n",
        "C1 = np.round(eu_opt_mc(*[S1, 100, 0.05, 0.2, 3/12, 0], 'C', 1000 * 2**14), 3)\n",
        "C2 = np.round(eu_opt_mc(*[S2, 100, 0.05, 0.2, 3/12, 0], 'C', 1000 * 2**14), 3)\n",
        "print(\"Monte Carlo Call Price for S0 = 100:\", C1)\n",
        "print(\"Monte Carlo Call Price for S0 = 100.5:\", C2)\n",
        "print(\"MC Delta for Call:\", np.round((C2 - C1) / (S2 - S1), 3))"
      ],
      "metadata": {
        "colab": {
          "base_uri": "https://localhost:8080/"
        },
        "id": "Jl0bXFXSL7ZR",
        "outputId": "20684150-2664-4887-a010-8f4025d77bdc"
      },
      "execution_count": 21,
      "outputs": [
        {
          "output_type": "stream",
          "name": "stdout",
          "text": [
            "Monte Carlo Call Price for S0 = 100: 4.616\n",
            "Monte Carlo Call Price for S0 = 100.5: 4.905\n",
            "MC Delta for Call: 0.578\n"
          ]
        }
      ]
    },
    {
      "cell_type": "code",
      "source": [
        "np.random.seed(10)\n",
        "S1 = 100\n",
        "S2 = S1 + 0.5\n",
        "P1 = np.round(eu_opt_mc(*[S1, 100, 0.05, 0.2, 3/12, 0], 'P', 1000 * 2**14), 3)\n",
        "P2 = np.round(eu_opt_mc(*[S2, 100, 0.05, 0.2, 3/12, 0], 'P', 1000 * 2**14), 3)\n",
        "print(\"Monte Carlo Put Price for S0 = 100:\", P1)\n",
        "print(\"Monte Carlo Put Price for S0 = 100.5:\", P2)\n",
        "print(\"MC Delta for Put:\", np.round((P2 - P1) / (S2 - S1), 3))"
      ],
      "metadata": {
        "colab": {
          "base_uri": "https://localhost:8080/"
        },
        "id": "_G83sOcdQUwL",
        "outputId": "ee860dc1-4b40-4656-c6a1-422d735bcf77"
      },
      "execution_count": 22,
      "outputs": [
        {
          "output_type": "stream",
          "name": "stdout",
          "text": [
            "Monte Carlo Put Price for S0 = 100: 3.372\n",
            "Monte Carlo Put Price for S0 = 100.5: 3.161\n",
            "MC Delta for Put: -0.422\n"
          ]
        }
      ]
    },
    {
      "cell_type": "markdown",
      "source": [
        "### Compute the Greek Vega for the European call and European put at time 0:\n",
        "Compute the sensitivity of previous put and call option prices to a 5%\n",
        "increase in volatility (from 20% to 25%):\n",
        "\n",
        "$ S_0 = 100; K=100; r = 5\\%; σ = 20\\%; $ T = 3 months"
      ],
      "metadata": {
        "id": "9ZqvL59zODOK"
      }
    },
    {
      "cell_type": "code",
      "source": [
        "\n",
        "sig1 = 0.2\n",
        "sig2 = sig1 + 0.05\n",
        "np.random.seed(10)\n",
        "C1 = np.round(eu_opt_mc(*[100, 100, 0.05, sig1, 3/12, 0], 'C', 1000 * 2**14), 3)\n",
        "np.random.seed(10)\n",
        "C2 = np.round(eu_opt_mc(*[100, 100, 0.05, sig2, 3/12, 0], 'C', 1000 * 2**14), 3)\n",
        "print(\"Monte Carlo Call Price for 20% volatility:\", C1)\n",
        "print(\"Monte Carlo Call Price for 25% volatility:\", C2)\n",
        "print(\"MC Vega for Call:\", np.round((C2 - C1) / (sig2 - sig1), 3))"
      ],
      "metadata": {
        "colab": {
          "base_uri": "https://localhost:8080/"
        },
        "id": "ZEl51U9TOTf9",
        "outputId": "5e48ccd5-b4e1-4195-b5f7-2afbfaeb18ba"
      },
      "execution_count": 23,
      "outputs": [
        {
          "output_type": "stream",
          "name": "stdout",
          "text": [
            "Monte Carlo Call Price for 20% volatility: 4.616\n",
            "Monte Carlo Call Price for 25% volatility: 5.6\n",
            "MC Vega for Call: 19.68\n"
          ]
        }
      ]
    },
    {
      "cell_type": "code",
      "source": [
        "sig1 = 0.2\n",
        "sig2 = sig1 + 0.05\n",
        "np.random.seed(10)\n",
        "P1 = np.round(eu_opt_mc(*[100, 100, 0.05, sig1, 3/12, 0], 'P', 1000 * 2**14), 3)\n",
        "np.random.seed(10)\n",
        "P2 = np.round(eu_opt_mc(*[100, 100, 0.05, sig2, 3/12, 0], 'P', 1000 * 2**14), 3)\n",
        "print(\"Monte Carlo Call Price for 20% volatility:\", P1)\n",
        "print(\"Monte Carlo Call Price for 25% volatility:\", P2)\n",
        "print(\"MC Vega for Call:\", np.round((P2 - P1) / (sig2 - sig1), 3))"
      ],
      "metadata": {
        "colab": {
          "base_uri": "https://localhost:8080/"
        },
        "id": "fo495pTiOTkW",
        "outputId": "c4c99afb-6c92-408b-a267-b754e3066881"
      },
      "execution_count": 24,
      "outputs": [
        {
          "output_type": "stream",
          "name": "stdout",
          "text": [
            "Monte Carlo Call Price for 20% volatility: 3.372\n",
            "Monte Carlo Call Price for 25% volatility: 4.355\n",
            "MC Vega for Call: 19.66\n"
          ]
        }
      ]
    },
    {
      "cell_type": "code",
      "source": [],
      "metadata": {
        "id": "LliiKXraOTmZ"
      },
      "execution_count": 24,
      "outputs": []
    },
    {
      "cell_type": "markdown",
      "source": [
        "# Step 2"
      ],
      "metadata": {
        "id": "cyflU4fcMgev"
      }
    },
    {
      "cell_type": "markdown",
      "source": [
        "## Q4 :"
      ],
      "metadata": {
        "id": "QFNB1wHqOcyX"
      }
    },
    {
      "cell_type": "markdown",
      "source": [
        "### American Call Option pricing using Monte-carlo methods with regular GBM process and daily simulation"
      ],
      "metadata": {
        "id": "bNBoIYxID1kW"
      }
    },
    {
      "cell_type": "code",
      "source": [
        "def american_call_option_mc(S0: float, K: float, r: float, sigma: float, T: float, N: int, M: int):\n",
        "\n",
        "  np.random.seed(5)\n",
        "\n",
        "  # Time step\n",
        "  dt = T / N\n",
        "  discount_factor = np.exp(-r * dt)\n",
        "\n",
        "  # Simulate stock price paths\n",
        "  S = np.zeros((M, N+1))\n",
        "  S[:, 0] = S0\n",
        "\n",
        "  # Generate price paths\n",
        "  for t in range(1, N+1):\n",
        "      Z = np.random.standard_normal(M)  # standard normal random variables\n",
        "      S[:, t] = S[:, t-1] * np.exp((r - 0.5 * sigma**2) * dt + sigma * np.sqrt(dt) * Z)\n",
        "\n",
        "  # Calculate option payoffs at maturity\n",
        "  payoff = np.maximum(S - K, 0)\n",
        "\n",
        "  # Backward induction for American option pricing\n",
        "  option_values = payoff[:, -1]\n",
        "\n",
        "\n",
        "  for t in range(N - 1, 0, -1):\n",
        "    # Discounted expected continuation value\n",
        "    continuation_values = discount_factor * option_values\n",
        "    # Check early exercise condition\n",
        "    option_values = np.maximum(payoff[:, t], continuation_values)\n",
        "\n",
        "\n",
        "  # Discount payoffs back to present value\n",
        "  option_price = np.mean(option_values) * np.exp(-r * T)\n",
        "\n",
        "  return option_price"
      ],
      "metadata": {
        "id": "-3kXH9fKMfHq"
      },
      "execution_count": 25,
      "outputs": []
    },
    {
      "cell_type": "code",
      "source": [
        "# Parameters\n",
        "S0 = 100  # initial stock price\n",
        "K = 100   # strike price\n",
        "T = 0.25     # time to maturity (1 year)\n",
        "r = 0.05  # risk-free rate\n",
        "sigma = 0.20  # volatility\n",
        "N = 63  # number of time steps (daily)\n",
        "M = 1000 * 2**9  # number of simulations\n",
        "\n",
        "option_price = american_call_option_mc(S0, K, r, sigma, T, N, M)\n",
        "\n",
        "print(f\"American Call Option Price: {option_price:.2f}\")"
      ],
      "metadata": {
        "colab": {
          "base_uri": "https://localhost:8080/"
        },
        "id": "Ns0tMJNurJ4-",
        "outputId": "abed2c67-b65d-4534-ae64-efde33c1ab37"
      },
      "execution_count": 26,
      "outputs": [
        {
          "output_type": "stream",
          "name": "stdout",
          "text": [
            "American Call Option Price: 7.99\n"
          ]
        }
      ]
    },
    {
      "cell_type": "markdown",
      "source": [
        "### Delta for ATM American call using MC methods"
      ],
      "metadata": {
        "id": "qGSJSUoXt-a6"
      }
    },
    {
      "cell_type": "code",
      "source": [
        "S1 = 100\n",
        "S2 = S1 + 0.5\n",
        "np.random.seed(10)\n",
        "C1 = np.round(american_call_option_mc(S1, 100, 0.05, 0.2, 3/12, 63, 1000 * 2**9), 3)\n",
        "np.random.seed(10)\n",
        "C2 = np.round(american_call_option_mc(S2, 100, 0.05, 0.2, 3/12, 63, 1000 * 2**9), 3)\n",
        "print(\"Monte Carlo call Price for S0 = 100:\", C1)\n",
        "print(\"Monte Carlo call Price for S0 = 100.5:\", C2)\n",
        "print(\"MC Delta for call:\", np.round((C2 - C1) / (S2 - S1), 3))"
      ],
      "metadata": {
        "id": "Rv9e1E7nsUL4",
        "colab": {
          "base_uri": "https://localhost:8080/"
        },
        "outputId": "a53cf045-99da-4f34-c733-639a4df5b8fe"
      },
      "execution_count": 27,
      "outputs": [
        {
          "output_type": "stream",
          "name": "stdout",
          "text": [
            "Monte Carlo call Price for S0 = 100: 7.994\n",
            "Monte Carlo call Price for S0 = 100.5: 8.499\n",
            "MC Delta for call: 1.01\n"
          ]
        }
      ]
    },
    {
      "cell_type": "markdown",
      "source": [
        "### Vega for ATM American call using MC methods"
      ],
      "metadata": {
        "id": "cNjc1d_lt_kK"
      }
    },
    {
      "cell_type": "code",
      "source": [
        "vol1 = 0.2\n",
        "vol2 = vol1 + 0.05\n",
        "np.random.seed(10)\n",
        "C1 = np.round(american_call_option_mc(*[100, 100, 0.05, vol1, 3/12, 63],  1000 * 2**9), 3)\n",
        "np.random.seed(10)\n",
        "C2 = np.round(american_call_option_mc(*[100, 100, 0.05, vol2, 3/12, 63],  1000 * 2**9), 3)\n",
        "print(\"Monte Carlo call Price for S0 = 100:\", C1)\n",
        "print(\"Monte Carlo call Price for S0 = 100.5:\", C2)\n",
        "print(\"MC Vega for call:\", np.round((C2 - C1) / (vol2 - vol1), 3))"
      ],
      "metadata": {
        "id": "FUi-fbCFsxu_",
        "colab": {
          "base_uri": "https://localhost:8080/"
        },
        "outputId": "40ab51c9-50cf-4d52-e8ac-8708d6ca2768"
      },
      "execution_count": 28,
      "outputs": [
        {
          "output_type": "stream",
          "name": "stdout",
          "text": [
            "Monte Carlo call Price for S0 = 100: 7.994\n",
            "Monte Carlo call Price for S0 = 100.5: 9.891\n",
            "MC Vega for call: 37.94\n"
          ]
        }
      ]
    },
    {
      "cell_type": "markdown",
      "source": [
        "## Q5:"
      ],
      "metadata": {
        "id": "ad7si91-bZ3q"
      }
    },
    {
      "cell_type": "markdown",
      "source": [
        "### American Put Option pricing using Monte-carlo methods with regular GBM process and daily simulation"
      ],
      "metadata": {
        "id": "cEWEVHR_VaFH"
      }
    },
    {
      "cell_type": "code",
      "source": [
        "@njit\n",
        "def american_option_mc(S: float, K: float, r: float, sigma: float, T: float, num_steps: int, Opttype: str, N: int):\n",
        "\n",
        "    dt = T / num_steps\n",
        "    discount_factor = np.exp(-r * dt)\n",
        "\n",
        "    # Initialize price paths\n",
        "    price_paths = np.zeros((N, num_steps + 1))\n",
        "    price_paths[:, 0] = S\n",
        "\n",
        "    # Generate price paths\n",
        "    for t in range(1, num_steps + 1):\n",
        "        z = np.random.standard_normal(N)\n",
        "        price_paths[:, t] = price_paths[:, t-1] * np.exp((r - 0.5 * sigma**2) * dt + sigma * np.sqrt(dt) * z)\n",
        "\n",
        "    # Initialize payoff matrix\n",
        "    if Opttype == 'C':\n",
        "      payoffs = np.maximum(price_paths - K, 0)\n",
        "    elif Opttype == 'P':\n",
        "      payoffs = np.maximum(K - price_paths, 0)\n",
        "    else:\n",
        "      print(f\"Error, '{Opttype}' is wrong option type.\")\n",
        "\n",
        "    # Backward induction for American option pricing\n",
        "    option_values = payoffs[:, -1]\n",
        "\n",
        "    for t in range(num_steps - 1, -1, -1):\n",
        "        # Discounted expected continuation value\n",
        "        continuation_values = discount_factor * option_values\n",
        "        # Check early exercise condition\n",
        "        option_values = np.maximum(payoffs[:, t], continuation_values)\n",
        "\n",
        "    # Discount the option value at the initial time\n",
        "    option_value = np.mean(option_values)\n",
        "\n",
        "    return option_value"
      ],
      "metadata": {
        "id": "AjIStCwYTng_"
      },
      "execution_count": 29,
      "outputs": []
    },
    {
      "cell_type": "code",
      "source": [
        "# parameters\n",
        "S = 100        # Current stock price\n",
        "K = 100        # Strike price\n",
        "r = 0.05       # Risk-free rate (1%)\n",
        "sigma = 0.2    # Volatility\n",
        "T = 3 / 12     # Time to expiration (3 months)\n",
        "n_steps = 63 # T * 255\n",
        "num_sim = 10000\n",
        "opttype='P'\n",
        "\n",
        "# Calculate the option price\n",
        "option_price = american_option_mc(S, K, r, sigma, T, n_steps, opttype, num_sim)\n",
        "print(f\"The estimated price of the American {opttype} option is: {option_price:.2f}\")"
      ],
      "metadata": {
        "colab": {
          "base_uri": "https://localhost:8080/"
        },
        "id": "DL3bQIjxb4Cu",
        "outputId": "a0907030-3103-470e-8a1f-2c6a1edecf6f"
      },
      "execution_count": 30,
      "outputs": [
        {
          "output_type": "stream",
          "name": "stdout",
          "text": [
            "The estimated price of the American P option is: 6.45\n"
          ]
        }
      ]
    },
    {
      "cell_type": "code",
      "source": [
        "%%time\n",
        "params = [100, 100, 0.05, 0.2, 3/12, 63]\n",
        "M = 11\n",
        "mc_steps = [1000 * 2**i for i in range(M)]\n",
        "np.random.seed(1)\n",
        "am_put_prices = [american_option_mc(*params, 'P', step) for step in mc_steps]"
      ],
      "metadata": {
        "colab": {
          "base_uri": "https://localhost:8080/"
        },
        "id": "f0TEKioocCFi",
        "outputId": "31aecb7d-f056-443e-eec7-2a7e009e5313"
      },
      "execution_count": 31,
      "outputs": [
        {
          "output_type": "stream",
          "name": "stdout",
          "text": [
            "CPU times: user 16.6 s, sys: 2.14 s, total: 18.8 s\n",
            "Wall time: 18.8 s\n"
          ]
        }
      ]
    },
    {
      "cell_type": "code",
      "source": [
        "mc_steps"
      ],
      "metadata": {
        "colab": {
          "base_uri": "https://localhost:8080/"
        },
        "id": "g1uUpH7fhEda",
        "outputId": "a1fed796-2953-4c56-aaa0-ada0a25ce833"
      },
      "execution_count": 32,
      "outputs": [
        {
          "output_type": "execute_result",
          "data": {
            "text/plain": [
              "[1000, 2000, 4000, 8000, 16000, 32000, 64000, 128000, 256000, 512000, 1024000]"
            ]
          },
          "metadata": {},
          "execution_count": 32
        }
      ]
    },
    {
      "cell_type": "code",
      "source": [
        "plt.figure(figsize=(14,8))\n",
        "plt.plot(range(M), am_put_prices, color='red', label='Put price with different steps', marker='o')\n",
        "plt.xlabel('M (N=1000 * 2**M steps)')\n",
        "plt.ylabel('Option price')\n",
        "plt.title('American options')\n",
        "plt.legend()\n",
        "plt.grid()"
      ],
      "metadata": {
        "colab": {
          "base_uri": "https://localhost:8080/",
          "height": 718
        },
        "id": "7uoW3ineg-iI",
        "outputId": "d5a20af5-daa5-4ae1-9e8a-69aa0c8a1695"
      },
      "execution_count": 33,
      "outputs": [
        {
          "output_type": "display_data",
          "data": {
            "text/plain": [
              "<Figure size 1400x800 with 1 Axes>"
            ],
            "image/png": "[encoded data removed]"
          },
          "metadata": {}
        }
      ]
    },
    {
      "cell_type": "code",
      "source": [
        "am_put_prices[-1]"
      ],
      "metadata": {
        "colab": {
          "base_uri": "https://localhost:8080/"
        },
        "id": "FI4zYV1sgh5K",
        "outputId": "0f9560ae-ceac-4e3b-c091-2d6378bbf3ce"
      },
      "execution_count": 34,
      "outputs": [
        {
          "output_type": "execute_result",
          "data": {
            "text/plain": [
              "6.46212047244384"
            ]
          },
          "metadata": {},
          "execution_count": 34
        }
      ]
    },
    {
      "cell_type": "markdown",
      "source": [
        "### Delta for ATM American put using MC methods"
      ],
      "metadata": {
        "id": "fpZH55rGmaEF"
      }
    },
    {
      "cell_type": "code",
      "source": [
        "S1 = 100\n",
        "S2 = S1 + 0.5\n",
        "np.random.seed(10)\n",
        "P1 = np.round(american_option_mc(*[S1, 100, 0.05, 0.2, 3/12, 63], 'P', 1000 * 2**9), 3)\n",
        "np.random.seed(10)\n",
        "P2 = np.round(american_option_mc(*[S2, 100, 0.05, 0.2, 3/12, 63], 'P', 1000 * 2**9), 3)\n",
        "print(\"Monte Carlo Put Price for S0 = 100:\", P1)\n",
        "print(\"Monte Carlo Put Price for S0 = 100.5:\", P2)\n",
        "print(\"MC Delta for Put:\", np.round((P2 - P1) / (S2 - S1), 3))"
      ],
      "metadata": {
        "colab": {
          "base_uri": "https://localhost:8080/"
        },
        "id": "MgsPm2VDmdNm",
        "outputId": "f789e836-c5e6-49ef-ad91-6c7ec6cbdc40"
      },
      "execution_count": 35,
      "outputs": [
        {
          "output_type": "stream",
          "name": "stdout",
          "text": [
            "Monte Carlo Put Price for S0 = 100: 6.462\n",
            "Monte Carlo Put Price for S0 = 100.5: 6.046\n",
            "MC Delta for Put: -0.832\n"
          ]
        }
      ]
    },
    {
      "cell_type": "markdown",
      "source": [
        "### Vega for ATM American put using MC methods"
      ],
      "metadata": {
        "id": "7hX9wZM1oBl7"
      }
    },
    {
      "cell_type": "code",
      "source": [
        "sig1 = 0.2\n",
        "sig2 = sig1 + 0.05\n",
        "np.random.seed(10)\n",
        "P1 = np.round(american_option_mc(*[100, 100, 0.05, sig1, 3/12, 63], 'P', 1000 * 2**9), 3)\n",
        "np.random.seed(10)\n",
        "P2 = np.round(american_option_mc(*[100, 100, 0.05, sig2, 3/12, 63], 'P', 1000 * 2**9), 3)\n",
        "print(\"Monte Carlo Put Price for S0 = 100:\", P1)\n",
        "print(\"Monte Carlo Put Price for S0 = 100.5:\", P2)\n",
        "print(\"MC Vega for Put:\", np.round((P2 - P1) / (sig2 - sig1), 3))"
      ],
      "metadata": {
        "colab": {
          "base_uri": "https://localhost:8080/"
        },
        "id": "ovYvJ_s1oDXr",
        "outputId": "be044ec9-dc0e-4678-c68a-f71fc25e9b71"
      },
      "execution_count": 36,
      "outputs": [
        {
          "output_type": "stream",
          "name": "stdout",
          "text": [
            "Monte Carlo Put Price for S0 = 100: 6.469\n",
            "Monte Carlo Put Price for S0 = 100.5: 8.179\n",
            "MC Vega for Put: 34.2\n"
          ]
        }
      ]
    },
    {
      "cell_type": "markdown",
      "source": [
        "## Q6:"
      ],
      "metadata": {
        "id": "_pv4yHVlpep0"
      }
    },
    {
      "cell_type": "code",
      "source": [
        "\n",
        "# Input data\n",
        "S0 = 100  # Initial stock price\n",
        "r = 0.05  # Risk-free rate\n",
        "sigma = 0.2  # Volatility\n",
        "T = 3/12  # Time to maturity (3 months)\n",
        "K_values = [110, 105, 100, 95, 90]  # Strike prices\n",
        "strike_prices = {110: 'Deep OTM: ', 105: 'OTM: ', 100: 'ATM: ', 95: 'ITM: ', 90: 'Deep ITM: '}\n",
        "N = 63  # Number of time steps (daily)\n",
        "M = 100000  # Number of simulations\n",
        "\n",
        "dt = T / N  # Time step\n",
        "\n",
        "# Function to simulate stock price paths\n",
        "def simulate_stock_paths(S0, r, sigma, T, N, M):\n",
        "    dt = T / N\n",
        "    Z = np.random.standard_normal((N, M))\n",
        "    S = np.zeros((N + 1, M))\n",
        "    S[0] = S0\n",
        "    for t in range(1, N + 1):\n",
        "        S[t] = S[t - 1] * np.exp((r - 0.5 * sigma ** 2) * dt + sigma * np.sqrt(dt) * Z[t - 1])\n",
        "    return S\n",
        "\n",
        "# Function to price American Call and Put options using Monte Carlo\n",
        "def price_american_option(S0, K, r, sigma, T, N, M, option_type='call'):\n",
        "    S = simulate_stock_paths(S0, r, sigma, T, N, M)\n",
        "    payoff = np.maximum(S - K if option_type == 'call' else K - S, 0)\n",
        "    option_price = np.zeros(M)\n",
        "\n",
        "    for i in range(M):\n",
        "        intrinsic_value = payoff[:, i]\n",
        "        option_value = np.zeros(N + 1)\n",
        "        option_value[-1] = intrinsic_value[-1]\n",
        "        for t in range(N - 1, -1, -1):\n",
        "            continuation_value = np.exp(-r * dt) * option_value[t + 1]\n",
        "            option_value[t] = np.maximum(intrinsic_value[t], continuation_value)\n",
        "        option_price[i] = option_value[0]\n",
        "\n",
        "    return np.mean(option_price) * np.exp(-r * T)\n",
        "\n",
        "# Calculate prices for American Call and Put options\n",
        "for K in K_values:\n",
        "    call_price = price_american_option(S0, K, r, sigma, T, N, M, option_type='call')\n",
        "    put_price = price_american_option(S0, K, r, sigma, T, N, M, option_type='put')\n",
        "    print(f\"Strike Price: {strike_prices[K]} {K}\")\n",
        "    print(f\"American Call Price: {call_price:.2f}\")\n",
        "    print(f\"American Put Price: {put_price:.2f}\")\n",
        "    print()\n"
      ],
      "metadata": {
        "colab": {
          "base_uri": "https://localhost:8080/"
        },
        "id": "_d7dqq2FpheG",
        "outputId": "c63e2db4-6d1e-4d6c-873b-95d4d5b8254a"
      },
      "execution_count": 62,
      "outputs": [
        {
          "output_type": "stream",
          "name": "stdout",
          "text": [
            "Strike Price: Deep OTM:  110\n",
            "American Call Price: 1.97\n",
            "American Put Price: 16.21\n",
            "\n",
            "Strike Price: OTM:  105\n",
            "American Call Price: 4.24\n",
            "American Put Price: 11.28\n",
            "\n",
            "Strike Price: ATM:  100\n",
            "American Call Price: 8.03\n",
            "American Put Price: 6.38\n",
            "\n",
            "Strike Price: ITM:  95\n",
            "American Call Price: 12.89\n",
            "American Put Price: 2.81\n",
            "\n",
            "Strike Price: Deep ITM:  90\n",
            "American Call Price: 17.83\n",
            "American Put Price: 0.98\n",
            "\n"
          ]
        }
      ]
    },
    {
      "cell_type": "code",
      "source": [
        "\n",
        "\n",
        "# Provided data\n",
        "strike_prices = [110, 105, 100, 95, 90]\n",
        "call_prices = [1.98, 4.30, 7.97, 12.79, 17.73]\n",
        "put_prices = [16.27, 11.33, 6.35, 2.80, 0.98]\n",
        "\n",
        "# Calculate moneyness (K/S0) where S0 = 100\n",
        "S0 = 100\n",
        "moneyness = [K / S0 for K in strike_prices]\n",
        "\n",
        "# Plotting the relationship\n",
        "plt.figure(figsize=(10, 6))\n",
        "\n",
        "plt.plot(moneyness, call_prices, marker='o', linestyle='-', color='b')\n",
        "# plt.plot(moneyness, put_prices, marker='o', linestyle='-', color='r', label='Put Prices')\n",
        "\n",
        "plt.xlabel('Moneyness (K/S0)')\n",
        "plt.ylabel('Option Price')\n",
        "plt.title('Option Prices vs Moneyness: Call prices')\n",
        "plt.legend()\n",
        "plt.grid(True)\n",
        "\n",
        "plt.show()\n"
      ],
      "metadata": {
        "id": "y7t5kcOir6tr",
        "colab": {
          "base_uri": "https://localhost:8080/",
          "height": 581
        },
        "outputId": "c86ef391-9921-41fd-9c77-dfa447756486"
      },
      "execution_count": 63,
      "outputs": [
        {
          "output_type": "stream",
          "name": "stderr",
          "text": [
            "WARNING:matplotlib.legend:No artists with labels found to put in legend.  Note that artists whose label start with an underscore are ignored when legend() is called with no argument.\n"
          ]
        },
        {
          "output_type": "display_data",
          "data": {
            "text/plain": [
              "<Figure size 1000x600 with 1 Axes>"
            ],
            "image/png": "[encoded data removed]"
          },
          "metadata": {}
        }
      ]
    },
    {
      "cell_type": "code",
      "source": [
        "# Provided data\n",
        "strike_prices = [110, 105, 100, 95, 90]\n",
        "call_prices = [1.98, 4.30, 7.97, 12.79, 17.73]\n",
        "put_prices = [16.27, 11.33, 6.35, 2.80, 0.98]\n",
        "\n",
        "# Calculate moneyness (K/S0) where S0 = 100\n",
        "S0 = 100\n",
        "moneyness = [K / S0 for K in strike_prices]\n",
        "\n",
        "# Plotting the relationship\n",
        "plt.figure(figsize=(10, 6))\n",
        "\n",
        "# plt.plot(moneyness, call_prices, marker='o', linestyle='-', color='b', label='Call Prices')\n",
        "plt.plot(moneyness, put_prices, marker='o', linestyle='-', color='r')\n",
        "\n",
        "plt.xlabel('Moneyness (K/S0)')\n",
        "plt.ylabel('Option Price')\n",
        "plt.title('Option Prices vs Moneyness: Put Prices')\n",
        "plt.legend()\n",
        "plt.grid(True)\n",
        "\n",
        "plt.show()\n"
      ],
      "metadata": {
        "id": "kgNoLdUTtR8W",
        "colab": {
          "base_uri": "https://localhost:8080/",
          "height": 581
        },
        "outputId": "fee042c3-370e-43d5-c233-e80301f41ddd"
      },
      "execution_count": 64,
      "outputs": [
        {
          "output_type": "stream",
          "name": "stderr",
          "text": [
            "WARNING:matplotlib.legend:No artists with labels found to put in legend.  Note that artists whose label start with an underscore are ignored when legend() is called with no argument.\n"
          ]
        },
        {
          "output_type": "display_data",
          "data": {
            "text/plain": [
              "<Figure size 1000x600 with 1 Axes>"
            ],
            "image/png": "[encoded data removed]"
          },
          "metadata": {}
        }
      ]
    },
    {
      "cell_type": "code",
      "source": [
        "int(T * 255)"
      ],
      "metadata": {
        "id": "BpUEYq2wXbrY",
        "colab": {
          "base_uri": "https://localhost:8080/"
        },
        "outputId": "e962cd8e-0810-480c-bc44-67e1ddf06f91"
      },
      "execution_count": 45,
      "outputs": [
        {
          "output_type": "execute_result",
          "data": {
            "text/plain": [
              "63"
            ]
          },
          "metadata": {},
          "execution_count": 45
        }
      ]
    },
    {
      "cell_type": "markdown",
      "source": [
        "# Step 3"
      ],
      "metadata": {
        "id": "paT000YwGlhE"
      }
    },
    {
      "cell_type": "markdown",
      "source": [
        "## Q7"
      ],
      "metadata": {
        "id": "ZwDdVhuaIQec"
      }
    },
    {
      "cell_type": "markdown",
      "source": [
        "### a. Pricing European call and Put option using 110% and 95% moneyness respectively"
      ],
      "metadata": {
        "id": "HzMC86jGL4lQ"
      }
    },
    {
      "cell_type": "code",
      "source": [
        "def BS_European_pricing_Q7(S, K, T, r, vol, option_type):\n",
        "  #Calculating d1 & d2\n",
        "  d1 = (np.log(S / K) + (r + 0.5 * vol**2) * T) / (vol * np.sqrt(T))\n",
        "  d2 = d1 - vol * np.sqrt(T)\n",
        "\n",
        "  if option_type in [\"C\", \"P\"]:\n",
        "      if option_type in [\"C\"]:\n",
        "          Opt_Price_Q7 = S * ss.norm.cdf(d1) - K * np.exp(-r * T) * ss.norm.cdf(d2)\n",
        "\n",
        "\n",
        "      else:\n",
        "        Opt_Price_Q7 = K * np.exp(-r * T) * ss.norm.cdf(-d2) - S * ss.norm.cdf(-d1)\n",
        "\n",
        "\n",
        "  else:\n",
        "    return \"Error: option type incorrect. Choose P for a put option or C for a call option.\"\n",
        "\n",
        "  return Opt_Price_Q7\n"
      ],
      "metadata": {
        "id": "V147ZMvEGn93"
      },
      "execution_count": 46,
      "outputs": []
    },
    {
      "cell_type": "code",
      "source": [
        "# European Call option Price using BS and 110% moneyness\n",
        "Opt_Price_Q7 = BS_European_pricing_Q7(100, 110, 0.25, 0.05, 0.20, 'C')\n",
        "print(\"Option price for call option with 110% moneyness = {:.2f}\".format(Opt_Price_Q7))\n"
      ],
      "metadata": {
        "id": "1Hm8Hi0hJ5lP",
        "colab": {
          "base_uri": "https://localhost:8080/"
        },
        "outputId": "884ab846-f71b-4df5-d1a1-b091ca8deef4"
      },
      "execution_count": 47,
      "outputs": [
        {
          "output_type": "stream",
          "name": "stdout",
          "text": [
            "Option price for call option with 110% moneyness = 1.19\n"
          ]
        }
      ]
    },
    {
      "cell_type": "code",
      "source": [
        "# European Put option Price using BS and 95% moneyness\n",
        "Opt_Price_Q7= BS_European_pricing_Q7(100, 95, 0.25, 0.05, 0.20, 'P')\n",
        "print(\"Option price for Put option with 95% moneyness = {:.2f}\".format(Opt_Price_Q7))\n"
      ],
      "metadata": {
        "id": "iEAYbjmyJ7PB",
        "colab": {
          "base_uri": "https://localhost:8080/"
        },
        "outputId": "80402b8b-3561-43c0-e7f8-a47aa67ea827"
      },
      "execution_count": 48,
      "outputs": [
        {
          "output_type": "stream",
          "name": "stdout",
          "text": [
            "Option price for Put option with 95% moneyness = 1.53\n"
          ]
        }
      ]
    },
    {
      "cell_type": "markdown",
      "source": [
        "### Calculating Deltas"
      ],
      "metadata": {
        "id": "F9FzUCGxasQA"
      }
    },
    {
      "cell_type": "code",
      "source": [
        "def BS_European_pricing_delta(S, K, T, r, vol, option_type):\n",
        "  #Calculating d1 & d2\n",
        "  d1 = (np.log(S / K) + (r + 0.5 * vol**2) * T) / (vol * np.sqrt(T))\n",
        "  d2 = d1 - vol * np.sqrt(T)\n",
        "\n",
        "  if option_type in [\"C\", \"P\"]:\n",
        "      if option_type in [\"C\"]:\n",
        "          Delta_Q7 = ss.norm.cdf(d1)\n",
        "\n",
        "      else:\n",
        "        Delta_Q7 = -ss.norm.cdf(-d1)\n",
        "\n",
        "  else:\n",
        "    return \"Error: option type incorrect. Choose P for a put option or C for a call option.\"\n",
        "\n",
        "  return Delta_Q7\n"
      ],
      "metadata": {
        "id": "Awv78Ceiao_v"
      },
      "execution_count": 49,
      "outputs": []
    },
    {
      "cell_type": "code",
      "source": [
        "# European Call delta using BS\n",
        "Delta_Q7 = BS_European_pricing_delta(100, 110, 0.25, 0.05, 0.20, 'C')\n",
        "Delta_C = Delta_Q7\n",
        "print(\"Delta for call option at moneyness 110% = {:.2f}\".format(Delta_Q7))\n"
      ],
      "metadata": {
        "id": "-p8qTZwAp61a",
        "colab": {
          "base_uri": "https://localhost:8080/"
        },
        "outputId": "fcdf304b-f6d1-49b1-e4ac-5676e4df754f"
      },
      "execution_count": 50,
      "outputs": [
        {
          "output_type": "stream",
          "name": "stdout",
          "text": [
            "Delta for call option at moneyness 110% = 0.22\n"
          ]
        }
      ]
    },
    {
      "cell_type": "code",
      "source": [
        "# European Put delta using BS\n",
        "Delta_Q7 = BS_European_pricing_delta(100, 95, 0.25, 0.05, 0.20, 'P')\n",
        "Delta_P = Delta_Q7\n",
        "print(\"Delta for Put option at moneyness 95% = {:.2f}\".format(Delta_Q7))"
      ],
      "metadata": {
        "id": "-4-FOwYKp-9m",
        "colab": {
          "base_uri": "https://localhost:8080/"
        },
        "outputId": "c24d4c36-dbd7-4f9a-e6c4-02029f7284d8"
      },
      "execution_count": 51,
      "outputs": [
        {
          "output_type": "stream",
          "name": "stdout",
          "text": [
            "Delta for Put option at moneyness 95% = -0.25\n"
          ]
        }
      ]
    },
    {
      "cell_type": "markdown",
      "source": [
        "### b. Delta of the buying portfolio"
      ],
      "metadata": {
        "id": "1qcE9XIaPWOF"
      }
    },
    {
      "cell_type": "code",
      "source": [
        "Portfolio1_delta = Delta_C + Delta_P\n",
        "print(f\"Portfolio delta : {Portfolio1_delta:.2f}\")"
      ],
      "metadata": {
        "id": "mcL6A_vbQf3b",
        "colab": {
          "base_uri": "https://localhost:8080/"
        },
        "outputId": "987ed7c9-3ac4-4ea7-873a-2579a208546b"
      },
      "execution_count": 52,
      "outputs": [
        {
          "output_type": "stream",
          "name": "stdout",
          "text": [
            "Portfolio delta : -0.03\n"
          ]
        }
      ]
    },
    {
      "cell_type": "markdown",
      "source": [
        "### c. Delta of the buying call and selling put portfolio"
      ],
      "metadata": {
        "id": "ykpWvNtgSvkl"
      }
    },
    {
      "cell_type": "code",
      "source": [
        "Portfolio2_delta = Delta_C - Delta_P\n",
        "print(f\"Portfolio delta : {Portfolio2_delta:.2f}\")"
      ],
      "metadata": {
        "id": "YKRZVaFVSaH0",
        "colab": {
          "base_uri": "https://localhost:8080/"
        },
        "outputId": "a43a9a69-1206-4098-a6c9-8fbb19cff9d0"
      },
      "execution_count": 53,
      "outputs": [
        {
          "output_type": "stream",
          "name": "stdout",
          "text": [
            "Portfolio delta : 0.46\n"
          ]
        }
      ]
    },
    {
      "cell_type": "code",
      "source": [],
      "metadata": {
        "id": "6oQ47eQxqE1_"
      },
      "execution_count": 53,
      "outputs": []
    },
    {
      "cell_type": "code",
      "source": [],
      "metadata": {
        "id": "5-tz1qfgz4nz"
      },
      "execution_count": 53,
      "outputs": []
    },
    {
      "cell_type": "markdown",
      "source": [
        "## Q8"
      ],
      "metadata": {
        "id": "mp8LiXfsuoHT"
      }
    },
    {
      "cell_type": "markdown",
      "source": [
        "### Monte-Carlo methods with daily time steps to price an Up-and-Out (UAO) barrier option.\n",
        "\n",
        "The option is currently ATM with a barrier level of B=141 and:\n",
        "\n",
        "$S_0 = 120; r = 6\\%; σ = 30\\%; T = 8$ months"
      ],
      "metadata": {
        "id": "nSIf-2xxuwAq"
      }
    },
    {
      "cell_type": "code",
      "source": [
        "def barier_opt(S: float, K: float, B: float, r: float, sigma: float, T: float, num_steps: int, N: int):\n",
        "\n",
        "    dt = T / num_steps\n",
        "    discount_factor = np.exp(-r * dt)\n",
        "\n",
        "    # Initialize price paths\n",
        "    price_paths = np.zeros((N, num_steps + 1))\n",
        "    price_paths[:, 0] = S\n",
        "\n",
        "    # Generate price paths\n",
        "    for t in range(1, num_steps + 1):\n",
        "        z = np.random.standard_normal(N)\n",
        "        price_paths[:, t] = price_paths[:, t-1] * np.exp((r - 0.5 * sigma**2) * dt + sigma * np.sqrt(dt) * z)\n",
        "\n",
        "    # Up-and-Out (UAO) barrier call option\n",
        "    condition = (np.max(price_paths, axis=1) - B < 0)\n",
        "    price_paths_out = price_paths[condition, :]\n",
        "\n",
        "    # Like call option:\n",
        "    option_values = np.maximum(price_paths_out[:, -1] - K, 0)\n",
        "\n",
        "    option_value = np.sum(option_values) / N * np.exp(-r * T)\n",
        "\n",
        "    return option_value"
      ],
      "metadata": {
        "id": "wCAiUITpupgx"
      },
      "execution_count": 54,
      "outputs": []
    },
    {
      "cell_type": "code",
      "source": [
        "%%time\n",
        "params = [120, 120, 141, 0.06, 0.3, 8/12, 170]\n",
        "M = 9\n",
        "mc_steps = [1000 * 2**i for i in range(M)]\n",
        "np.random.seed(10)\n",
        "out_call_prices = [barier_opt(*params, step) for step in mc_steps]"
      ],
      "metadata": {
        "id": "xLwuji970KlJ",
        "colab": {
          "base_uri": "https://localhost:8080/"
        },
        "outputId": "b20f5832-f591-48e5-c05f-cf1639559d69"
      },
      "execution_count": 55,
      "outputs": [
        {
          "output_type": "stream",
          "name": "stdout",
          "text": [
            "CPU times: user 7.41 s, sys: 441 ms, total: 7.85 s\n",
            "Wall time: 7.84 s\n"
          ]
        }
      ]
    },
    {
      "cell_type": "code",
      "source": [
        "plt.figure(figsize=(14,8))\n",
        "plt.plot(range(M), out_call_prices, color='red', label='Up-and-Out call price with different steps', marker='o')\n",
        "plt.xlabel('M (N=1000 * 2**M steps)')\n",
        "plt.ylabel('Option price')\n",
        "plt.title('Up-and-Out option')\n",
        "plt.legend()\n",
        "plt.grid()"
      ],
      "metadata": {
        "id": "FiSIHmIFvi7s",
        "colab": {
          "base_uri": "https://localhost:8080/",
          "height": 718
        },
        "outputId": "7455995c-d3e6-4718-99a0-e03efc030346"
      },
      "execution_count": 56,
      "outputs": [
        {
          "output_type": "display_data",
          "data": {
            "text/plain": [
              "<Figure size 1400x800 with 1 Axes>"
            ],
            "image/png": "[encoded data removed]"
          },
          "metadata": {}
        }
      ]
    },
    {
      "cell_type": "code",
      "source": [
        "out_call_prices[-1]"
      ],
      "metadata": {
        "id": "0QO4cZx-1A9T",
        "colab": {
          "base_uri": "https://localhost:8080/"
        },
        "outputId": "9fbaefdf-4db4-4c27-81d4-494b390d192f"
      },
      "execution_count": 57,
      "outputs": [
        {
          "output_type": "execute_result",
          "data": {
            "text/plain": [
              "0.7047612357416608"
            ]
          },
          "metadata": {},
          "execution_count": 57
        }
      ]
    },
    {
      "cell_type": "markdown",
      "source": [
        "## Q9"
      ],
      "metadata": {
        "id": "zz619YHWaVSj"
      }
    },
    {
      "cell_type": "markdown",
      "source": [
        "a. Pricing of the Up and In Barrier option"
      ],
      "metadata": {
        "id": "ZL-2eefRaugP"
      }
    },
    {
      "cell_type": "code",
      "source": [
        "def barrier_opt_uai(S, K, B, r, sigma, T, num_steps, N):\n",
        "    dt = T / num_steps\n",
        "    discount_factor = np.exp(-r * T)\n",
        "\n",
        "    # Initialize price paths\n",
        "    price_paths = np.zeros((N, num_steps + 1))\n",
        "    price_paths[:, 0] = S\n",
        "\n",
        "    # Generate price paths\n",
        "    for t in range(1, num_steps + 1):\n",
        "        z = np.random.standard_normal(N)\n",
        "        price_paths[:, t] = price_paths[:, t-1] * np.exp((r - 0.5 * sigma**2) * dt + sigma * np.sqrt(dt) * z)\n",
        "\n",
        "    # Up-and-In (UAI) barrier call option\n",
        "    condition = (np.max(price_paths, axis=1) >= B)\n",
        "    price_paths_in = price_paths[condition, :]\n",
        "\n",
        "    # Like call option:\n",
        "    option_values = np.maximum(price_paths_in[:, -1] - K, 0)\n",
        "\n",
        "    option_value = np.sum(option_values) / N * discount_factor\n",
        "\n",
        "    return option_value"
      ],
      "metadata": {
        "id": "jL_pKeUU1CHg"
      },
      "execution_count": 58,
      "outputs": []
    },
    {
      "cell_type": "code",
      "source": [
        "# Parameters\n",
        "S0 = 120\n",
        "K = 120\n",
        "B = 141\n",
        "r = 0.06\n",
        "sigma = 0.30\n",
        "T = 8/12\n",
        "num_steps = 252\n",
        "N = 10000\n",
        "\n",
        "# Compute the price\n",
        "uai_price = barrier_opt_uai(S0, K, B, r, sigma, T, num_steps, N)\n",
        "print(f\"Up-and-In Barrier Call Option Price: {uai_price:.2f}\")"
      ],
      "metadata": {
        "colab": {
          "base_uri": "https://localhost:8080/"
        },
        "id": "gRv86n_KacZO",
        "outputId": "4811f565-2801-47b8-8803-e97e33148200"
      },
      "execution_count": 59,
      "outputs": [
        {
          "output_type": "stream",
          "name": "stdout",
          "text": [
            "Up-and-In Barrier Call Option Price: 13.18\n"
          ]
        }
      ]
    },
    {
      "cell_type": "markdown",
      "source": [
        "b. Pricing of the vanila option"
      ],
      "metadata": {
        "id": "seYsOHjba2a2"
      }
    },
    {
      "cell_type": "code",
      "source": [
        "\n",
        "def vanilla_call_option(S, K, r, sigma, T, num_steps, N):\n",
        "    dt = T / num_steps\n",
        "    discount_factor = np.exp(-r * T)\n",
        "\n",
        "    # Initialize price paths\n",
        "    price_paths = np.zeros((N, num_steps + 1))\n",
        "    price_paths[:, 0] = S\n",
        "\n",
        "    # Generate price paths\n",
        "    for t in range(1, num_steps + 1):\n",
        "        z = np.random.standard_normal(N)\n",
        "        price_paths[:, t] = price_paths[:, t-1] * np.exp((r - 0.5 * sigma**2) * dt + sigma * np.sqrt(dt) * z)\n",
        "\n",
        "    # Vanilla call option\n",
        "    option_values = np.maximum(price_paths[:, -1] - K, 0)\n",
        "\n",
        "    option_value = np.sum(option_values) / N * discount_factor\n",
        "\n",
        "    return option_value"
      ],
      "metadata": {
        "id": "y1voMqzOamkB"
      },
      "execution_count": 60,
      "outputs": []
    },
    {
      "cell_type": "code",
      "source": [
        "# Parameters\n",
        "S0 = 120\n",
        "K = 120\n",
        "B = 141\n",
        "r = 0.06\n",
        "sigma = 0.30\n",
        "T = 8/12\n",
        "num_steps = 252\n",
        "N = 10000\n",
        "\n",
        "# Compute the price\n",
        "vanilla_price = vanilla_call_option(S0, K, r, sigma, T, num_steps, N)\n",
        "\n",
        "print(f\"Vanilla Call Option Price: {vanilla_price:.2f}\")"
      ],
      "metadata": {
        "colab": {
          "base_uri": "https://localhost:8080/"
        },
        "id": "euXZJAlSa-yr",
        "outputId": "e6975a61-76a6-4d67-bbca-03eececc8a10"
      },
      "execution_count": 61,
      "outputs": [
        {
          "output_type": "stream",
          "name": "stdout",
          "text": [
            "Vanilla Call Option Price: 14.23\n"
          ]
        }
      ]
    },
    {
      "cell_type": "code",
      "source": [],
      "metadata": {
        "id": "Vvz_GwVsbNMx"
      },
      "execution_count": 61,
      "outputs": []
    }
  ]
}