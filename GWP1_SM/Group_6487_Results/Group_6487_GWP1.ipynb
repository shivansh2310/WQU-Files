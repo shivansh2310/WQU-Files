{
  "cells": [
    {
      "cell_type": "markdown",
      "metadata": {
        "id": "wSmsZbXyNUc5"
      },
      "source": [
        "# Step 1"
      ]
    },
    {
      "cell_type": "markdown",
      "metadata": {
        "id": "Yik3eWC-idii"
      },
      "source": [
        "As Our client is looking for a very short maturity for her derivative\n",
        "(around 15 days). we are going to calibrate a Classic Heston (1993) model (without jumps) to the observed market prices for both call and put options. we will use the Lewis (2001) approach with a regular MSE error function. We are considering a constant annual risk-rate of 1.50%. And We are also assuming 1 year have 250 trading days."
      ]
    },
    {
      "cell_type": "markdown",
      "metadata": {
        "id": "UUcihEzINZ69"
      },
      "source": [
        "## 1.a Calibrating Heston (1993) Model Via Lewis (2001) Appraoch\n",
        "\n"
      ]
    },
    {
      "cell_type": "code",
      "execution_count": 12,
      "metadata": {
        "id": "LQ4smNRg2VFs"
      },
      "outputs": [
        {
          "name": "stdout",
          "output_type": "stream",
          "text": [
            "Collecting skimpy\n",
            "  Using cached skimpy-0.0.15-py3-none-any.whl.metadata (28 kB)\n",
            "Requirement already satisfied: Pygments<3.0.0,>=2.10.0 in c:\\users\\lenovo\\appdata\\local\\programs\\python\\python311\\lib\\site-packages (from skimpy) (2.15.1)\n",
            "Requirement already satisfied: click<9.0.0,>=8.1.6 in c:\\users\\lenovo\\appdata\\local\\programs\\python\\python311\\lib\\site-packages (from skimpy) (8.1.7)\n",
            "Requirement already satisfied: ipykernel<7.0.0,>=6.7.0 in c:\\users\\lenovo\\appdata\\roaming\\python\\python311\\site-packages (from skimpy) (6.28.0)\n",
            "Requirement already satisfied: numpy<2.0.0,>=1.22.2 in c:\\users\\lenovo\\appdata\\local\\programs\\python\\python311\\lib\\site-packages (from skimpy) (1.26.4)\n",
            "Requirement already satisfied: pandas<3.0.0,>=2.0.3 in c:\\users\\lenovo\\appdata\\local\\programs\\python\\python311\\lib\\site-packages (from skimpy) (2.2.0)\n",
            "Collecting polars<0.21,>=0.19 (from skimpy)\n",
            "  Using cached polars-0.20.31-cp38-abi3-win_amd64.whl.metadata (14 kB)\n",
            "Requirement already satisfied: pyarrow<17,>=13 in c:\\users\\lenovo\\appdata\\local\\programs\\python\\python311\\lib\\site-packages (from skimpy) (15.0.0)\n",
            "Requirement already satisfied: rich<14.0,>=10.9 in c:\\users\\lenovo\\appdata\\local\\programs\\python\\python311\\lib\\site-packages (from skimpy) (13.3.5)\n",
            "Collecting typeguard==4.2.1 (from skimpy)\n",
            "  Using cached typeguard-4.2.1-py3-none-any.whl.metadata (3.7 kB)\n",
            "Collecting typing-extensions>=4.10.0 (from typeguard==4.2.1->skimpy)\n",
            "  Using cached typing_extensions-4.12.2-py3-none-any.whl.metadata (3.0 kB)\n",
            "Requirement already satisfied: colorama in c:\\users\\lenovo\\appdata\\local\\programs\\python\\python311\\lib\\site-packages (from click<9.0.0,>=8.1.6->skimpy) (0.4.6)\n",
            "Requirement already satisfied: comm>=0.1.1 in c:\\users\\lenovo\\appdata\\roaming\\python\\python311\\site-packages (from ipykernel<7.0.0,>=6.7.0->skimpy) (0.2.1)\n",
            "Requirement already satisfied: debugpy>=1.6.5 in c:\\users\\lenovo\\appdata\\roaming\\python\\python311\\site-packages (from ipykernel<7.0.0,>=6.7.0->skimpy) (1.8.0)\n",
            "Requirement already satisfied: ipython>=7.23.1 in c:\\users\\lenovo\\appdata\\roaming\\python\\python311\\site-packages (from ipykernel<7.0.0,>=6.7.0->skimpy) (8.20.0)\n",
            "Requirement already satisfied: jupyter-client>=6.1.12 in c:\\users\\lenovo\\appdata\\roaming\\python\\python311\\site-packages (from ipykernel<7.0.0,>=6.7.0->skimpy) (8.6.0)\n",
            "Requirement already satisfied: jupyter-core!=5.0.*,>=4.12 in c:\\users\\lenovo\\appdata\\roaming\\python\\python311\\site-packages (from ipykernel<7.0.0,>=6.7.0->skimpy) (5.7.1)\n",
            "Requirement already satisfied: matplotlib-inline>=0.1 in c:\\users\\lenovo\\appdata\\roaming\\python\\python311\\site-packages (from ipykernel<7.0.0,>=6.7.0->skimpy) (0.1.6)\n",
            "Requirement already satisfied: nest-asyncio in c:\\users\\lenovo\\appdata\\roaming\\python\\python311\\site-packages (from ipykernel<7.0.0,>=6.7.0->skimpy) (1.5.8)\n",
            "Requirement already satisfied: packaging in c:\\users\\lenovo\\appdata\\local\\programs\\python\\python311\\lib\\site-packages (from ipykernel<7.0.0,>=6.7.0->skimpy) (23.1)\n",
            "Requirement already satisfied: psutil in c:\\users\\lenovo\\appdata\\roaming\\python\\python311\\site-packages (from ipykernel<7.0.0,>=6.7.0->skimpy) (5.9.7)\n",
            "Requirement already satisfied: pyzmq>=24 in c:\\users\\lenovo\\appdata\\roaming\\python\\python311\\site-packages (from ipykernel<7.0.0,>=6.7.0->skimpy) (25.1.2)\n",
            "Requirement already satisfied: tornado>=6.1 in c:\\users\\lenovo\\appdata\\local\\programs\\python\\python311\\lib\\site-packages (from ipykernel<7.0.0,>=6.7.0->skimpy) (6.3.1)\n",
            "Requirement already satisfied: traitlets>=5.4.0 in c:\\users\\lenovo\\appdata\\roaming\\python\\python311\\site-packages (from ipykernel<7.0.0,>=6.7.0->skimpy) (5.14.1)\n",
            "Requirement already satisfied: python-dateutil>=2.8.2 in c:\\users\\lenovo\\appdata\\local\\programs\\python\\python311\\lib\\site-packages (from pandas<3.0.0,>=2.0.3->skimpy) (2.8.2)\n",
            "Requirement already satisfied: pytz>=2020.1 in c:\\users\\lenovo\\appdata\\local\\programs\\python\\python311\\lib\\site-packages (from pandas<3.0.0,>=2.0.3->skimpy) (2024.1)\n",
            "Requirement already satisfied: tzdata>=2022.7 in c:\\users\\lenovo\\appdata\\local\\programs\\python\\python311\\lib\\site-packages (from pandas<3.0.0,>=2.0.3->skimpy) (2024.1)\n",
            "Requirement already satisfied: markdown-it-py<3.0.0,>=2.2.0 in c:\\users\\lenovo\\appdata\\local\\programs\\python\\python311\\lib\\site-packages (from rich<14.0,>=10.9->skimpy) (2.2.0)\n",
            "Requirement already satisfied: decorator in c:\\users\\lenovo\\appdata\\local\\programs\\python\\python311\\lib\\site-packages (from ipython>=7.23.1->ipykernel<7.0.0,>=6.7.0->skimpy) (5.1.1)\n",
            "Requirement already satisfied: jedi>=0.16 in c:\\users\\lenovo\\appdata\\roaming\\python\\python311\\site-packages (from ipython>=7.23.1->ipykernel<7.0.0,>=6.7.0->skimpy) (0.19.1)\n",
            "Requirement already satisfied: prompt-toolkit<3.1.0,>=3.0.41 in c:\\users\\lenovo\\appdata\\roaming\\python\\python311\\site-packages (from ipython>=7.23.1->ipykernel<7.0.0,>=6.7.0->skimpy) (3.0.43)\n",
            "Requirement already satisfied: stack-data in c:\\users\\lenovo\\appdata\\roaming\\python\\python311\\site-packages (from ipython>=7.23.1->ipykernel<7.0.0,>=6.7.0->skimpy) (0.6.3)\n",
            "Requirement already satisfied: platformdirs>=2.5 in c:\\users\\lenovo\\appdata\\roaming\\python\\python311\\site-packages (from jupyter-core!=5.0.*,>=4.12->ipykernel<7.0.0,>=6.7.0->skimpy) (4.1.0)\n",
            "Requirement already satisfied: pywin32>=300 in c:\\users\\lenovo\\appdata\\local\\programs\\python\\python311\\lib\\site-packages (from jupyter-core!=5.0.*,>=4.12->ipykernel<7.0.0,>=6.7.0->skimpy) (306)\n",
            "Requirement already satisfied: mdurl~=0.1 in c:\\users\\lenovo\\appdata\\local\\programs\\python\\python311\\lib\\site-packages (from markdown-it-py<3.0.0,>=2.2.0->rich<14.0,>=10.9->skimpy) (0.1.2)\n",
            "Requirement already satisfied: six>=1.5 in c:\\users\\lenovo\\appdata\\local\\programs\\python\\python311\\lib\\site-packages (from python-dateutil>=2.8.2->pandas<3.0.0,>=2.0.3->skimpy) (1.16.0)\n",
            "Requirement already satisfied: parso<0.9.0,>=0.8.3 in c:\\users\\lenovo\\appdata\\roaming\\python\\python311\\site-packages (from jedi>=0.16->ipython>=7.23.1->ipykernel<7.0.0,>=6.7.0->skimpy) (0.8.3)\n",
            "Requirement already satisfied: wcwidth in c:\\users\\lenovo\\appdata\\roaming\\python\\python311\\site-packages (from prompt-toolkit<3.1.0,>=3.0.41->ipython>=7.23.1->ipykernel<7.0.0,>=6.7.0->skimpy) (0.2.13)\n",
            "Requirement already satisfied: executing>=1.2.0 in c:\\users\\lenovo\\appdata\\roaming\\python\\python311\\site-packages (from stack-data->ipython>=7.23.1->ipykernel<7.0.0,>=6.7.0->skimpy) (2.0.1)\n",
            "Requirement already satisfied: asttokens>=2.1.0 in c:\\users\\lenovo\\appdata\\roaming\\python\\python311\\site-packages (from stack-data->ipython>=7.23.1->ipykernel<7.0.0,>=6.7.0->skimpy) (2.4.1)\n",
            "Requirement already satisfied: pure-eval in c:\\users\\lenovo\\appdata\\roaming\\python\\python311\\site-packages (from stack-data->ipython>=7.23.1->ipykernel<7.0.0,>=6.7.0->skimpy) (0.2.2)\n",
            "Using cached skimpy-0.0.15-py3-none-any.whl (16 kB)\n",
            "Using cached typeguard-4.2.1-py3-none-any.whl (34 kB)\n",
            "Downloading polars-0.20.31-cp38-abi3-win_amd64.whl (28.8 MB)\n",
            "   ---------------------------------------- 0.0/28.8 MB ? eta -:--:--\n",
            "   ---------------------------------------- 0.0/28.8 MB 991.0 kB/s eta 0:00:30\n",
            "   ---------------------------------------- 0.1/28.8 MB 1.4 MB/s eta 0:00:20\n",
            "   ---------------------------------------- 0.3/28.8 MB 2.0 MB/s eta 0:00:15\n",
            "   ---------------------------------------- 0.3/28.8 MB 1.8 MB/s eta 0:00:17\n",
            "    --------------------------------------- 0.6/28.8 MB 2.3 MB/s eta 0:00:13\n",
            "   - -------------------------------------- 0.8/28.8 MB 3.0 MB/s eta 0:00:10\n",
            "   - -------------------------------------- 1.2/28.8 MB 3.4 MB/s eta 0:00:09\n",
            "   -- ------------------------------------- 1.5/28.8 MB 3.7 MB/s eta 0:00:08\n",
            "   -- ------------------------------------- 1.5/28.8 MB 3.7 MB/s eta 0:00:08\n",
            "   -- ------------------------------------- 1.7/28.8 MB 3.3 MB/s eta 0:00:09\n",
            "   -- ------------------------------------- 1.8/28.8 MB 3.3 MB/s eta 0:00:09\n",
            "   -- ------------------------------------- 2.0/28.8 MB 3.4 MB/s eta 0:00:08\n",
            "   --- ------------------------------------ 2.4/28.8 MB 3.7 MB/s eta 0:00:08\n",
            "   --- ------------------------------------ 2.5/28.8 MB 3.7 MB/s eta 0:00:08\n",
            "   --- ------------------------------------ 2.8/28.8 MB 3.8 MB/s eta 0:00:07\n",
            "   ---- ----------------------------------- 3.1/28.8 MB 3.9 MB/s eta 0:00:07\n",
            "   ---- ----------------------------------- 3.4/28.8 MB 4.1 MB/s eta 0:00:07\n",
            "   ---- ----------------------------------- 3.4/28.8 MB 3.9 MB/s eta 0:00:07\n",
            "   ----- ---------------------------------- 3.7/28.8 MB 3.9 MB/s eta 0:00:07\n",
            "   ----- ---------------------------------- 4.0/28.8 MB 4.1 MB/s eta 0:00:07\n",
            "   ------ --------------------------------- 4.3/28.8 MB 4.2 MB/s eta 0:00:06\n",
            "   ------ --------------------------------- 4.6/28.8 MB 4.4 MB/s eta 0:00:06\n",
            "   ------ --------------------------------- 4.9/28.8 MB 4.3 MB/s eta 0:00:06\n",
            "   ------- -------------------------------- 5.2/28.8 MB 4.5 MB/s eta 0:00:06\n",
            "   ------- -------------------------------- 5.6/28.8 MB 4.6 MB/s eta 0:00:06\n",
            "   ------- -------------------------------- 5.6/28.8 MB 4.6 MB/s eta 0:00:06\n",
            "   -------- ------------------------------- 5.8/28.8 MB 4.4 MB/s eta 0:00:06\n",
            "   -------- ------------------------------- 6.4/28.8 MB 4.4 MB/s eta 0:00:06\n",
            "   --------- ------------------------------ 6.9/28.8 MB 4.5 MB/s eta 0:00:05\n",
            "   --------- ------------------------------ 7.2/28.8 MB 4.6 MB/s eta 0:00:05\n",
            "   --------- ------------------------------ 7.2/28.8 MB 4.6 MB/s eta 0:00:05\n",
            "   ---------- ----------------------------- 7.5/28.8 MB 4.4 MB/s eta 0:00:05\n",
            "   ----------- ---------------------------- 8.5/28.8 MB 4.8 MB/s eta 0:00:05\n",
            "   ------------ --------------------------- 8.8/28.8 MB 4.8 MB/s eta 0:00:05\n",
            "   ------------ --------------------------- 9.0/28.8 MB 4.8 MB/s eta 0:00:05\n",
            "   ------------ --------------------------- 9.1/28.8 MB 4.5 MB/s eta 0:00:05\n",
            "   ------------- -------------------------- 9.9/28.8 MB 4.9 MB/s eta 0:00:04\n",
            "   -------------- ------------------------- 10.1/28.8 MB 4.7 MB/s eta 0:00:04\n",
            "   --------------- ------------------------ 11.2/28.8 MB 5.0 MB/s eta 0:00:04\n",
            "   ---------------- ----------------------- 11.9/28.8 MB 5.0 MB/s eta 0:00:04\n",
            "   ----------------- ---------------------- 12.7/28.8 MB 5.0 MB/s eta 0:00:04\n",
            "   ------------------ --------------------- 13.1/28.8 MB 5.0 MB/s eta 0:00:04\n",
            "   ------------------ --------------------- 13.4/28.8 MB 4.8 MB/s eta 0:00:04\n",
            "   ------------------- -------------------- 13.8/28.8 MB 4.8 MB/s eta 0:00:04\n",
            "   -------------------- ------------------- 14.6/28.8 MB 4.5 MB/s eta 0:00:04\n",
            "   -------------------- ------------------- 15.0/28.8 MB 4.5 MB/s eta 0:00:04\n",
            "   --------------------- ------------------ 15.6/28.8 MB 4.3 MB/s eta 0:00:04\n",
            "   ---------------------- ----------------- 16.2/28.8 MB 4.4 MB/s eta 0:00:03\n",
            "   ---------------------- ----------------- 16.5/28.8 MB 4.4 MB/s eta 0:00:03\n",
            "   ----------------------- ---------------- 16.7/28.8 MB 4.4 MB/s eta 0:00:03\n",
            "   ----------------------- ---------------- 16.8/28.8 MB 4.2 MB/s eta 0:00:03\n",
            "   ----------------------- ---------------- 17.1/28.8 MB 4.2 MB/s eta 0:00:03\n",
            "   ------------------------ --------------- 17.6/28.8 MB 4.3 MB/s eta 0:00:03\n",
            "   ------------------------ --------------- 17.7/28.8 MB 4.2 MB/s eta 0:00:03\n",
            "   ------------------------ --------------- 17.8/28.8 MB 4.2 MB/s eta 0:00:03\n",
            "   ------------------------- -------------- 18.0/28.8 MB 4.0 MB/s eta 0:00:03\n",
            "   ------------------------- -------------- 18.5/28.8 MB 3.9 MB/s eta 0:00:03\n",
            "   -------------------------- ------------- 18.8/28.8 MB 3.7 MB/s eta 0:00:03\n",
            "   -------------------------- ------------- 19.1/28.8 MB 3.6 MB/s eta 0:00:03\n",
            "   -------------------------- ------------- 19.2/28.8 MB 3.7 MB/s eta 0:00:03\n",
            "   --------------------------- ------------ 19.5/28.8 MB 3.7 MB/s eta 0:00:03\n",
            "   --------------------------- ------------ 19.7/28.8 MB 3.6 MB/s eta 0:00:03\n",
            "   --------------------------- ------------ 19.8/28.8 MB 3.5 MB/s eta 0:00:03\n",
            "   --------------------------- ------------ 20.0/28.8 MB 3.5 MB/s eta 0:00:03\n",
            "   ---------------------------- ----------- 20.2/28.8 MB 3.5 MB/s eta 0:00:03\n",
            "   ---------------------------- ----------- 20.4/28.8 MB 3.5 MB/s eta 0:00:03\n",
            "   ---------------------------- ----------- 20.5/28.8 MB 3.4 MB/s eta 0:00:03\n",
            "   ---------------------------- ----------- 20.8/28.8 MB 3.4 MB/s eta 0:00:03\n",
            "   ----------------------------- ---------- 21.0/28.8 MB 3.4 MB/s eta 0:00:03\n",
            "   ----------------------------- ---------- 21.2/28.8 MB 3.3 MB/s eta 0:00:03\n",
            "   ----------------------------- ---------- 21.4/28.8 MB 3.3 MB/s eta 0:00:03\n",
            "   ----------------------------- ---------- 21.4/28.8 MB 3.3 MB/s eta 0:00:03\n",
            "   ----------------------------- ---------- 21.6/28.8 MB 3.3 MB/s eta 0:00:03\n",
            "   ------------------------------ --------- 21.8/28.8 MB 3.2 MB/s eta 0:00:03\n",
            "   ------------------------------ --------- 22.0/28.8 MB 3.3 MB/s eta 0:00:03\n",
            "   ------------------------------ --------- 22.1/28.8 MB 3.2 MB/s eta 0:00:03\n",
            "   ------------------------------ --------- 22.3/28.8 MB 3.2 MB/s eta 0:00:03\n",
            "   ------------------------------ --------- 22.3/28.8 MB 3.2 MB/s eta 0:00:03\n",
            "   ------------------------------- -------- 22.6/28.8 MB 3.2 MB/s eta 0:00:02\n",
            "   ------------------------------- -------- 22.7/28.8 MB 3.1 MB/s eta 0:00:02\n",
            "   ------------------------------- -------- 22.8/28.8 MB 3.1 MB/s eta 0:00:02\n",
            "   ------------------------------- -------- 22.9/28.8 MB 3.1 MB/s eta 0:00:02\n",
            "   ------------------------------- -------- 23.0/28.8 MB 3.1 MB/s eta 0:00:02\n",
            "   -------------------------------- ------- 23.2/28.8 MB 3.1 MB/s eta 0:00:02\n",
            "   -------------------------------- ------- 23.4/28.8 MB 3.1 MB/s eta 0:00:02\n",
            "   -------------------------------- ------- 23.5/28.8 MB 3.1 MB/s eta 0:00:02\n",
            "   -------------------------------- ------- 23.5/28.8 MB 3.1 MB/s eta 0:00:02\n",
            "   -------------------------------- ------- 23.7/28.8 MB 3.1 MB/s eta 0:00:02\n",
            "   -------------------------------- ------- 23.8/28.8 MB 3.1 MB/s eta 0:00:02\n",
            "   --------------------------------- ------ 23.9/28.8 MB 3.1 MB/s eta 0:00:02\n",
            "   --------------------------------- ------ 24.1/28.8 MB 3.0 MB/s eta 0:00:02\n",
            "   --------------------------------- ------ 24.2/28.8 MB 3.0 MB/s eta 0:00:02\n",
            "   --------------------------------- ------ 24.3/28.8 MB 3.0 MB/s eta 0:00:02\n",
            "   --------------------------------- ------ 24.4/28.8 MB 3.0 MB/s eta 0:00:02\n",
            "   ---------------------------------- ----- 24.5/28.8 MB 3.0 MB/s eta 0:00:02\n",
            "   ---------------------------------- ----- 24.7/28.8 MB 3.0 MB/s eta 0:00:02\n",
            "   ---------------------------------- ----- 24.8/28.8 MB 3.0 MB/s eta 0:00:02\n",
            "   ---------------------------------- ----- 25.0/28.8 MB 3.0 MB/s eta 0:00:02\n",
            "   ---------------------------------- ----- 25.1/28.8 MB 3.0 MB/s eta 0:00:02\n",
            "   ----------------------------------- ---- 25.3/28.8 MB 2.9 MB/s eta 0:00:02\n",
            "   ----------------------------------- ---- 25.4/28.8 MB 2.9 MB/s eta 0:00:02\n",
            "   ----------------------------------- ---- 25.4/28.8 MB 2.9 MB/s eta 0:00:02\n",
            "   ----------------------------------- ---- 25.7/28.8 MB 2.9 MB/s eta 0:00:02\n",
            "   ----------------------------------- ---- 25.8/28.8 MB 2.9 MB/s eta 0:00:02\n",
            "   ----------------------------------- ---- 25.8/28.8 MB 2.9 MB/s eta 0:00:02\n",
            "   ----------------------------------- ---- 25.9/28.8 MB 2.8 MB/s eta 0:00:02\n",
            "   ----------------------------------- ---- 25.9/28.8 MB 2.8 MB/s eta 0:00:02\n",
            "   ------------------------------------ --- 26.0/28.8 MB 2.8 MB/s eta 0:00:01\n",
            "   ------------------------------------ --- 26.1/28.8 MB 2.8 MB/s eta 0:00:01\n",
            "   ------------------------------------ --- 26.2/28.8 MB 2.8 MB/s eta 0:00:01\n",
            "   ------------------------------------ --- 26.2/28.8 MB 2.7 MB/s eta 0:00:01\n",
            "   ------------------------------------ --- 26.3/28.8 MB 2.7 MB/s eta 0:00:01\n",
            "   ------------------------------------ --- 26.4/28.8 MB 2.7 MB/s eta 0:00:01\n",
            "   ------------------------------------ --- 26.5/28.8 MB 2.7 MB/s eta 0:00:01\n",
            "   ------------------------------------ --- 26.6/28.8 MB 2.7 MB/s eta 0:00:01\n",
            "   ------------------------------------ --- 26.6/28.8 MB 2.6 MB/s eta 0:00:01\n",
            "   ------------------------------------- -- 26.7/28.8 MB 2.6 MB/s eta 0:00:01\n",
            "   ------------------------------------- -- 26.8/28.8 MB 2.6 MB/s eta 0:00:01\n",
            "   ------------------------------------- -- 26.9/28.8 MB 2.6 MB/s eta 0:00:01\n",
            "   ------------------------------------- -- 27.0/28.8 MB 2.6 MB/s eta 0:00:01\n",
            "   ------------------------------------- -- 27.1/28.8 MB 2.6 MB/s eta 0:00:01\n",
            "   ------------------------------------- -- 27.1/28.8 MB 2.5 MB/s eta 0:00:01\n",
            "   ------------------------------------- -- 27.2/28.8 MB 2.5 MB/s eta 0:00:01\n",
            "   ------------------------------------- -- 27.3/28.8 MB 2.5 MB/s eta 0:00:01\n",
            "   ------------------------------------- -- 27.3/28.8 MB 2.5 MB/s eta 0:00:01\n",
            "   ------------------------------------- -- 27.4/28.8 MB 2.4 MB/s eta 0:00:01\n",
            "   ------------------------------------- -- 27.4/28.8 MB 2.4 MB/s eta 0:00:01\n",
            "   ------------------------------------- -- 27.4/28.8 MB 2.4 MB/s eta 0:00:01\n",
            "   -------------------------------------- - 27.4/28.8 MB 2.4 MB/s eta 0:00:01\n",
            "   -------------------------------------- - 27.5/28.8 MB 2.4 MB/s eta 0:00:01\n",
            "   -------------------------------------- - 27.5/28.8 MB 2.3 MB/s eta 0:00:01\n",
            "   -------------------------------------- - 27.6/28.8 MB 2.3 MB/s eta 0:00:01\n",
            "   -------------------------------------- - 27.7/28.8 MB 2.3 MB/s eta 0:00:01\n",
            "   -------------------------------------- - 27.7/28.8 MB 2.3 MB/s eta 0:00:01\n",
            "   -------------------------------------- - 27.8/28.8 MB 2.3 MB/s eta 0:00:01\n",
            "   -------------------------------------- - 27.8/28.8 MB 2.2 MB/s eta 0:00:01\n",
            "   -------------------------------------- - 27.9/28.8 MB 2.3 MB/s eta 0:00:01\n",
            "   -------------------------------------- - 28.0/28.8 MB 2.2 MB/s eta 0:00:01\n",
            "   -------------------------------------- - 28.1/28.8 MB 2.2 MB/s eta 0:00:01\n",
            "   -------------------------------------- - 28.1/28.8 MB 2.2 MB/s eta 0:00:01\n",
            "   ---------------------------------------  28.2/28.8 MB 2.2 MB/s eta 0:00:01\n",
            "   ---------------------------------------  28.3/28.8 MB 2.2 MB/s eta 0:00:01\n",
            "   ---------------------------------------  28.3/28.8 MB 2.2 MB/s eta 0:00:01\n",
            "   ---------------------------------------  28.4/28.8 MB 2.2 MB/s eta 0:00:01\n",
            "   ---------------------------------------  28.5/28.8 MB 2.2 MB/s eta 0:00:01\n",
            "   ---------------------------------------  28.5/28.8 MB 2.1 MB/s eta 0:00:01\n",
            "   ---------------------------------------  28.6/28.8 MB 2.1 MB/s eta 0:00:01\n",
            "   ---------------------------------------  28.7/28.8 MB 2.1 MB/s eta 0:00:01\n",
            "   ---------------------------------------  28.7/28.8 MB 2.1 MB/s eta 0:00:01\n",
            "   ---------------------------------------  28.8/28.8 MB 2.1 MB/s eta 0:00:01\n",
            "   ---------------------------------------  28.8/28.8 MB 2.1 MB/s eta 0:00:01\n",
            "   ---------------------------------------  28.8/28.8 MB 2.1 MB/s eta 0:00:01\n",
            "   ---------------------------------------  28.8/28.8 MB 2.1 MB/s eta 0:00:01\n",
            "   ---------------------------------------- 28.8/28.8 MB 2.0 MB/s eta 0:00:00\n",
            "Downloading typing_extensions-4.12.2-py3-none-any.whl (37 kB)\n",
            "Installing collected packages: typing-extensions, polars, typeguard, skimpy\n",
            "  Attempting uninstall: typing-extensions\n",
            "    Found existing installation: typing_extensions 4.5.0\n",
            "    Uninstalling typing_extensions-4.5.0:\n",
            "      Successfully uninstalled typing_extensions-4.5.0\n",
            "Successfully installed polars-0.20.31 skimpy-0.0.15 typeguard-4.2.1 typing-extensions-4.12.2\n",
            "Note: you may need to restart the kernel to use updated packages.\n"
          ]
        },
        {
          "name": "stderr",
          "output_type": "stream",
          "text": [
            "\n",
            "[notice] A new release of pip is available: 24.0 -> 24.1.2\n",
            "[notice] To update, run: python.exe -m pip install --upgrade pip\n"
          ]
        }
      ],
      "source": [
        "%pip install skimpy "
      ]
    },
    {
      "cell_type": "code",
      "execution_count": 13,
      "metadata": {
        "id": "ixHerNYxNLcU"
      },
      "outputs": [],
      "source": [
        "import warnings\n",
        "warnings.filterwarnings('ignore')"
      ]
    },
    {
      "cell_type": "code",
      "execution_count": 14,
      "metadata": {
        "id": "kUnGmv3z1Wfg"
      },
      "outputs": [],
      "source": [
        "import pandas as pd\n",
        "import numpy as np\n",
        "import matplotlib.pyplot as plt\n",
        "from scipy.optimize import brute, fmin\n",
        "from scipy.integrate import quad\n"
      ]
    },
    {
      "cell_type": "markdown",
      "metadata": {
        "id": "KrqY-uEfNTiO"
      },
      "source": [
        "### Heston (1993) Characteristic Function\n",
        "\n",
        "We are going to start with a major ingredient for Fourier transform methods such as Lewis (2001) is knowledge of the characteristic function for the underlying process. We will present here the closed-form expression; you can check the original Heston (1993) paper or Gatheral (2006) to see the derivation of this characteristic function.\n",
        "\n",
        "The characteristic function of the Heston (1993) model is given by:\n",
        "\n",
        "$$\n",
        "\\\n",
        "\\begin{equation*}\n",
        "  \\varphi^{H} (u, T) = e^{H_1(u, T)+H_2(u,T)\\nu_0}\n",
        "\\end{equation*}\n",
        "$$\n",
        "\\\n",
        "where\n",
        "\n",
        "$$\n",
        "\\\n",
        "\\begin{equation*}\n",
        "  H_1 (u, T) \\equiv r_0 uiT + \\frac{c_1}{\\sigma_\\nu^2}\\Biggl\\{ (\\kappa_\\nu - \\rho \\sigma_\\nu ui+c_2) T - 2 log \\left[ \\frac{1-c_3e^{c_2T}}{1-c_3} \\right] \\Biggl\\}\n",
        "\\end{equation*}\n",
        "$$\n",
        "$$\n",
        "\\\n",
        "\\begin{equation*}\n",
        "  H_2 (u, T) \\equiv \\frac{\\kappa_\\nu - \\rho \\sigma_\\nu ui + c_2}{\\sigma_\\nu^2} \\left[ \\frac{1-e^{c_2T}}{1-c_3e^{c_2T}} \\right]\n",
        "\\end{equation*}\n",
        "$$\n",
        "$$\n",
        "\\\n",
        "\\begin{equation*}\n",
        "  c_1 \\equiv \\kappa_\\nu \\theta_\\nu\n",
        "\\end{equation*}\n",
        "$$\n",
        "$$\n",
        "\\\n",
        "\\begin{equation*}\n",
        "  c_2 \\equiv - \\sqrt{(\\rho \\sigma_\\nu ui - \\kappa_\\nu)^2 - \\sigma_\\nu^2(-ui-u^2) }\n",
        "\\end{equation*}\n",
        "$$\n",
        "$$\n",
        "\\\n",
        "\\begin{equation*}\n",
        "  c_3 \\equiv \\frac{\\kappa_\\nu - \\rho \\sigma_\\nu ui + c_2}{\\kappa_\\nu - \\rho \\sigma_\\nu ui - c_2}\n",
        "\\end{equation*}\n",
        "$$\n",
        "\n",
        "\\\n",
        "we have created a function in Python that simplifies its calculations every time:"
      ]
    },
    {
      "cell_type": "code",
      "execution_count": 15,
      "metadata": {
        "id": "JaWh3pi9dI3h"
      },
      "outputs": [],
      "source": [
        "def H93_char_func(u, T, r, kappa_v, theta_v, sigma_v, rho, v0):\n",
        "    \"\"\"Valuation of European call option in H93 model via Lewis (2001)\n",
        "    Fourier-based approach: characteristic function.\n",
        "    Parameter definitions see function BCC_call_value.\"\"\"\n",
        "    c1 = kappa_v * theta_v\n",
        "    c2 = -np.sqrt(\n",
        "        (rho * sigma_v * u * 1j - kappa_v) ** 2 - sigma_v**2 * (-u * 1j - u**2)\n",
        "    )\n",
        "    c3 = (kappa_v - rho * sigma_v * u * 1j + c2) / (\n",
        "        kappa_v - rho * sigma_v * u * 1j - c2\n",
        "    )\n",
        "    H1 = r * u * 1j * T + (c1 / sigma_v**2) * (\n",
        "        (kappa_v - rho * sigma_v * u * 1j + c2) * T\n",
        "        - 2 * np.log((1 - c3 * np.exp(c2 * T)) / (1 - c3))\n",
        "    )\n",
        "    H2 = (\n",
        "        (kappa_v - rho * sigma_v * u * 1j + c2)\n",
        "        / sigma_v**2\n",
        "        * ((1 - np.exp(c2 * T)) / (1 - c3 * np.exp(c2 * T)))\n",
        "    )\n",
        "    char_func_value = np.exp(H1 + H2 * v0)\n",
        "    return char_func_value"
      ]
    },
    {
      "cell_type": "markdown",
      "metadata": {
        "id": "V8IDjRnvj1nX"
      },
      "source": [
        "Now that we have our characteristic function, let's move on to another important step in the pricing process."
      ]
    },
    {
      "cell_type": "markdown",
      "metadata": {
        "id": "2Ce6W_HGNzwW"
      },
      "source": [
        "### Integral Value in Lewis (2001)\n",
        "We also need to get a value for the integral in Lewis (2001):\n",
        "\n",
        "$$\n",
        "\\\n",
        "\\begin{equation*}\n",
        "    C_0 = S_0 - \\frac{\\sqrt{S_0 K} e^{-rT}}{\\pi} \\int_{0}^{\\infty} \\mathbf{Re}[e^{izk} \\varphi(z-i/2)] \\frac{dz}{z^2+1/4}\n",
        "\\end{equation*}\n",
        "$$\n",
        "\\\n",
        "we have used this expression for the integral is the same one we used for Black-Scholes, but here that the expression for the characteristic function has changed.\n"
      ]
    },
    {
      "cell_type": "code",
      "execution_count": 16,
      "metadata": {
        "id": "7ex3xlTgdLQY"
      },
      "outputs": [],
      "source": [
        "def H93_int_func(u, S0, K, T, r, kappa_v, theta_v, sigma_v, rho, v0):\n",
        "    \"\"\"\n",
        "    Fourier-based approach for Lewis (2001): Integration function.\n",
        "    \"\"\"\n",
        "    char_func_value = H93_char_func(\n",
        "        u - 1j * 0.5, T, r, kappa_v, theta_v, sigma_v, rho, v0\n",
        "    )\n",
        "    int_func_value = (\n",
        "        1 / (u**2 + 0.25) * (np.exp(1j * u * np.log(S0 / K)) * char_func_value).real\n",
        "    )\n",
        "    return int_func_value"
      ]
    },
    {
      "cell_type": "markdown",
      "metadata": {
        "id": "5RdXBKmtN6vd"
      },
      "source": [
        "### Calculating The Value of the Integral and call value\n",
        "\n",
        "Now, we will need to numerically compute the value of the aforementioned integral. As before, we will use the quadrature method (*quad*) included in the scipy package (https://docs.scipy.org/doc/scipy/reference/generated/scipy.integrate.quad.html)"
      ]
    },
    {
      "cell_type": "code",
      "execution_count": 17,
      "metadata": {
        "id": "hQi2hamrdPTh"
      },
      "outputs": [],
      "source": [
        "def H93_call_value(S0, K, T, r, kappa_v, theta_v, sigma_v, rho, v0):\n",
        "    \"\"\"Valuation of European call option in H93 model via Lewis (2001)\n",
        "\n",
        "    Parameter definition:\n",
        "    ==========\n",
        "    S0: float\n",
        "        initial stock/index level\n",
        "    K: float\n",
        "        strike price\n",
        "    T: float\n",
        "        time-to-maturity (for t=0)\n",
        "    r: float\n",
        "        constant risk-free short rate\n",
        "    kappa_v: float\n",
        "        mean-reversion factor\n",
        "    theta_v: float\n",
        "        long-run mean of variance\n",
        "    sigma_v: float\n",
        "        volatility of variance\n",
        "    rho: float\n",
        "        correlation between variance and stock/index level\n",
        "    v0: float\n",
        "        initial level of variance\n",
        "    Returns\n",
        "    =======\n",
        "    call_value: float\n",
        "        present value of European call option\n",
        "    \"\"\"\n",
        "    int_value = quad(\n",
        "        lambda u: H93_int_func(u, S0, K, T, r, kappa_v, theta_v, sigma_v, rho, v0),\n",
        "        0,\n",
        "        np.inf,\n",
        "        limit=250,\n",
        "    )[0]\n",
        "    call_value = max(0, S0 - np.exp(-r * T) * np.sqrt(S0 * K) / np.pi * int_value)\n",
        "    return call_value"
      ]
    },
    {
      "cell_type": "code",
      "execution_count": 18,
      "metadata": {
        "id": "5bWmBFZWkp5T"
      },
      "outputs": [],
      "source": [
        "def H93_Put_value(S0, K, T, r, kappa_v, theta_v, sigma_v, rho, v0):\n",
        "    call = H93_call_value(S0, K, T, r, kappa_v, theta_v, sigma_v, rho, v0)\n",
        "    Put = call + (K * np.exp(-r * T)) - S0\n",
        "\n",
        "    return Put"
      ]
    },
    {
      "cell_type": "markdown",
      "metadata": {
        "id": "QLGS5KTDODL5"
      },
      "source": [
        "### Pricing Heston (1993) Via Lewis (2001)\n",
        "\n",
        "For pricing the call and put option we are going to use some standard parameters."
      ]
    },
    {
      "cell_type": "code",
      "execution_count": 19,
      "metadata": {
        "colab": {
          "base_uri": "https://localhost:8080/"
        },
        "id": "fNtwoW7EgBsf",
        "outputId": "68405088-9f4d-4074-e049-3dc91d0c6119"
      },
      "outputs": [
        {
          "name": "stdout",
          "output_type": "stream",
          "text": [
            "Heston (1993) Call Option Value:   $    5.7578 \n",
            "Heston (1993) put Option Value:   $    3.7777 \n"
          ]
        }
      ],
      "source": [
        "# Option Parameters\n",
        "S0 = 100.0\n",
        "K = 100.0\n",
        "T = 1.0\n",
        "r = 0.02\n",
        "\n",
        "# Heston(1993) Parameters\n",
        "kappa_v = 1.5\n",
        "theta_v = 0.02\n",
        "sigma_v = 0.15\n",
        "rho = 0.1\n",
        "v0 = 0.01\n",
        "\n",
        "\n",
        "print(\n",
        "    \"Heston (1993) Call Option Value:   $%10.4f \"\n",
        "    % H93_call_value(S0, K, T, r, kappa_v, theta_v, sigma_v, rho, v0)\n",
        ")\n",
        "\n",
        "print(\n",
        "    \"Heston (1993) put Option Value:   $%10.4f \"\n",
        "    % H93_Put_value(S0, K, T, r, kappa_v, theta_v, sigma_v, rho, v0),\n",
        ")"
      ]
    },
    {
      "cell_type": "markdown",
      "metadata": {
        "id": "LzwDbWTAktyd"
      },
      "source": [
        "As we have seen how to model works we are now going to work on full calibration process with real market data."
      ]
    },
    {
      "cell_type": "markdown",
      "metadata": {
        "id": "09LGBSetOMGu"
      },
      "source": [
        "### Heston Model Calibaration\n",
        "\n",
        "In this section we are going to fully calibrate Heston model with real data, we will first process our options data accrding to our requirement, Let's preprocess our data in the next section."
      ]
    },
    {
      "cell_type": "markdown",
      "metadata": {
        "id": "nrtIVMWoOS1i"
      },
      "source": [
        "#### Options Data Preprocessing\n",
        "\n",
        "Here we have loaded our data."
      ]
    },
    {
      "cell_type": "code",
      "execution_count": 20,
      "metadata": {
        "colab": {
          "base_uri": "https://localhost:8080/",
          "height": 0
        },
        "id": "NVvqofSM11Jy",
        "outputId": "941bc1cb-ac6f-4473-8012-7892a0fda40a"
      },
      "outputs": [
        {
          "data": {
            "text/html": [
              "<div>\n",
              "<style scoped>\n",
              "    .dataframe tbody tr th:only-of-type {\n",
              "        vertical-align: middle;\n",
              "    }\n",
              "\n",
              "    .dataframe tbody tr th {\n",
              "        vertical-align: top;\n",
              "    }\n",
              "\n",
              "    .dataframe thead th {\n",
              "        text-align: right;\n",
              "    }\n",
              "</style>\n",
              "<table border=\"1\" class=\"dataframe\">\n",
              "  <thead>\n",
              "    <tr style=\"text-align: right;\">\n",
              "      <th></th>\n",
              "      <th>Days to maturity</th>\n",
              "      <th>Strike</th>\n",
              "      <th>Price</th>\n",
              "      <th>Type</th>\n",
              "    </tr>\n",
              "  </thead>\n",
              "  <tbody>\n",
              "    <tr>\n",
              "      <th>0</th>\n",
              "      <td>15</td>\n",
              "      <td>227.5</td>\n",
              "      <td>10.52</td>\n",
              "      <td>C</td>\n",
              "    </tr>\n",
              "    <tr>\n",
              "      <th>1</th>\n",
              "      <td>15</td>\n",
              "      <td>230.0</td>\n",
              "      <td>10.05</td>\n",
              "      <td>C</td>\n",
              "    </tr>\n",
              "    <tr>\n",
              "      <th>2</th>\n",
              "      <td>15</td>\n",
              "      <td>232.5</td>\n",
              "      <td>7.75</td>\n",
              "      <td>C</td>\n",
              "    </tr>\n",
              "    <tr>\n",
              "      <th>3</th>\n",
              "      <td>15</td>\n",
              "      <td>235.0</td>\n",
              "      <td>6.01</td>\n",
              "      <td>C</td>\n",
              "    </tr>\n",
              "    <tr>\n",
              "      <th>4</th>\n",
              "      <td>15</td>\n",
              "      <td>237.5</td>\n",
              "      <td>4.75</td>\n",
              "      <td>C</td>\n",
              "    </tr>\n",
              "  </tbody>\n",
              "</table>\n",
              "</div>"
            ],
            "text/plain": [
              "   Days to maturity  Strike  Price Type\n",
              "0                15   227.5  10.52    C\n",
              "1                15   230.0  10.05    C\n",
              "2                15   232.5   7.75    C\n",
              "3                15   235.0   6.01    C\n",
              "4                15   237.5   4.75    C"
            ]
          },
          "execution_count": 20,
          "metadata": {},
          "output_type": "execute_result"
        }
      ],
      "source": [
        "df = pd.read_csv(r\"Data\\MScFE 622_Stochastic Modeling_GWP1_Option data.xlsx - 1.csv\") \n",
        "df.head()"
      ]
    },
    {
      "cell_type": "markdown",
      "metadata": {
        "id": "THFWpAcSmINC"
      },
      "source": [
        "Here We are Skimpy package (https://pypi.org/project/skimpy/) to get all the necessary summary statistics about our dataframe at one place."
      ]
    },
    {
      "cell_type": "code",
      "execution_count": 21,
      "metadata": {
        "colab": {
          "base_uri": "https://localhost:8080/",
          "height": 0
        },
        "id": "S4woEOh0155o",
        "outputId": "eb8a7175-e58c-40f2-82a7-3a524ccc5791"
      },
      "outputs": [
        {
          "data": {
            "text/html": [
              "<pre style=\"white-space:pre;overflow-x:auto;line-height:normal;font-family:Menlo,'DejaVu Sans Mono',consolas,'Courier New',monospace\">╭──────────────────────────────────────────────── skimpy summary ─────────────────────────────────────────────────╮\n",
              "│ <span style=\"font-style: italic\">         Data Summary         </span> <span style=\"font-style: italic\">      Data Types       </span>                                                          │\n",
              "│ ┏━━━━━━━━━━━━━━━━━━━┳━━━━━━━━┓ ┏━━━━━━━━━━━━━┳━━━━━━━┓                                                          │\n",
              "│ ┃<span style=\"color: #008080; text-decoration-color: #008080; font-weight: bold\"> dataframe         </span>┃<span style=\"color: #008080; text-decoration-color: #008080; font-weight: bold\"> Values </span>┃ ┃<span style=\"color: #008080; text-decoration-color: #008080; font-weight: bold\"> Column Type </span>┃<span style=\"color: #008080; text-decoration-color: #008080; font-weight: bold\"> Count </span>┃                                                          │\n",
              "│ ┡━━━━━━━━━━━━━━━━━━━╇━━━━━━━━┩ ┡━━━━━━━━━━━━━╇━━━━━━━┩                                                          │\n",
              "│ │ Number of rows    │ 30     │ │ float64     │ 2     │                                                          │\n",
              "│ │ Number of columns │ 4      │ │ int32       │ 1     │                                                          │\n",
              "│ └───────────────────┴────────┘ │ string      │ 1     │                                                          │\n",
              "│                                └─────────────┴───────┘                                                          │\n",
              "│ <span style=\"font-style: italic\">                                                    number                                                    </span>  │\n",
              "│ ┏━━━━━━━━━━━━━━━━━━━━━┳━━━━━┳━━━━━━━┳━━━━━━━━┳━━━━━━━━┳━━━━━━━━┳━━━━━━━━┳━━━━━━━━┳━━━━━━━━┳━━━━━━━━┳━━━━━━━━━┓  │\n",
              "│ ┃<span style=\"font-weight: bold\"> column_name         </span>┃<span style=\"font-weight: bold\"> NA  </span>┃<span style=\"font-weight: bold\"> NA %  </span>┃<span style=\"font-weight: bold\"> mean   </span>┃<span style=\"font-weight: bold\"> sd     </span>┃<span style=\"font-weight: bold\"> p0     </span>┃<span style=\"font-weight: bold\"> p25    </span>┃<span style=\"font-weight: bold\"> p50    </span>┃<span style=\"font-weight: bold\"> p75    </span>┃<span style=\"font-weight: bold\"> p100   </span>┃<span style=\"font-weight: bold\"> hist    </span>┃  │\n",
              "│ ┡━━━━━━━━━━━━━━━━━━━━━╇━━━━━╇━━━━━━━╇━━━━━━━━╇━━━━━━━━╇━━━━━━━━╇━━━━━━━━╇━━━━━━━━╇━━━━━━━━╇━━━━━━━━╇━━━━━━━━━┩  │\n",
              "│ │ <span style=\"color: #af87ff; text-decoration-color: #af87ff\">Days to maturity   </span> │ <span style=\"color: #008080; text-decoration-color: #008080\">  0</span> │ <span style=\"color: #008080; text-decoration-color: #008080\">    0</span> │ <span style=\"color: #008080; text-decoration-color: #008080\">    65</span> │ <span style=\"color: #008080; text-decoration-color: #008080\"> 43.75</span> │ <span style=\"color: #008080; text-decoration-color: #008080\">    15</span> │ <span style=\"color: #008080; text-decoration-color: #008080\">    15</span> │ <span style=\"color: #008080; text-decoration-color: #008080\">    60</span> │ <span style=\"color: #008080; text-decoration-color: #008080\">   120</span> │ <span style=\"color: #008080; text-decoration-color: #008080\">   120</span> │ <span style=\"color: #008000; text-decoration-color: #008000\">▇ ▇  ▇ </span> │  │\n",
              "│ │ <span style=\"color: #af87ff; text-decoration-color: #af87ff\">Strike             </span> │ <span style=\"color: #008080; text-decoration-color: #008080\">  0</span> │ <span style=\"color: #008080; text-decoration-color: #008080\">    0</span> │ <span style=\"color: #008080; text-decoration-color: #008080\"> 232.5</span> │ <span style=\"color: #008080; text-decoration-color: #008080\"> 3.596</span> │ <span style=\"color: #008080; text-decoration-color: #008080\"> 227.5</span> │ <span style=\"color: #008080; text-decoration-color: #008080\">   230</span> │ <span style=\"color: #008080; text-decoration-color: #008080\"> 232.5</span> │ <span style=\"color: #008080; text-decoration-color: #008080\">   235</span> │ <span style=\"color: #008080; text-decoration-color: #008080\"> 237.5</span> │ <span style=\"color: #008000; text-decoration-color: #008000\">▇▇ ▇▇▇ </span> │  │\n",
              "│ │ <span style=\"color: #af87ff; text-decoration-color: #af87ff\">Price              </span> │ <span style=\"color: #008080; text-decoration-color: #008080\">  0</span> │ <span style=\"color: #008080; text-decoration-color: #008080\">    0</span> │ <span style=\"color: #008080; text-decoration-color: #008080\"> 14.07</span> │ <span style=\"color: #008080; text-decoration-color: #008080\"> 6.124</span> │ <span style=\"color: #008080; text-decoration-color: #008080\">  4.32</span> │ <span style=\"color: #008080; text-decoration-color: #008080\"> 9.098</span> │ <span style=\"color: #008080; text-decoration-color: #008080\"> 14.93</span> │ <span style=\"color: #008080; text-decoration-color: #008080\"> 17.54</span> │ <span style=\"color: #008080; text-decoration-color: #008080\"> 27.92</span> │ <span style=\"color: #008000; text-decoration-color: #008000\">▇▅▆▇▂▂ </span> │  │\n",
              "│ └─────────────────────┴─────┴───────┴────────┴────────┴────────┴────────┴────────┴────────┴────────┴─────────┘  │\n",
              "│ <span style=\"font-style: italic\">                                                    string                                                    </span>  │\n",
              "│ ┏━━━━━━━━━━━━━━━━━━━━━━━━━━━┳━━━━━━━━━┳━━━━━━━━━━━━┳━━━━━━━━━━━━━━━━━━━━━━━━━━━━━━┳━━━━━━━━━━━━━━━━━━━━━━━━━━┓  │\n",
              "│ ┃<span style=\"font-weight: bold\"> column_name               </span>┃<span style=\"font-weight: bold\"> NA      </span>┃<span style=\"font-weight: bold\"> NA %       </span>┃<span style=\"font-weight: bold\"> words per row                </span>┃<span style=\"font-weight: bold\"> total words              </span>┃  │\n",
              "│ ┡━━━━━━━━━━━━━━━━━━━━━━━━━━━╇━━━━━━━━━╇━━━━━━━━━━━━╇━━━━━━━━━━━━━━━━━━━━━━━━━━━━━━╇━━━━━━━━━━━━━━━━━━━━━━━━━━┩  │\n",
              "│ │ <span style=\"color: #af87ff; text-decoration-color: #af87ff\">Type                     </span> │ <span style=\"color: #008080; text-decoration-color: #008080\">      0</span> │ <span style=\"color: #008080; text-decoration-color: #008080\">         0</span> │ <span style=\"color: #008080; text-decoration-color: #008080\">                           1</span> │ <span style=\"color: #008080; text-decoration-color: #008080\">                      30</span> │  │\n",
              "│ └───────────────────────────┴─────────┴────────────┴──────────────────────────────┴──────────────────────────┘  │\n",
              "╰────────────────────────────────────────────────────── End ──────────────────────────────────────────────────────╯\n",
              "</pre>\n"
            ],
            "text/plain": [
              "╭──────────────────────────────────────────────── skimpy summary ─────────────────────────────────────────────────╮\n",
              "│ \u001b[3m         Data Summary         \u001b[0m \u001b[3m      Data Types       \u001b[0m                                                          │\n",
              "│ ┏━━━━━━━━━━━━━━━━━━━┳━━━━━━━━┓ ┏━━━━━━━━━━━━━┳━━━━━━━┓                                                          │\n",
              "│ ┃\u001b[1;36m \u001b[0m\u001b[1;36mdataframe        \u001b[0m\u001b[1;36m \u001b[0m┃\u001b[1;36m \u001b[0m\u001b[1;36mValues\u001b[0m\u001b[1;36m \u001b[0m┃ ┃\u001b[1;36m \u001b[0m\u001b[1;36mColumn Type\u001b[0m\u001b[1;36m \u001b[0m┃\u001b[1;36m \u001b[0m\u001b[1;36mCount\u001b[0m\u001b[1;36m \u001b[0m┃                                                          │\n",
              "│ ┡━━━━━━━━━━━━━━━━━━━╇━━━━━━━━┩ ┡━━━━━━━━━━━━━╇━━━━━━━┩                                                          │\n",
              "│ │ Number of rows    │ 30     │ │ float64     │ 2     │                                                          │\n",
              "│ │ Number of columns │ 4      │ │ int32       │ 1     │                                                          │\n",
              "│ └───────────────────┴────────┘ │ string      │ 1     │                                                          │\n",
              "│                                └─────────────┴───────┘                                                          │\n",
              "│ \u001b[3m                                                    number                                                    \u001b[0m  │\n",
              "│ ┏━━━━━━━━━━━━━━━━━━━━━┳━━━━━┳━━━━━━━┳━━━━━━━━┳━━━━━━━━┳━━━━━━━━┳━━━━━━━━┳━━━━━━━━┳━━━━━━━━┳━━━━━━━━┳━━━━━━━━━┓  │\n",
              "│ ┃\u001b[1m \u001b[0m\u001b[1mcolumn_name        \u001b[0m\u001b[1m \u001b[0m┃\u001b[1m \u001b[0m\u001b[1mNA \u001b[0m\u001b[1m \u001b[0m┃\u001b[1m \u001b[0m\u001b[1mNA % \u001b[0m\u001b[1m \u001b[0m┃\u001b[1m \u001b[0m\u001b[1mmean  \u001b[0m\u001b[1m \u001b[0m┃\u001b[1m \u001b[0m\u001b[1msd    \u001b[0m\u001b[1m \u001b[0m┃\u001b[1m \u001b[0m\u001b[1mp0    \u001b[0m\u001b[1m \u001b[0m┃\u001b[1m \u001b[0m\u001b[1mp25   \u001b[0m\u001b[1m \u001b[0m┃\u001b[1m \u001b[0m\u001b[1mp50   \u001b[0m\u001b[1m \u001b[0m┃\u001b[1m \u001b[0m\u001b[1mp75   \u001b[0m\u001b[1m \u001b[0m┃\u001b[1m \u001b[0m\u001b[1mp100  \u001b[0m\u001b[1m \u001b[0m┃\u001b[1m \u001b[0m\u001b[1mhist   \u001b[0m\u001b[1m \u001b[0m┃  │\n",
              "│ ┡━━━━━━━━━━━━━━━━━━━━━╇━━━━━╇━━━━━━━╇━━━━━━━━╇━━━━━━━━╇━━━━━━━━╇━━━━━━━━╇━━━━━━━━╇━━━━━━━━╇━━━━━━━━╇━━━━━━━━━┩  │\n",
              "│ │ \u001b[38;5;141mDays to maturity   \u001b[0m │ \u001b[36m  0\u001b[0m │ \u001b[36m    0\u001b[0m │ \u001b[36m    65\u001b[0m │ \u001b[36m 43.75\u001b[0m │ \u001b[36m    15\u001b[0m │ \u001b[36m    15\u001b[0m │ \u001b[36m    60\u001b[0m │ \u001b[36m   120\u001b[0m │ \u001b[36m   120\u001b[0m │ \u001b[32m▇ ▇  ▇ \u001b[0m │  │\n",
              "│ │ \u001b[38;5;141mStrike             \u001b[0m │ \u001b[36m  0\u001b[0m │ \u001b[36m    0\u001b[0m │ \u001b[36m 232.5\u001b[0m │ \u001b[36m 3.596\u001b[0m │ \u001b[36m 227.5\u001b[0m │ \u001b[36m   230\u001b[0m │ \u001b[36m 232.5\u001b[0m │ \u001b[36m   235\u001b[0m │ \u001b[36m 237.5\u001b[0m │ \u001b[32m▇▇ ▇▇▇ \u001b[0m │  │\n",
              "│ │ \u001b[38;5;141mPrice              \u001b[0m │ \u001b[36m  0\u001b[0m │ \u001b[36m    0\u001b[0m │ \u001b[36m 14.07\u001b[0m │ \u001b[36m 6.124\u001b[0m │ \u001b[36m  4.32\u001b[0m │ \u001b[36m 9.098\u001b[0m │ \u001b[36m 14.93\u001b[0m │ \u001b[36m 17.54\u001b[0m │ \u001b[36m 27.92\u001b[0m │ \u001b[32m▇▅▆▇▂▂ \u001b[0m │  │\n",
              "│ └─────────────────────┴─────┴───────┴────────┴────────┴────────┴────────┴────────┴────────┴────────┴─────────┘  │\n",
              "│ \u001b[3m                                                    string                                                    \u001b[0m  │\n",
              "│ ┏━━━━━━━━━━━━━━━━━━━━━━━━━━━┳━━━━━━━━━┳━━━━━━━━━━━━┳━━━━━━━━━━━━━━━━━━━━━━━━━━━━━━┳━━━━━━━━━━━━━━━━━━━━━━━━━━┓  │\n",
              "│ ┃\u001b[1m \u001b[0m\u001b[1mcolumn_name              \u001b[0m\u001b[1m \u001b[0m┃\u001b[1m \u001b[0m\u001b[1mNA     \u001b[0m\u001b[1m \u001b[0m┃\u001b[1m \u001b[0m\u001b[1mNA %      \u001b[0m\u001b[1m \u001b[0m┃\u001b[1m \u001b[0m\u001b[1mwords per row               \u001b[0m\u001b[1m \u001b[0m┃\u001b[1m \u001b[0m\u001b[1mtotal words             \u001b[0m\u001b[1m \u001b[0m┃  │\n",
              "│ ┡━━━━━━━━━━━━━━━━━━━━━━━━━━━╇━━━━━━━━━╇━━━━━━━━━━━━╇━━━━━━━━━━━━━━━━━━━━━━━━━━━━━━╇━━━━━━━━━━━━━━━━━━━━━━━━━━┩  │\n",
              "│ │ \u001b[38;5;141mType                     \u001b[0m │ \u001b[36m      0\u001b[0m │ \u001b[36m         0\u001b[0m │ \u001b[36m                           1\u001b[0m │ \u001b[36m                      30\u001b[0m │  │\n",
              "│ └───────────────────────────┴─────────┴────────────┴──────────────────────────────┴──────────────────────────┘  │\n",
              "╰────────────────────────────────────────────────────── End ──────────────────────────────────────────────────────╯\n"
            ]
          },
          "metadata": {},
          "output_type": "display_data"
        }
      ],
      "source": [
        "from skimpy import skim\n",
        "\n",
        "skim(df)"
      ]
    },
    {
      "cell_type": "markdown",
      "metadata": {
        "id": "-v0Vjj0Xmd9C"
      },
      "source": [
        "Our stock SM Energy Company is currenlty trading at $232.90, so that will be the value of S0, After that we will we will filter our dataframe to include on data which have Days to maturity of 15 days as that is our requirement for calibration. Next we will add time left to maturity and constant risk-free rate to our dataframe."
      ]
    },
    {
      "cell_type": "code",
      "execution_count": 22,
      "metadata": {
        "id": "GxsNltME58Dx"
      },
      "outputs": [],
      "source": [
        "S0 = 232.90\n",
        "\n",
        "\n",
        "options = df[(df[\"Days to maturity\"] == 15)].copy()"
      ]
    },
    {
      "cell_type": "code",
      "execution_count": 23,
      "metadata": {
        "id": "_FTojA5e8QZp"
      },
      "outputs": [],
      "source": [
        "for row, option in options.iterrows():\n",
        "    T = (option[\"Days to maturity\"] / 250.0) # 1 year = 250 trading days\n",
        "    options.loc[row, \"T\"] = T\n",
        "    options.loc[row, \"r\"] = 0.015      #Constant Annual risk-free rate = 1.50%"
      ]
    },
    {
      "cell_type": "code",
      "execution_count": 24,
      "metadata": {
        "colab": {
          "base_uri": "https://localhost:8080/",
          "height": 0
        },
        "id": "sGDkLGKL9hLx",
        "outputId": "98eedeee-659a-4706-ae4b-0528ea773224"
      },
      "outputs": [
        {
          "data": {
            "text/html": [
              "<div>\n",
              "<style scoped>\n",
              "    .dataframe tbody tr th:only-of-type {\n",
              "        vertical-align: middle;\n",
              "    }\n",
              "\n",
              "    .dataframe tbody tr th {\n",
              "        vertical-align: top;\n",
              "    }\n",
              "\n",
              "    .dataframe thead th {\n",
              "        text-align: right;\n",
              "    }\n",
              "</style>\n",
              "<table border=\"1\" class=\"dataframe\">\n",
              "  <thead>\n",
              "    <tr style=\"text-align: right;\">\n",
              "      <th></th>\n",
              "      <th>Days to maturity</th>\n",
              "      <th>Strike</th>\n",
              "      <th>Price</th>\n",
              "      <th>Type</th>\n",
              "      <th>T</th>\n",
              "      <th>r</th>\n",
              "    </tr>\n",
              "  </thead>\n",
              "  <tbody>\n",
              "    <tr>\n",
              "      <th>0</th>\n",
              "      <td>15</td>\n",
              "      <td>227.5</td>\n",
              "      <td>10.52</td>\n",
              "      <td>C</td>\n",
              "      <td>0.06</td>\n",
              "      <td>0.015</td>\n",
              "    </tr>\n",
              "    <tr>\n",
              "      <th>1</th>\n",
              "      <td>15</td>\n",
              "      <td>230.0</td>\n",
              "      <td>10.05</td>\n",
              "      <td>C</td>\n",
              "      <td>0.06</td>\n",
              "      <td>0.015</td>\n",
              "    </tr>\n",
              "    <tr>\n",
              "      <th>2</th>\n",
              "      <td>15</td>\n",
              "      <td>232.5</td>\n",
              "      <td>7.75</td>\n",
              "      <td>C</td>\n",
              "      <td>0.06</td>\n",
              "      <td>0.015</td>\n",
              "    </tr>\n",
              "    <tr>\n",
              "      <th>3</th>\n",
              "      <td>15</td>\n",
              "      <td>235.0</td>\n",
              "      <td>6.01</td>\n",
              "      <td>C</td>\n",
              "      <td>0.06</td>\n",
              "      <td>0.015</td>\n",
              "    </tr>\n",
              "    <tr>\n",
              "      <th>4</th>\n",
              "      <td>15</td>\n",
              "      <td>237.5</td>\n",
              "      <td>4.75</td>\n",
              "      <td>C</td>\n",
              "      <td>0.06</td>\n",
              "      <td>0.015</td>\n",
              "    </tr>\n",
              "  </tbody>\n",
              "</table>\n",
              "</div>"
            ],
            "text/plain": [
              "   Days to maturity  Strike  Price Type     T      r\n",
              "0                15   227.5  10.52    C  0.06  0.015\n",
              "1                15   230.0  10.05    C  0.06  0.015\n",
              "2                15   232.5   7.75    C  0.06  0.015\n",
              "3                15   235.0   6.01    C  0.06  0.015\n",
              "4                15   237.5   4.75    C  0.06  0.015"
            ]
          },
          "execution_count": 24,
          "metadata": {},
          "output_type": "execute_result"
        }
      ],
      "source": [
        "options.head()"
      ]
    },
    {
      "cell_type": "markdown",
      "metadata": {
        "id": "BhAtzD0iOapv"
      },
      "source": [
        "#### Calibration Process\n",
        "\n",
        "Now this is our main section of calibration process, we also need to define some additional function to optimize the model parameters so that they work well on observed data.\n",
        "\n",
        "First, we will introduce a function that will evaluate the error the model makes with respect to observed data given certain parameters. As usual, we will rely on a **mean squared error (MSE) function**. We will also define some initial values for the calibration parameters:"
      ]
    },
    {
      "cell_type": "code",
      "execution_count": 25,
      "metadata": {
        "id": "e8pawtoWFcyD"
      },
      "outputs": [],
      "source": [
        "i = 0\n",
        "min_MSE = 500\n",
        "min_MSE2 = 500"
      ]
    },
    {
      "cell_type": "code",
      "execution_count": 26,
      "metadata": {
        "id": "CaGvyFySdTRN"
      },
      "outputs": [],
      "source": [
        "def H93_error_function(p0):\n",
        "    \"\"\"Error function for parameter calibration via\n",
        "    Lewis (2001) Fourier approach for Heston (1993).\n",
        "    Parameters\n",
        "    ==========\n",
        "    kappa_v: float\n",
        "        mean-reversion factor\n",
        "    theta_v: float\n",
        "        long-run mean of variance\n",
        "    sigma_v: float\n",
        "        volatility of variance\n",
        "    rho: float\n",
        "        correlation between variance and stock/index level\n",
        "    v0: float\n",
        "        initial, instantaneous variance\n",
        "    Returns\n",
        "    =======\n",
        "    MSE: float\n",
        "        mean squared error\n",
        "    \"\"\"\n",
        "    global i, min_MSE, min_MSE2\n",
        "    kappa_v, theta_v, sigma_v, rho, v0 = p0\n",
        "    if kappa_v < 0.0 or theta_v < 0.005 or sigma_v < 0.0 or rho < -1.0 or rho > 1.0:\n",
        "        return 500.0\n",
        "    if 2 * kappa_v * theta_v < sigma_v**2:\n",
        "        return 500.0\n",
        "    se = []\n",
        "    se2 = []\n",
        "\n",
        "    for row, option in options.iterrows():\n",
        "      if option[\"Type\"] == \"C\":\n",
        "            model_value = H93_call_value(\n",
        "                S0,\n",
        "                option[\"Strike\"],\n",
        "                option[\"T\"],\n",
        "                option[\"r\"],\n",
        "                kappa_v,\n",
        "                theta_v,\n",
        "                sigma_v,\n",
        "                rho,\n",
        "                v0,\n",
        "            )\n",
        "            se.append((model_value - option[\"Price\"]) ** 2)\n",
        "\n",
        "      if option[\"Type\"] == \"P\":\n",
        "            model_value = H93_call_value(\n",
        "                S0,\n",
        "                option[\"Strike\"],\n",
        "                option[\"T\"],\n",
        "                option[\"r\"],\n",
        "                kappa_v,\n",
        "                theta_v,\n",
        "                sigma_v,\n",
        "                rho,\n",
        "                v0,\n",
        "            )\n",
        "            se2.append((model_value - option[\"Price\"]) ** 2)\n",
        "\n",
        "    MSE = sum(se) / len(se)\n",
        "    MSE2 = sum(se2) / len(se2)\n",
        "\n",
        "    min_MSE = min(min_MSE, MSE)\n",
        "    min_MSE2 = min(min_MSE2, MSE2)\n",
        "\n",
        "    if i % 100 == 0:\n",
        "        print(\"%4d |\" % i, np.array(p0), \"| Call MSE: %7.3f | Min Call MSE: %7.3f\" % (MSE, min_MSE))\n",
        "        print(\"%4d |\" % i, np.array(p0), \"| Put MSE: %7.3f | Min Put MSE: %7.3f\" % (MSE2, min_MSE2))\n",
        "\n",
        "    i += 1\n",
        "\n",
        "    return MSE + MSE2"
      ]
    },
    {
      "cell_type": "markdown",
      "metadata": {
        "id": "ta8dcw65oFdf"
      },
      "source": [
        "Next, we will need a function that performs the **optimization process**. In other words, it optimizes the model parameters so as to minimize the error function with respect to market data. We will do this in 2 steps in order to look for faster convergence of the prices to market quotes. First, we will use the `brute` function of scipy (https://docs.scipy.org/doc/scipy/reference/generated/scipy.optimize.brute.html), that allows the calibration to focus on most sensible ranges. Once these are declared, we can dig deeper into the specific regions and get the actual parameters more accurately with the `fmin` function (https://docs.scipy.org/doc/scipy/reference/generated/scipy.optimize.fmin.html)."
      ]
    },
    {
      "cell_type": "code",
      "execution_count": 27,
      "metadata": {
        "id": "nBJYrtFFfz3o"
      },
      "outputs": [],
      "source": [
        "def H93_calibration_full():\n",
        "    \"\"\"Calibrates Heston (1993) stochastic volatility model to market quotes.\"\"\"\n",
        "    # First run with brute force\n",
        "    # (scan sensible regions, for faster convergence)\n",
        "    p0 = brute(\n",
        "        H93_error_function,\n",
        "        (\n",
        "            (2.5, 10.6, 5.0),  # kappa_v\n",
        "            (0.01, 0.041, 0.01),  # theta_v\n",
        "            (0.05, 0.251, 0.1),  # sigma_v\n",
        "            (-0.75, 0.01, 0.25),  # rho\n",
        "            (0.01, 0.031, 0.01),\n",
        "        ),  # v0\n",
        "        finish=None,\n",
        "    )\n",
        "\n",
        "    # Second run with local, convex minimization\n",
        "    # (we dig deeper where promising results)\n",
        "    opt = fmin(\n",
        "        H93_error_function, p0, xtol=0.000001, ftol=0.000001, maxiter=750, maxfun=900\n",
        "    )\n",
        "    return opt"
      ]
    },
    {
      "cell_type": "markdown",
      "metadata": {
        "id": "tD7XtFa8o8hR"
      },
      "source": [
        "#### Results\n",
        "\n",
        "Now that we have all the necessary ingredients, let's see how our calibration algorithm performs. For that, given the way we structured things before, we just need to call our *H93_calibration_full()* function. This will give us each of the different outputs from calibration, including the values given to the different parameters in the model."
      ]
    },
    {
      "cell_type": "code",
      "execution_count": 28,
      "metadata": {
        "colab": {
          "base_uri": "https://localhost:8080/"
        },
        "id": "LfPjXzzZf3GF",
        "outputId": "b5fa889d-c4e9-425e-ead3-6c927b8aaef1"
      },
      "outputs": [
        {
          "name": "stdout",
          "output_type": "stream",
          "text": [
            "   0 | [ 2.5   0.01  0.05 -0.75  0.01] | Call MSE:  23.560 | Min Call MSE:  23.560\n",
            "   0 | [ 2.5   0.01  0.05 -0.75  0.01] | Put MSE:  24.326 | Min Put MSE:  24.326\n"
          ]
        },
        {
          "name": "stderr",
          "output_type": "stream",
          "text": [
            "WARNING: Skipping c:\\Users\\Lenovo\\AppData\\Local\\Programs\\Python\\Python311\\Lib\\site-packages\\typing_extensions-4.5.0.dist-info due to invalid metadata entry 'name'\n",
            "ERROR: Could not install packages due to an OSError: [WinError 5] Access is denied: 'c:\\\\Users\\\\Lenovo\\\\AppData\\\\Local\\\\Programs\\\\Python\\\\Python311\\\\Lib\\\\site-packages\\\\polars\\\\polars.pyd'\n",
            "Consider using the `--user` option or check the permissions.\n",
            "\n",
            "\n",
            "[notice] A new release of pip is available: 24.0 -> 24.1.2\n",
            "[notice] To update, run: python.exe -m pip install --upgrade pip\n"
          ]
        },
        {
          "name": "stdout",
          "output_type": "stream",
          "text": [
            "Collecting skimpy\n",
            "  Downloading skimpy-0.0.15-py3-none-any.whl.metadata (28 kB)\n",
            "Requirement already satisfied: Pygments<3.0.0,>=2.10.0 in c:\\users\\lenovo\\appdata\\local\\programs\\python\\python311\\lib\\site-packages (from skimpy) (2.15.1)\n",
            "Requirement already satisfied: click<9.0.0,>=8.1.6 in c:\\users\\lenovo\\appdata\\local\\programs\\python\\python311\\lib\\site-packages (from skimpy) (8.1.7)\n",
            "Requirement already satisfied: ipykernel<7.0.0,>=6.7.0 in c:\\users\\lenovo\\appdata\\roaming\\python\\python311\\site-packages (from skimpy) (6.28.0)\n",
            "Requirement already satisfied: numpy<2.0.0,>=1.22.2 in c:\\users\\lenovo\\appdata\\local\\programs\\python\\python311\\lib\\site-packages (from skimpy) (1.26.4)\n",
            "Requirement already satisfied: pandas<3.0.0,>=2.0.3 in c:\\users\\lenovo\\appdata\\local\\programs\\python\\python311\\lib\\site-packages (from skimpy) (2.2.0)\n",
            "Collecting polars<0.21,>=0.19 (from skimpy)\n",
            "  Downloading polars-0.20.31-cp38-abi3-win_amd64.whl.metadata (14 kB)\n",
            "Requirement already satisfied: pyarrow<17,>=13 in c:\\users\\lenovo\\appdata\\local\\programs\\python\\python311\\lib\\site-packages (from skimpy) (15.0.0)\n",
            "Requirement already satisfied: rich<14.0,>=10.9 in c:\\users\\lenovo\\appdata\\local\\programs\\python\\python311\\lib\\site-packages (from skimpy) (13.3.5)\n",
            "Collecting typeguard==4.2.1 (from skimpy)\n",
            "  Downloading typeguard-4.2.1-py3-none-any.whl.metadata (3.7 kB)\n",
            "Collecting typing-extensions>=4.10.0 (from typeguard==4.2.1->skimpy)\n",
            "  Downloading typing_extensions-4.12.2-py3-none-any.whl.metadata (3.0 kB)\n",
            "Requirement already satisfied: colorama in c:\\users\\lenovo\\appdata\\local\\programs\\python\\python311\\lib\\site-packages (from click<9.0.0,>=8.1.6->skimpy) (0.4.6)\n",
            "Requirement already satisfied: comm>=0.1.1 in c:\\users\\lenovo\\appdata\\roaming\\python\\python311\\site-packages (from ipykernel<7.0.0,>=6.7.0->skimpy) (0.2.1)\n",
            "Requirement already satisfied: debugpy>=1.6.5 in c:\\users\\lenovo\\appdata\\roaming\\python\\python311\\site-packages (from ipykernel<7.0.0,>=6.7.0->skimpy) (1.8.0)\n",
            "Requirement already satisfied: ipython>=7.23.1 in c:\\users\\lenovo\\appdata\\roaming\\python\\python311\\site-packages (from ipykernel<7.0.0,>=6.7.0->skimpy) (8.20.0)\n",
            "Requirement already satisfied: jupyter-client>=6.1.12 in c:\\users\\lenovo\\appdata\\roaming\\python\\python311\\site-packages (from ipykernel<7.0.0,>=6.7.0->skimpy) (8.6.0)\n",
            "Requirement already satisfied: jupyter-core!=5.0.*,>=4.12 in c:\\users\\lenovo\\appdata\\roaming\\python\\python311\\site-packages (from ipykernel<7.0.0,>=6.7.0->skimpy) (5.7.1)\n",
            "Requirement already satisfied: matplotlib-inline>=0.1 in c:\\users\\lenovo\\appdata\\roaming\\python\\python311\\site-packages (from ipykernel<7.0.0,>=6.7.0->skimpy) (0.1.6)\n",
            "Requirement already satisfied: nest-asyncio in c:\\users\\lenovo\\appdata\\roaming\\python\\python311\\site-packages (from ipykernel<7.0.0,>=6.7.0->skimpy) (1.5.8)\n",
            "Requirement already satisfied: packaging in c:\\users\\lenovo\\appdata\\local\\programs\\python\\python311\\lib\\site-packages (from ipykernel<7.0.0,>=6.7.0->skimpy) (23.1)\n",
            "Requirement already satisfied: psutil in c:\\users\\lenovo\\appdata\\roaming\\python\\python311\\site-packages (from ipykernel<7.0.0,>=6.7.0->skimpy) (5.9.7)\n",
            "Requirement already satisfied: pyzmq>=24 in c:\\users\\lenovo\\appdata\\roaming\\python\\python311\\site-packages (from ipykernel<7.0.0,>=6.7.0->skimpy) (25.1.2)\n",
            "Requirement already satisfied: tornado>=6.1 in c:\\users\\lenovo\\appdata\\local\\programs\\python\\python311\\lib\\site-packages (from ipykernel<7.0.0,>=6.7.0->skimpy) (6.3.1)\n",
            "Requirement already satisfied: traitlets>=5.4.0 in c:\\users\\lenovo\\appdata\\roaming\\python\\python311\\site-packages (from ipykernel<7.0.0,>=6.7.0->skimpy) (5.14.1)\n",
            "Requirement already satisfied: python-dateutil>=2.8.2 in c:\\users\\lenovo\\appdata\\local\\programs\\python\\python311\\lib\\site-packages (from pandas<3.0.0,>=2.0.3->skimpy) (2.8.2)\n",
            "Requirement already satisfied: pytz>=2020.1 in c:\\users\\lenovo\\appdata\\local\\programs\\python\\python311\\lib\\site-packages (from pandas<3.0.0,>=2.0.3->skimpy) (2024.1)\n",
            "Requirement already satisfied: tzdata>=2022.7 in c:\\users\\lenovo\\appdata\\local\\programs\\python\\python311\\lib\\site-packages (from pandas<3.0.0,>=2.0.3->skimpy) (2024.1)\n",
            "Requirement already satisfied: markdown-it-py<3.0.0,>=2.2.0 in c:\\users\\lenovo\\appdata\\local\\programs\\python\\python311\\lib\\site-packages (from rich<14.0,>=10.9->skimpy) (2.2.0)\n",
            "Requirement already satisfied: decorator in c:\\users\\lenovo\\appdata\\local\\programs\\python\\python311\\lib\\site-packages (from ipython>=7.23.1->ipykernel<7.0.0,>=6.7.0->skimpy) (5.1.1)\n",
            "Requirement already satisfied: jedi>=0.16 in c:\\users\\lenovo\\appdata\\roaming\\python\\python311\\site-packages (from ipython>=7.23.1->ipykernel<7.0.0,>=6.7.0->skimpy) (0.19.1)\n",
            "Requirement already satisfied: prompt-toolkit<3.1.0,>=3.0.41 in c:\\users\\lenovo\\appdata\\roaming\\python\\python311\\site-packages (from ipython>=7.23.1->ipykernel<7.0.0,>=6.7.0->skimpy) (3.0.43)\n",
            "Requirement already satisfied: stack-data in c:\\users\\lenovo\\appdata\\roaming\\python\\python311\\site-packages (from ipython>=7.23.1->ipykernel<7.0.0,>=6.7.0->skimpy) (0.6.3)\n",
            "Requirement already satisfied: platformdirs>=2.5 in c:\\users\\lenovo\\appdata\\roaming\\python\\python311\\site-packages (from jupyter-core!=5.0.*,>=4.12->ipykernel<7.0.0,>=6.7.0->skimpy) (4.1.0)\n",
            "Requirement already satisfied: pywin32>=300 in c:\\users\\lenovo\\appdata\\local\\programs\\python\\python311\\lib\\site-packages (from jupyter-core!=5.0.*,>=4.12->ipykernel<7.0.0,>=6.7.0->skimpy) (306)\n",
            "Requirement already satisfied: mdurl~=0.1 in c:\\users\\lenovo\\appdata\\local\\programs\\python\\python311\\lib\\site-packages (from markdown-it-py<3.0.0,>=2.2.0->rich<14.0,>=10.9->skimpy) (0.1.2)\n",
            "Requirement already satisfied: six>=1.5 in c:\\users\\lenovo\\appdata\\local\\programs\\python\\python311\\lib\\site-packages (from python-dateutil>=2.8.2->pandas<3.0.0,>=2.0.3->skimpy) (1.16.0)\n",
            "Requirement already satisfied: parso<0.9.0,>=0.8.3 in c:\\users\\lenovo\\appdata\\roaming\\python\\python311\\site-packages (from jedi>=0.16->ipython>=7.23.1->ipykernel<7.0.0,>=6.7.0->skimpy) (0.8.3)\n",
            "Requirement already satisfied: wcwidth in c:\\users\\lenovo\\appdata\\roaming\\python\\python311\\site-packages (from prompt-toolkit<3.1.0,>=3.0.41->ipython>=7.23.1->ipykernel<7.0.0,>=6.7.0->skimpy) (0.2.13)\n",
            "Requirement already satisfied: executing>=1.2.0 in c:\\users\\lenovo\\appdata\\roaming\\python\\python311\\site-packages (from stack-data->ipython>=7.23.1->ipykernel<7.0.0,>=6.7.0->skimpy) (2.0.1)\n",
            "Requirement already satisfied: asttokens>=2.1.0 in c:\\users\\lenovo\\appdata\\roaming\\python\\python311\\site-packages (from stack-data->ipython>=7.23.1->ipykernel<7.0.0,>=6.7.0->skimpy) (2.4.1)\n",
            "Requirement already satisfied: pure-eval in c:\\users\\lenovo\\appdata\\roaming\\python\\python311\\site-packages (from stack-data->ipython>=7.23.1->ipykernel<7.0.0,>=6.7.0->skimpy) (0.2.2)\n",
            "Downloading skimpy-0.0.15-py3-none-any.whl (16 kB)\n",
            "Downloading typeguard-4.2.1-py3-none-any.whl (34 kB)\n",
            "Downloading polars-0.20.31-cp38-abi3-win_amd64.whl (28.8 MB)\n",
            "   ---------------------------------------- 0.0/28.8 MB ? eta -:--:--\n",
            "   ---------------------------------------- 0.2/28.8 MB 3.6 MB/s eta 0:00:09\n",
            "    --------------------------------------- 0.5/28.8 MB 2.8 MB/s eta 0:00:11\n",
            "    --------------------------------------- 0.6/28.8 MB 3.0 MB/s eta 0:00:10\n",
            "    --------------------------------------- 0.6/28.8 MB 2.7 MB/s eta 0:00:11\n",
            "    --------------------------------------- 0.6/28.8 MB 2.5 MB/s eta 0:00:12\n",
            "    --------------------------------------- 0.6/28.8 MB 2.5 MB/s eta 0:00:12\n",
            "   - -------------------------------------- 1.0/28.8 MB 2.2 MB/s eta 0:00:13\n",
            "   - -------------------------------------- 1.0/28.8 MB 2.2 MB/s eta 0:00:13\n",
            "   - -------------------------------------- 1.1/28.8 MB 2.1 MB/s eta 0:00:14\n",
            "   - -------------------------------------- 1.3/28.8 MB 2.1 MB/s eta 0:00:14\n",
            "   - -------------------------------------- 1.4/28.8 MB 2.2 MB/s eta 0:00:13\n",
            "   -- ------------------------------------- 1.6/28.8 MB 2.3 MB/s eta 0:00:12\n",
            "   -- ------------------------------------- 1.6/28.8 MB 2.3 MB/s eta 0:00:12\n",
            "   -- ------------------------------------- 1.6/28.8 MB 2.2 MB/s eta 0:00:13\n",
            "   -- ------------------------------------- 1.6/28.8 MB 2.2 MB/s eta 0:00:13\n",
            "   -- ------------------------------------- 1.6/28.8 MB 2.2 MB/s eta 0:00:13\n",
            "   -- ------------------------------------- 1.6/28.8 MB 2.2 MB/s eta 0:00:13\n",
            "   -- ------------------------------------- 1.9/28.8 MB 1.8 MB/s eta 0:00:15\n",
            "   -- ------------------------------------- 1.9/28.8 MB 1.8 MB/s eta 0:00:15\n",
            "   -- ------------------------------------- 2.0/28.8 MB 1.8 MB/s eta 0:00:15\n",
            "   -- ------------------------------------- 2.1/28.8 MB 1.8 MB/s eta 0:00:15\n",
            "   -- ------------------------------------- 2.2/28.8 MB 1.8 MB/s eta 0:00:15\n",
            "   --- ------------------------------------ 2.3/28.8 MB 1.8 MB/s eta 0:00:15\n",
            "   --- ------------------------------------ 2.4/28.8 MB 1.8 MB/s eta 0:00:15\n",
            "   --- ------------------------------------ 2.5/28.8 MB 1.9 MB/s eta 0:00:15\n",
            "   --- ------------------------------------ 2.6/28.8 MB 1.9 MB/s eta 0:00:15\n",
            "   --- ------------------------------------ 2.7/28.8 MB 1.9 MB/s eta 0:00:14\n",
            "   --- ------------------------------------ 2.8/28.8 MB 1.9 MB/s eta 0:00:15\n",
            "   --- ------------------------------------ 2.9/28.8 MB 1.9 MB/s eta 0:00:14\n",
            "   ---- ----------------------------------- 3.0/28.8 MB 1.9 MB/s eta 0:00:14\n",
            "   ---- ----------------------------------- 3.1/28.8 MB 1.9 MB/s eta 0:00:14\n",
            "   ---- ----------------------------------- 3.2/28.8 MB 1.9 MB/s eta 0:00:14\n",
            "   ---- ----------------------------------- 3.2/28.8 MB 1.9 MB/s eta 0:00:14\n",
            "   ---- ----------------------------------- 3.3/28.8 MB 1.9 MB/s eta 0:00:14\n",
            "   ---- ----------------------------------- 3.3/28.8 MB 1.9 MB/s eta 0:00:14\n",
            "   ---- ----------------------------------- 3.4/28.8 MB 1.8 MB/s eta 0:00:15\n",
            "   ---- ----------------------------------- 3.5/28.8 MB 1.8 MB/s eta 0:00:15\n",
            "   ---- ----------------------------------- 3.5/28.8 MB 1.8 MB/s eta 0:00:15\n",
            "   ---- ----------------------------------- 3.6/28.8 MB 1.7 MB/s eta 0:00:15\n",
            "   ----- ---------------------------------- 3.7/28.8 MB 1.8 MB/s eta 0:00:15\n",
            "   ----- ---------------------------------- 3.7/28.8 MB 1.8 MB/s eta 0:00:15\n",
            "   ----- ---------------------------------- 3.9/28.8 MB 1.8 MB/s eta 0:00:15\n",
            "   ----- ---------------------------------- 3.9/28.8 MB 1.8 MB/s eta 0:00:15\n",
            "   ----- ---------------------------------- 3.9/28.8 MB 1.8 MB/s eta 0:00:15\n",
            "   ----- ---------------------------------- 3.9/28.8 MB 1.8 MB/s eta 0:00:15\n",
            "   ----- ---------------------------------- 3.9/28.8 MB 1.8 MB/s eta 0:00:15\n",
            "   ----- ---------------------------------- 3.9/28.8 MB 1.8 MB/s eta 0:00:15\n",
            "   ----- ---------------------------------- 3.9/28.8 MB 1.8 MB/s eta 0:00:15\n",
            "   ----- ---------------------------------- 3.9/28.8 MB 1.8 MB/s eta 0:00:15\n",
            "   ----- ---------------------------------- 3.9/28.8 MB 1.8 MB/s eta 0:00:15\n",
            "   ----- ---------------------------------- 3.9/28.8 MB 1.8 MB/s eta 0:00:15\n",
            "   ----- ---------------------------------- 3.9/28.8 MB 1.8 MB/s eta 0:00:15\n",
            "   ----- ---------------------------------- 3.9/28.8 MB 1.8 MB/s eta 0:00:15\n",
            "   ----- ---------------------------------- 3.9/28.8 MB 1.8 MB/s eta 0:00:15\n",
            "   ----- ---------------------------------- 3.9/28.8 MB 1.8 MB/s eta 0:00:15\n",
            "   ----- ---------------------------------- 3.9/28.8 MB 1.4 MB/s eta 0:00:19\n",
            "   ----- ---------------------------------- 4.0/28.8 MB 1.3 MB/s eta 0:00:19\n",
            "   ----- ---------------------------------- 4.0/28.8 MB 1.3 MB/s eta 0:00:19\n",
            "   ----- ---------------------------------- 4.0/28.8 MB 1.3 MB/s eta 0:00:19\n",
            "   ----- ---------------------------------- 4.0/28.8 MB 1.3 MB/s eta 0:00:19\n",
            "   ----- ---------------------------------- 4.0/28.8 MB 1.3 MB/s eta 0:00:19\n",
            "   ----- ---------------------------------- 4.0/28.8 MB 1.3 MB/s eta 0:00:20\n",
            "   ----- ---------------------------------- 4.1/28.8 MB 1.2 MB/s eta 0:00:21\n",
            "   ----- ---------------------------------- 4.1/28.8 MB 1.2 MB/s eta 0:00:21\n",
            "   ----- ---------------------------------- 4.1/28.8 MB 1.2 MB/s eta 0:00:21\n",
            "   ----- ---------------------------------- 4.2/28.8 MB 1.2 MB/s eta 0:00:21\n",
            "   ----- ---------------------------------- 4.3/28.8 MB 1.2 MB/s eta 0:00:21\n",
            "   ----- ---------------------------------- 4.3/28.8 MB 1.2 MB/s eta 0:00:21\n",
            "   ------ --------------------------------- 4.4/28.8 MB 1.2 MB/s eta 0:00:21\n",
            "   ------ --------------------------------- 4.4/28.8 MB 1.2 MB/s eta 0:00:21\n",
            "   ------ --------------------------------- 4.5/28.8 MB 1.2 MB/s eta 0:00:21\n",
            "   ------ --------------------------------- 4.6/28.8 MB 1.2 MB/s eta 0:00:21\n",
            "   ------ --------------------------------- 4.6/28.8 MB 1.2 MB/s eta 0:00:21\n",
            "   ------ --------------------------------- 4.7/28.8 MB 1.2 MB/s eta 0:00:21\n",
            "   ------ --------------------------------- 4.8/28.8 MB 1.2 MB/s eta 0:00:21\n",
            "   ------ --------------------------------- 4.8/28.8 MB 1.2 MB/s eta 0:00:21\n",
            "   ------ --------------------------------- 4.8/28.8 MB 1.1 MB/s eta 0:00:21\n",
            "   ------ --------------------------------- 4.9/28.8 MB 1.1 MB/s eta 0:00:21\n",
            "   ------ --------------------------------- 4.9/28.8 MB 1.1 MB/s eta 0:00:22\n",
            "   ------ --------------------------------- 5.0/28.8 MB 1.1 MB/s eta 0:00:22\n",
            "   ------- -------------------------------- 5.1/28.8 MB 1.1 MB/s eta 0:00:21\n",
            "   ------- -------------------------------- 5.2/28.8 MB 1.1 MB/s eta 0:00:22\n",
            "   ------- -------------------------------- 5.2/28.8 MB 1.1 MB/s eta 0:00:21\n",
            "   ------- -------------------------------- 5.3/28.8 MB 1.1 MB/s eta 0:00:22\n",
            "   ------- -------------------------------- 5.3/28.8 MB 1.1 MB/s eta 0:00:22\n",
            "   ------- -------------------------------- 5.4/28.8 MB 1.1 MB/s eta 0:00:22\n",
            "   ------- -------------------------------- 5.4/28.8 MB 1.1 MB/s eta 0:00:22\n",
            "   ------- -------------------------------- 5.4/28.8 MB 1.1 MB/s eta 0:00:22\n",
            "   ------- -------------------------------- 5.5/28.8 MB 1.1 MB/s eta 0:00:22\n",
            "   ------- -------------------------------- 5.5/28.8 MB 1.1 MB/s eta 0:00:22\n",
            "   ------- -------------------------------- 5.5/28.8 MB 1.1 MB/s eta 0:00:22\n",
            "   ------- -------------------------------- 5.6/28.8 MB 1.1 MB/s eta 0:00:22\n",
            "   ------- -------------------------------- 5.6/28.8 MB 1.1 MB/s eta 0:00:22\n",
            "   ------- -------------------------------- 5.6/28.8 MB 1.1 MB/s eta 0:00:22\n",
            "   ------- -------------------------------- 5.7/28.8 MB 1.1 MB/s eta 0:00:22\n",
            "   ------- -------------------------------- 5.7/28.8 MB 1.1 MB/s eta 0:00:22\n",
            "   ------- -------------------------------- 5.7/28.8 MB 1.1 MB/s eta 0:00:22\n",
            "   ------- -------------------------------- 5.8/28.8 MB 1.1 MB/s eta 0:00:22\n",
            "   -------- ------------------------------- 5.8/28.8 MB 1.1 MB/s eta 0:00:22\n",
            "   -------- ------------------------------- 5.9/28.8 MB 1.0 MB/s eta 0:00:22\n",
            "   -------- ------------------------------- 5.9/28.8 MB 1.0 MB/s eta 0:00:22\n",
            "   -------- ------------------------------- 6.0/28.8 MB 1.0 MB/s eta 0:00:22\n",
            "   -------- ------------------------------- 6.1/28.8 MB 1.0 MB/s eta 0:00:23\n",
            "   -------- ------------------------------- 6.2/28.8 MB 1.0 MB/s eta 0:00:23\n",
            "   -------- ------------------------------- 6.2/28.8 MB 1.0 MB/s eta 0:00:23\n",
            "   -------- ------------------------------- 6.2/28.8 MB 1.0 MB/s eta 0:00:23\n",
            "   -------- ------------------------------- 6.3/28.8 MB 1.0 MB/s eta 0:00:23\n",
            "   -------- ------------------------------- 6.3/28.8 MB 1.0 MB/s eta 0:00:23\n",
            "   -------- ------------------------------- 6.4/28.8 MB 999.8 kB/s eta 0:00:23\n",
            "   -------- ------------------------------- 6.4/28.8 MB 998.2 kB/s eta 0:00:23\n",
            "   -------- ------------------------------- 6.5/28.8 MB 993.2 kB/s eta 0:00:23\n",
            "   --------- ------------------------------ 6.5/28.8 MB 990.8 kB/s eta 0:00:23\n",
            "   --------- ------------------------------ 6.6/28.8 MB 989.9 kB/s eta 0:00:23\n",
            "   --------- ------------------------------ 6.6/28.8 MB 987.6 kB/s eta 0:00:23\n",
            "   --------- ------------------------------ 6.7/28.8 MB 986.1 kB/s eta 0:00:23\n",
            "   --------- ------------------------------ 6.8/28.8 MB 984.5 kB/s eta 0:00:23\n",
            "   --------- ------------------------------ 6.9/28.8 MB 980.8 kB/s eta 0:00:23\n",
            "   --------- ------------------------------ 7.0/28.8 MB 981.6 kB/s eta 0:00:23\n",
            "   --------- ------------------------------ 7.0/28.8 MB 980.9 kB/s eta 0:00:23\n",
            "   --------- ------------------------------ 7.1/28.8 MB 981.0 kB/s eta 0:00:23\n",
            "   --------- ------------------------------ 7.2/28.8 MB 980.9 kB/s eta 0:00:23\n",
            "   ---------- ----------------------------- 7.2/28.8 MB 980.3 kB/s eta 0:00:23\n",
            "   ---------- ----------------------------- 7.3/28.8 MB 983.0 kB/s eta 0:00:22\n",
            "   ---------- ----------------------------- 7.4/28.8 MB 981.7 kB/s eta 0:00:22\n",
            "   ---------- ----------------------------- 7.5/28.8 MB 980.3 kB/s eta 0:00:22\n",
            "   ---------- ----------------------------- 7.5/28.8 MB 978.3 kB/s eta 0:00:22\n",
            "   ---------- ----------------------------- 7.5/28.8 MB 977.1 kB/s eta 0:00:22\n",
            "   ---------- ----------------------------- 7.6/28.8 MB 974.4 kB/s eta 0:00:22\n",
            "   ---------- ----------------------------- 7.6/28.8 MB 975.1 kB/s eta 0:00:22\n",
            "   ---------- ----------------------------- 7.7/28.8 MB 973.9 kB/s eta 0:00:22\n",
            "   ---------- ----------------------------- 7.7/28.8 MB 974.0 kB/s eta 0:00:22\n",
            "   ---------- ----------------------------- 7.8/28.8 MB 972.7 kB/s eta 0:00:22\n",
            "   ---------- ----------------------------- 7.8/28.8 MB 970.9 kB/s eta 0:00:22\n",
            "   ---------- ----------------------------- 7.8/28.8 MB 971.5 kB/s eta 0:00:22\n",
            "   ---------- ----------------------------- 7.9/28.8 MB 971.6 kB/s eta 0:00:22\n",
            "   ---------- ----------------------------- 7.9/28.8 MB 970.5 kB/s eta 0:00:22\n",
            "   ----------- ---------------------------- 8.0/28.8 MB 971.2 kB/s eta 0:00:22\n",
            "   ----------- ---------------------------- 8.0/28.8 MB 971.9 kB/s eta 0:00:22\n",
            "   ----------- ---------------------------- 8.1/28.8 MB 970.1 kB/s eta 0:00:22\n",
            "   ----------- ---------------------------- 8.1/28.8 MB 970.7 kB/s eta 0:00:22\n",
            "   ----------- ---------------------------- 8.2/28.8 MB 968.5 kB/s eta 0:00:22\n",
            "   ----------- ---------------------------- 8.2/28.8 MB 969.1 kB/s eta 0:00:22\n",
            "   ----------- ---------------------------- 8.2/28.8 MB 969.7 kB/s eta 0:00:22\n",
            "   ----------- ---------------------------- 8.3/28.8 MB 966.9 kB/s eta 0:00:22\n",
            "   ----------- ---------------------------- 8.3/28.8 MB 966.3 kB/s eta 0:00:22\n",
            "   ----------- ---------------------------- 8.4/28.8 MB 967.0 kB/s eta 0:00:22\n",
            "   ----------- ---------------------------- 8.4/28.8 MB 967.1 kB/s eta 0:00:22\n",
            "   ----------- ---------------------------- 8.4/28.8 MB 967.7 kB/s eta 0:00:22\n",
            "   ----------- ---------------------------- 8.5/28.8 MB 964.4 kB/s eta 0:00:22\n",
            "   ----------- ---------------------------- 8.5/28.8 MB 965.1 kB/s eta 0:00:22\n",
            "   ----------- ---------------------------- 8.6/28.8 MB 965.7 kB/s eta 0:00:21\n",
            "   ----------- ---------------------------- 8.6/28.8 MB 966.4 kB/s eta 0:00:21\n",
            "   ------------ --------------------------- 8.7/28.8 MB 968.2 kB/s eta 0:00:21\n",
            "   ------------ --------------------------- 8.7/28.8 MB 968.8 kB/s eta 0:00:21\n",
            "   ------------ --------------------------- 8.8/28.8 MB 971.2 kB/s eta 0:00:21\n",
            "   ------------ --------------------------- 8.9/28.8 MB 971.3 kB/s eta 0:00:21\n",
            "   ------------ --------------------------- 8.9/28.8 MB 972.4 kB/s eta 0:00:21\n",
            "   ------------ --------------------------- 9.0/28.8 MB 970.8 kB/s eta 0:00:21\n",
            "   ------------ --------------------------- 9.0/28.8 MB 971.4 kB/s eta 0:00:21\n",
            "   ------------ --------------------------- 9.1/28.8 MB 969.3 kB/s eta 0:00:21\n",
            "   ------------ --------------------------- 9.1/28.8 MB 970.5 kB/s eta 0:00:21\n",
            "   ------------ --------------------------- 9.1/28.8 MB 968.4 kB/s eta 0:00:21\n",
            "   ------------ --------------------------- 9.2/28.8 MB 969.5 kB/s eta 0:00:21\n",
            "   ------------ --------------------------- 9.2/28.8 MB 969.0 kB/s eta 0:00:21\n",
            "   ------------ --------------------------- 9.3/28.8 MB 968.6 kB/s eta 0:00:21\n",
            "   ------------ --------------------------- 9.3/28.8 MB 969.2 kB/s eta 0:00:21\n",
            "   ------------ --------------------------- 9.4/28.8 MB 969.3 kB/s eta 0:00:21\n",
            "   ------------- -------------------------- 9.4/28.8 MB 969.3 kB/s eta 0:00:21\n",
            "   ------------- -------------------------- 9.5/28.8 MB 968.4 kB/s eta 0:00:20\n",
            "   ------------- -------------------------- 9.5/28.8 MB 970.0 kB/s eta 0:00:20\n",
            "   ------------- -------------------------- 9.6/28.8 MB 969.6 kB/s eta 0:00:20\n",
            "   ------------- -------------------------- 9.7/28.8 MB 970.2 kB/s eta 0:00:20\n",
            "   ------------- -------------------------- 9.7/28.8 MB 971.3 kB/s eta 0:00:20\n",
            "   ------------- -------------------------- 9.8/28.8 MB 972.3 kB/s eta 0:00:20\n",
            "   ------------- -------------------------- 9.8/28.8 MB 972.9 kB/s eta 0:00:20\n",
            "   ------------- -------------------------- 9.9/28.8 MB 973.5 kB/s eta 0:00:20\n",
            "   ------------- -------------------------- 10.0/28.8 MB 973.6 kB/s eta 0:00:20\n",
            "   ------------- -------------------------- 10.0/28.8 MB 972.1 kB/s eta 0:00:20\n",
            "   -------------- ------------------------- 10.1/28.8 MB 974.7 kB/s eta 0:00:20\n",
            "   -------------- ------------------------- 10.2/28.8 MB 976.2 kB/s eta 0:00:20\n",
            "   -------------- ------------------------- 10.2/28.8 MB 977.1 kB/s eta 0:00:20\n",
            "   -------------- ------------------------- 10.3/28.8 MB 974.3 kB/s eta 0:00:20\n",
            "   -------------- ------------------------- 10.4/28.8 MB 968.5 kB/s eta 0:00:20\n",
            "   -------------- ------------------------- 10.4/28.8 MB 968.5 kB/s eta 0:00:20\n",
            "   -------------- ------------------------- 10.5/28.8 MB 964.2 kB/s eta 0:00:20\n",
            "   -------------- ------------------------- 10.6/28.8 MB 962.8 kB/s eta 0:00:19\n",
            "   -------------- ------------------------- 10.7/28.8 MB 959.9 kB/s eta 0:00:19\n",
            "   -------------- ------------------------- 10.7/28.8 MB 958.6 kB/s eta 0:00:19\n",
            "   -------------- ------------------------- 10.8/28.8 MB 954.4 kB/s eta 0:00:19\n",
            "   --------------- ------------------------ 10.8/28.8 MB 954.4 kB/s eta 0:00:19\n",
            "   --------------- ------------------------ 10.9/28.8 MB 965.7 kB/s eta 0:00:19\n",
            "   --------------- ------------------------ 11.0/28.8 MB 958.6 kB/s eta 0:00:19\n",
            "   --------------- ------------------------ 11.1/28.8 MB 951.6 kB/s eta 0:00:19\n",
            "   --------------- ------------------------ 11.3/28.8 MB 948.8 kB/s eta 0:00:19\n",
            "   --------------- ------------------------ 11.5/28.8 MB 947.5 kB/s eta 0:00:19\n",
            "   ---------------- ----------------------- 11.7/28.8 MB 938.0 kB/s eta 0:00:19\n",
            "   ---------------- ----------------------- 11.9/28.8 MB 953.0 kB/s eta 0:00:18\n",
            "   ---------------- ----------------------- 12.2/28.8 MB 947.5 kB/s eta 0:00:18\n",
            "   ----------------- ---------------------- 12.4/28.8 MB 947.5 kB/s eta 0:00:18\n",
            "   ----------------- ---------------------- 12.5/28.8 MB 947.5 kB/s eta 0:00:18\n",
            "   ----------------- ---------------------- 12.6/28.8 MB 944.8 kB/s eta 0:00:18\n",
            "   ----------------- ---------------------- 12.7/28.8 MB 943.4 kB/s eta 0:00:18\n",
            "   ----------------- ---------------------- 12.7/28.8 MB 943.4 kB/s eta 0:00:18\n",
            "   ----------------- ---------------------- 12.7/28.8 MB 943.4 kB/s eta 0:00:18\n",
            "   ----------------- ---------------------- 12.7/28.8 MB 943.4 kB/s eta 0:00:18\n",
            "   ----------------- ---------------------- 12.8/28.8 MB 930.0 kB/s eta 0:00:18\n",
            "   ----------------- ---------------------- 12.8/28.8 MB 930.0 kB/s eta 0:00:18\n",
            "   ----------------- ---------------------- 12.8/28.8 MB 930.0 kB/s eta 0:00:18\n",
            "   ----------------- ---------------------- 12.8/28.8 MB 930.0 kB/s eta 0:00:18\n",
            "   ----------------- ---------------------- 12.8/28.8 MB 913.1 kB/s eta 0:00:18\n",
            "   ----------------- ---------------------- 12.9/28.8 MB 910.5 kB/s eta 0:00:18\n",
            "   ----------------- ---------------------- 12.9/28.8 MB 906.7 kB/s eta 0:00:18\n",
            "   ----------------- ---------------------- 12.9/28.8 MB 905.6 kB/s eta 0:00:18\n",
            "   ----------------- ---------------------- 13.0/28.8 MB 903.0 kB/s eta 0:00:18\n",
            "   ----------------- ---------------------- 13.0/28.8 MB 903.0 kB/s eta 0:00:18\n",
            "   ------------------ --------------------- 13.0/28.8 MB 898.1 kB/s eta 0:00:18\n",
            "   ------------------ --------------------- 13.1/28.8 MB 895.6 kB/s eta 0:00:18\n",
            "   ------------------ --------------------- 13.1/28.8 MB 891.9 kB/s eta 0:00:18\n",
            "   ------------------ --------------------- 13.1/28.8 MB 889.5 kB/s eta 0:00:18\n",
            "   ------------------ --------------------- 13.2/28.8 MB 888.3 kB/s eta 0:00:18\n",
            "   ------------------ --------------------- 13.2/28.8 MB 885.9 kB/s eta 0:00:18\n",
            "   ------------------ --------------------- 13.3/28.8 MB 881.1 kB/s eta 0:00:18\n",
            "   ------------------ --------------------- 13.3/28.8 MB 878.8 kB/s eta 0:00:18\n",
            "   ------------------ --------------------- 13.3/28.8 MB 877.6 kB/s eta 0:00:18\n",
            "   ------------------ --------------------- 13.3/28.8 MB 877.6 kB/s eta 0:00:18\n",
            "   ------------------ --------------------- 13.3/28.8 MB 871.7 kB/s eta 0:00:18\n",
            "   ------------------ --------------------- 13.4/28.8 MB 868.3 kB/s eta 0:00:18\n",
            "   ------------------ --------------------- 13.4/28.8 MB 868.3 kB/s eta 0:00:18\n",
            "   ------------------ --------------------- 13.4/28.8 MB 868.3 kB/s eta 0:00:18\n",
            "   ------------------ --------------------- 13.4/28.8 MB 859.2 kB/s eta 0:00:19\n",
            "   ------------------ --------------------- 13.4/28.8 MB 857.0 kB/s eta 0:00:19\n",
            "   ------------------ --------------------- 13.4/28.8 MB 852.5 kB/s eta 0:00:19\n",
            "   ------------------ --------------------- 13.4/28.8 MB 852.5 kB/s eta 0:00:19\n",
            "   ------------------ --------------------- 13.4/28.8 MB 844.7 kB/s eta 0:00:19\n",
            "   ------------------ --------------------- 13.4/28.8 MB 844.7 kB/s eta 0:00:19\n",
            "   ------------------ --------------------- 13.4/28.8 MB 844.7 kB/s eta 0:00:19\n",
            "   ------------------ --------------------- 13.4/28.8 MB 836.1 kB/s eta 0:00:19\n",
            "   ------------------ --------------------- 13.4/28.8 MB 833.0 kB/s eta 0:00:19\n",
            "   ------------------ --------------------- 13.4/28.8 MB 833.0 kB/s eta 0:00:19\n",
            "   ------------------ --------------------- 13.5/28.8 MB 825.6 kB/s eta 0:00:19\n",
            "   ------------------ --------------------- 13.5/28.8 MB 825.6 kB/s eta 0:00:19\n",
            "   ------------------ --------------------- 13.5/28.8 MB 823.5 kB/s eta 0:00:19\n",
            "   ------------------ --------------------- 13.5/28.8 MB 819.4 kB/s eta 0:00:19\n",
            "   ------------------ --------------------- 13.5/28.8 MB 819.4 kB/s eta 0:00:19\n",
            "   ------------------ --------------------- 13.5/28.8 MB 819.4 kB/s eta 0:00:19\n",
            "   ------------------ --------------------- 13.5/28.8 MB 810.3 kB/s eta 0:00:19\n",
            "   ------------------ --------------------- 13.5/28.8 MB 811.3 kB/s eta 0:00:19\n",
            "   ------------------ --------------------- 13.5/28.8 MB 807.3 kB/s eta 0:00:19\n",
            "   ------------------ --------------------- 13.5/28.8 MB 807.3 kB/s eta 0:00:19\n",
            "   ------------------ --------------------- 13.5/28.8 MB 807.3 kB/s eta 0:00:19\n",
            "   ------------------ --------------------- 13.6/28.8 MB 794.5 kB/s eta 0:00:20\n",
            "   ------------------ --------------------- 13.6/28.8 MB 794.5 kB/s eta 0:00:20\n",
            "   ------------------ --------------------- 13.6/28.8 MB 788.8 kB/s eta 0:00:20\n",
            "   ------------------ --------------------- 13.6/28.8 MB 785.9 kB/s eta 0:00:20\n",
            "   ------------------ --------------------- 13.6/28.8 MB 778.5 kB/s eta 0:00:20\n",
            "   ------------------ --------------------- 13.7/28.8 MB 776.6 kB/s eta 0:00:20\n",
            "   ------------------- -------------------- 13.7/28.8 MB 771.2 kB/s eta 0:00:20\n",
            "   ------------------- -------------------- 13.8/28.8 MB 765.7 kB/s eta 0:00:20\n",
            "   ------------------- -------------------- 13.8/28.8 MB 761.3 kB/s eta 0:00:20\n",
            "   ------------------- -------------------- 13.9/28.8 MB 752.5 kB/s eta 0:00:20\n",
            "   ------------------- -------------------- 13.9/28.8 MB 748.2 kB/s eta 0:00:20\n",
            "   ------------------- -------------------- 14.0/28.8 MB 745.7 kB/s eta 0:00:20\n",
            "   ------------------- -------------------- 14.0/28.8 MB 737.3 kB/s eta 0:00:21\n",
            "   ------------------- -------------------- 14.1/28.8 MB 725.8 kB/s eta 0:00:21\n",
            "   ------------------- -------------------- 14.2/28.8 MB 755.1 kB/s eta 0:00:20\n",
            "   ------------------- -------------------- 14.3/28.8 MB 756.9 kB/s eta 0:00:20\n",
            "   ------------------- -------------------- 14.3/28.8 MB 770.2 kB/s eta 0:00:19\n",
            "   ------------------- -------------------- 14.4/28.8 MB 769.3 kB/s eta 0:00:19\n",
            "   -------------------- ------------------- 14.4/28.8 MB 767.5 kB/s eta 0:00:19\n",
            "   -------------------- ------------------- 14.4/28.8 MB 763.9 kB/s eta 0:00:19\n",
            "   -------------------- ------------------- 14.5/28.8 MB 762.2 kB/s eta 0:00:19\n",
            "   -------------------- ------------------- 14.6/28.8 MB 759.5 kB/s eta 0:00:19\n",
            "   -------------------- ------------------- 14.6/28.8 MB 756.9 kB/s eta 0:00:19\n",
            "   -------------------- ------------------- 14.6/28.8 MB 756.0 kB/s eta 0:00:19\n",
            "   -------------------- ------------------- 14.7/28.8 MB 751.6 kB/s eta 0:00:19\n",
            "   -------------------- ------------------- 14.7/28.8 MB 748.3 kB/s eta 0:00:19\n",
            "   -------------------- ------------------- 14.7/28.8 MB 745.7 kB/s eta 0:00:19\n",
            "   -------------------- ------------------- 14.8/28.8 MB 742.3 kB/s eta 0:00:19\n",
            "   -------------------- ------------------- 14.8/28.8 MB 738.9 kB/s eta 0:00:20\n",
            "   -------------------- ------------------- 14.8/28.8 MB 736.4 kB/s eta 0:00:20\n",
            "   -------------------- ------------------- 14.8/28.8 MB 733.2 kB/s eta 0:00:20\n",
            "   -------------------- ------------------- 14.9/28.8 MB 732.3 kB/s eta 0:00:20\n",
            "   -------------------- ------------------- 14.9/28.8 MB 728.3 kB/s eta 0:00:20\n",
            "   -------------------- ------------------- 14.9/28.8 MB 726.6 kB/s eta 0:00:20\n",
            "   -------------------- ------------------- 14.9/28.8 MB 726.6 kB/s eta 0:00:20\n",
            "   -------------------- ------------------- 15.0/28.8 MB 722.6 kB/s eta 0:00:20\n",
            "   -------------------- ------------------- 15.0/28.8 MB 721.8 kB/s eta 0:00:20\n",
            "   -------------------- ------------------- 15.0/28.8 MB 718.6 kB/s eta 0:00:20\n",
            "   -------------------- ------------------- 15.0/28.8 MB 719.4 kB/s eta 0:00:20\n",
            "   -------------------- ------------------- 15.1/28.8 MB 717.1 kB/s eta 0:00:20\n",
            "   -------------------- ------------------- 15.1/28.8 MB 716.3 kB/s eta 0:00:20\n",
            "   -------------------- ------------------- 15.1/28.8 MB 714.0 kB/s eta 0:00:20\n",
            "   --------------------- ------------------ 15.2/28.8 MB 713.2 kB/s eta 0:00:20\n",
            "   --------------------- ------------------ 15.2/28.8 MB 713.2 kB/s eta 0:00:20\n",
            "   --------------------- ------------------ 15.2/28.8 MB 710.8 kB/s eta 0:00:20\n",
            "   --------------------- ------------------ 15.2/28.8 MB 710.8 kB/s eta 0:00:20\n",
            "   --------------------- ------------------ 15.3/28.8 MB 709.3 kB/s eta 0:00:20\n",
            "   --------------------- ------------------ 15.3/28.8 MB 709.3 kB/s eta 0:00:20\n",
            "   --------------------- ------------------ 15.3/28.8 MB 707.8 kB/s eta 0:00:20\n",
            "   --------------------- ------------------ 15.3/28.8 MB 707.1 kB/s eta 0:00:20\n",
            "   --------------------- ------------------ 15.4/28.8 MB 706.2 kB/s eta 0:00:20\n",
            "   --------------------- ------------------ 15.4/28.8 MB 706.3 kB/s eta 0:00:19\n",
            "   --------------------- ------------------ 15.5/28.8 MB 706.3 kB/s eta 0:00:19\n",
            "   --------------------- ------------------ 15.5/28.8 MB 706.3 kB/s eta 0:00:19\n",
            "   --------------------- ------------------ 15.5/28.8 MB 706.3 kB/s eta 0:00:19\n",
            "   --------------------- ------------------ 15.6/28.8 MB 704.7 kB/s eta 0:00:19\n",
            "   --------------------- ------------------ 15.6/28.8 MB 704.0 kB/s eta 0:00:19\n",
            "   --------------------- ------------------ 15.6/28.8 MB 705.5 kB/s eta 0:00:19\n",
            "   --------------------- ------------------ 15.7/28.8 MB 704.7 kB/s eta 0:00:19\n",
            "   --------------------- ------------------ 15.7/28.8 MB 705.5 kB/s eta 0:00:19\n",
            "   --------------------- ------------------ 15.7/28.8 MB 704.7 kB/s eta 0:00:19\n",
            "   --------------------- ------------------ 15.8/28.8 MB 706.2 kB/s eta 0:00:19\n",
            "   --------------------- ------------------ 15.8/28.8 MB 707.0 kB/s eta 0:00:19\n",
            "   --------------------- ------------------ 15.9/28.8 MB 708.5 kB/s eta 0:00:19\n",
            "   ---------------------- ----------------- 15.9/28.8 MB 707.1 kB/s eta 0:00:19\n",
            "   ---------------------- ----------------- 15.9/28.8 MB 707.8 kB/s eta 0:00:19\n",
            "   ---------------------- ----------------- 16.0/28.8 MB 708.6 kB/s eta 0:00:19\n",
            "   ---------------------- ----------------- 16.0/28.8 MB 709.3 kB/s eta 0:00:19\n",
            "   ---------------------- ----------------- 16.0/28.8 MB 710.1 kB/s eta 0:00:19\n",
            "   ---------------------- ----------------- 16.1/28.8 MB 709.4 kB/s eta 0:00:18\n",
            "   ---------------------- ----------------- 16.1/28.8 MB 709.3 kB/s eta 0:00:18\n",
            "   ---------------------- ----------------- 16.1/28.8 MB 710.1 kB/s eta 0:00:18\n",
            "   ---------------------- ----------------- 16.2/28.8 MB 710.9 kB/s eta 0:00:18\n",
            "   ---------------------- ----------------- 16.2/28.8 MB 712.4 kB/s eta 0:00:18\n",
            "   ---------------------- ----------------- 16.3/28.8 MB 711.6 kB/s eta 0:00:18\n",
            "   ---------------------- ----------------- 16.3/28.8 MB 712.4 kB/s eta 0:00:18\n",
            "   ---------------------- ----------------- 16.4/28.8 MB 714.7 kB/s eta 0:00:18\n",
            "   ---------------------- ----------------- 16.4/28.8 MB 714.8 kB/s eta 0:00:18\n",
            "   ---------------------- ----------------- 16.5/28.8 MB 716.3 kB/s eta 0:00:18\n",
            "   ---------------------- ----------------- 16.5/28.8 MB 717.9 kB/s eta 0:00:18\n",
            "   ----------------------- ---------------- 16.6/28.8 MB 719.4 kB/s eta 0:00:18\n",
            "   ----------------------- ---------------- 16.7/28.8 MB 721.1 kB/s eta 0:00:17\n",
            "   ----------------------- ---------------- 16.7/28.8 MB 721.0 kB/s eta 0:00:17\n",
            "   ----------------------- ---------------- 16.8/28.8 MB 722.6 kB/s eta 0:00:17\n",
            "   ----------------------- ---------------- 16.8/28.8 MB 723.5 kB/s eta 0:00:17\n",
            "   ----------------------- ---------------- 16.9/28.8 MB 724.2 kB/s eta 0:00:17\n",
            "   ----------------------- ---------------- 16.9/28.8 MB 724.2 kB/s eta 0:00:17\n",
            "   ----------------------- ---------------- 17.0/28.8 MB 725.8 kB/s eta 0:00:17\n",
            "   ----------------------- ---------------- 17.1/28.8 MB 727.4 kB/s eta 0:00:17\n",
            "   ----------------------- ---------------- 17.1/28.8 MB 727.5 kB/s eta 0:00:17\n",
            "   ----------------------- ---------------- 17.2/28.8 MB 728.3 kB/s eta 0:00:17\n",
            "   ----------------------- ---------------- 17.2/28.8 MB 726.6 kB/s eta 0:00:17\n",
            "   ----------------------- ---------------- 17.2/28.8 MB 726.6 kB/s eta 0:00:17\n",
            "   ----------------------- ---------------- 17.2/28.8 MB 726.6 kB/s eta 0:00:17\n",
            "   ----------------------- ---------------- 17.2/28.8 MB 726.6 kB/s eta 0:00:17\n",
            "   ----------------------- ---------------- 17.3/28.8 MB 719.4 kB/s eta 0:00:17\n",
            "   ----------------------- ---------------- 17.3/28.8 MB 718.6 kB/s eta 0:00:17\n",
            "   ------------------------ --------------- 17.3/28.8 MB 717.9 kB/s eta 0:00:17\n",
            "   ------------------------ --------------- 17.4/28.8 MB 717.9 kB/s eta 0:00:16\n",
            "   ------------------------ --------------- 17.4/28.8 MB 718.6 kB/s eta 0:00:16\n",
            "   ------------------------ --------------- 17.5/28.8 MB 718.7 kB/s eta 0:00:16\n",
            "   ------------------------ --------------- 17.5/28.8 MB 718.7 kB/s eta 0:00:16\n",
            "   ------------------------ --------------- 17.6/28.8 MB 717.1 kB/s eta 0:00:16\n",
            "   ------------------------ --------------- 17.6/28.8 MB 717.1 kB/s eta 0:00:16\n",
            "   ------------------------ --------------- 17.7/28.8 MB 717.1 kB/s eta 0:00:16\n",
            "   ------------------------ --------------- 17.7/28.8 MB 717.9 kB/s eta 0:00:16\n",
            "   ------------------------ --------------- 17.8/28.8 MB 718.6 kB/s eta 0:00:16\n",
            "   ------------------------ --------------- 17.8/28.8 MB 720.3 kB/s eta 0:00:16\n",
            "   ------------------------ --------------- 17.8/28.8 MB 719.4 kB/s eta 0:00:16\n",
            "   ------------------------ --------------- 17.9/28.8 MB 721.0 kB/s eta 0:00:16\n",
            "   ------------------------ --------------- 17.9/28.8 MB 720.3 kB/s eta 0:00:16\n",
            "   ------------------------ --------------- 18.0/28.8 MB 721.1 kB/s eta 0:00:16\n",
            "   ------------------------- -------------- 18.1/28.8 MB 722.6 kB/s eta 0:00:15\n",
            "   ------------------------- -------------- 18.1/28.8 MB 722.6 kB/s eta 0:00:15\n",
            "   ------------------------- -------------- 18.2/28.8 MB 723.4 kB/s eta 0:00:15\n",
            "   ------------------------- -------------- 18.2/28.8 MB 724.2 kB/s eta 0:00:15\n",
            "   ------------------------- -------------- 18.3/28.8 MB 725.8 kB/s eta 0:00:15\n",
            "   ------------------------- -------------- 18.3/28.8 MB 725.1 kB/s eta 0:00:15\n",
            "   ------------------------- -------------- 18.4/28.8 MB 725.8 kB/s eta 0:00:15\n",
            "   ------------------------- -------------- 18.4/28.8 MB 725.8 kB/s eta 0:00:15\n",
            "   ------------------------- -------------- 18.5/28.8 MB 728.3 kB/s eta 0:00:15\n",
            "   ------------------------- -------------- 18.6/28.8 MB 728.3 kB/s eta 0:00:15\n",
            "   ------------------------- -------------- 18.6/28.8 MB 727.4 kB/s eta 0:00:15\n",
            "   ------------------------- -------------- 18.7/28.8 MB 730.7 kB/s eta 0:00:14\n",
            "   -------------------------- ------------- 18.8/28.8 MB 731.5 kB/s eta 0:00:14\n",
            "   -------------------------- ------------- 18.9/28.8 MB 732.4 kB/s eta 0:00:14\n",
            "   -------------------------- ------------- 19.0/28.8 MB 731.5 kB/s eta 0:00:14\n",
            "   -------------------------- ------------- 19.1/28.8 MB 731.5 kB/s eta 0:00:14\n",
            "   -------------------------- ------------- 19.2/28.8 MB 730.7 kB/s eta 0:00:14\n",
            "   -------------------------- ------------- 19.3/28.8 MB 729.0 kB/s eta 0:00:14\n",
            "   -------------------------- ------------- 19.3/28.8 MB 729.9 kB/s eta 0:00:14\n",
            "   -------------------------- ------------- 19.4/28.8 MB 730.7 kB/s eta 0:00:13\n",
            "   -------------------------- ------------- 19.4/28.8 MB 729.0 kB/s eta 0:00:13\n",
            "   --------------------------- ------------ 19.5/28.8 MB 729.9 kB/s eta 0:00:13\n",
            "   --------------------------- ------------ 19.5/28.8 MB 729.9 kB/s eta 0:00:13\n",
            "   --------------------------- ------------ 19.6/28.8 MB 729.9 kB/s eta 0:00:13\n",
            "   --------------------------- ------------ 19.7/28.8 MB 729.1 kB/s eta 0:00:13\n",
            "   --------------------------- ------------ 19.7/28.8 MB 729.1 kB/s eta 0:00:13\n",
            "   --------------------------- ------------ 19.8/28.8 MB 729.1 kB/s eta 0:00:13\n",
            "   --------------------------- ------------ 19.8/28.8 MB 729.1 kB/s eta 0:00:13\n",
            "   --------------------------- ------------ 19.8/28.8 MB 729.1 kB/s eta 0:00:13\n",
            "   --------------------------- ------------ 19.8/28.8 MB 723.5 kB/s eta 0:00:13\n",
            "   --------------------------- ------------ 19.8/28.8 MB 721.8 kB/s eta 0:00:13\n",
            "   --------------------------- ------------ 19.8/28.8 MB 721.8 kB/s eta 0:00:13\n",
            "   --------------------------- ------------ 19.8/28.8 MB 721.8 kB/s eta 0:00:13\n",
            "   --------------------------- ------------ 19.8/28.8 MB 721.8 kB/s eta 0:00:13\n",
            "   --------------------------- ------------ 19.9/28.8 MB 717.1 kB/s eta 0:00:13\n",
            "   --------------------------- ------------ 19.9/28.8 MB 714.7 kB/s eta 0:00:13\n",
            "   --------------------------- ------------ 19.9/28.8 MB 713.2 kB/s eta 0:00:13\n",
            "   --------------------------- ------------ 19.9/28.8 MB 710.9 kB/s eta 0:00:13\n",
            "   --------------------------- ------------ 19.9/28.8 MB 710.9 kB/s eta 0:00:13\n",
            "   --------------------------- ------------ 19.9/28.8 MB 710.9 kB/s eta 0:00:13\n",
            "   --------------------------- ------------ 19.9/28.8 MB 705.5 kB/s eta 0:00:13\n",
            "   --------------------------- ------------ 19.9/28.8 MB 704.0 kB/s eta 0:00:13\n",
            "   --------------------------- ------------ 20.0/28.8 MB 701.7 kB/s eta 0:00:13\n",
            "   --------------------------- ------------ 20.0/28.8 MB 701.7 kB/s eta 0:00:13\n",
            "   --------------------------- ------------ 20.0/28.8 MB 701.7 kB/s eta 0:00:13\n",
            "   --------------------------- ------------ 20.0/28.8 MB 696.5 kB/s eta 0:00:13\n",
            "   --------------------------- ------------ 20.0/28.8 MB 696.5 kB/s eta 0:00:13\n",
            "   --------------------------- ------------ 20.0/28.8 MB 696.5 kB/s eta 0:00:13\n",
            "   --------------------------- ------------ 20.0/28.8 MB 692.8 kB/s eta 0:00:13\n",
            "   --------------------------- ------------ 20.0/28.8 MB 690.6 kB/s eta 0:00:13\n",
            "   --------------------------- ------------ 20.1/28.8 MB 689.2 kB/s eta 0:00:13\n",
            "   --------------------------- ------------ 20.1/28.8 MB 688.5 kB/s eta 0:00:13\n",
            "   --------------------------- ------------ 20.1/28.8 MB 688.5 kB/s eta 0:00:13\n",
            "   --------------------------- ------------ 20.1/28.8 MB 683.4 kB/s eta 0:00:13\n",
            "   --------------------------- ------------ 20.1/28.8 MB 681.3 kB/s eta 0:00:13\n",
            "   --------------------------- ------------ 20.1/28.8 MB 681.3 kB/s eta 0:00:13\n",
            "   --------------------------- ------------ 20.1/28.8 MB 681.3 kB/s eta 0:00:13\n",
            "   --------------------------- ------------ 20.2/28.8 MB 678.5 kB/s eta 0:00:13\n",
            "   --------------------------- ------------ 20.2/28.8 MB 676.3 kB/s eta 0:00:13\n",
            "   ---------------------------- ----------- 20.2/28.8 MB 675.7 kB/s eta 0:00:13\n",
            "   ---------------------------- ----------- 20.2/28.8 MB 674.3 kB/s eta 0:00:13\n",
            "   ---------------------------- ----------- 20.2/28.8 MB 674.3 kB/s eta 0:00:13\n",
            "   ---------------------------- ----------- 20.2/28.8 MB 669.4 kB/s eta 0:00:13\n",
            "   ---------------------------- ----------- 20.2/28.8 MB 669.4 kB/s eta 0:00:13\n",
            "   ---------------------------- ----------- 20.2/28.8 MB 669.4 kB/s eta 0:00:13\n",
            "   ---------------------------- ----------- 20.2/28.8 MB 669.4 kB/s eta 0:00:13\n",
            "   ---------------------------- ----------- 20.3/28.8 MB 664.7 kB/s eta 0:00:13\n",
            "   ---------------------------- ----------- 20.3/28.8 MB 662.0 kB/s eta 0:00:13\n",
            "   ---------------------------- ----------- 20.3/28.8 MB 662.0 kB/s eta 0:00:13\n",
            "   ---------------------------- ----------- 20.3/28.8 MB 662.0 kB/s eta 0:00:13\n",
            "   ---------------------------- ----------- 20.3/28.8 MB 658.0 kB/s eta 0:00:13\n",
            "   ---------------------------- ----------- 20.3/28.8 MB 656.7 kB/s eta 0:00:13\n",
            "   ---------------------------- ----------- 20.4/28.8 MB 654.7 kB/s eta 0:00:13\n",
            "   ---------------------------- ----------- 20.4/28.8 MB 653.4 kB/s eta 0:00:13\n",
            "   ---------------------------- ----------- 20.4/28.8 MB 652.8 kB/s eta 0:00:13\n",
            "   ---------------------------- ----------- 20.5/28.8 MB 652.1 kB/s eta 0:00:13\n",
            "   ---------------------------- ----------- 20.5/28.8 MB 651.4 kB/s eta 0:00:13\n",
            "   ---------------------------- ----------- 20.5/28.8 MB 650.1 kB/s eta 0:00:13\n",
            "   ---------------------------- ----------- 20.6/28.8 MB 648.8 kB/s eta 0:00:13\n",
            "   ---------------------------- ----------- 20.6/28.8 MB 648.2 kB/s eta 0:00:13\n",
            "   ---------------------------- ----------- 20.6/28.8 MB 647.6 kB/s eta 0:00:13\n",
            "   ---------------------------- ----------- 20.6/28.8 MB 646.3 kB/s eta 0:00:13\n",
            "   ---------------------------- ----------- 20.7/28.8 MB 645.7 kB/s eta 0:00:13\n",
            "   ---------------------------- ----------- 20.7/28.8 MB 644.4 kB/s eta 0:00:13\n",
            "   ---------------------------- ----------- 20.7/28.8 MB 643.1 kB/s eta 0:00:13\n",
            "   ---------------------------- ----------- 20.7/28.8 MB 641.9 kB/s eta 0:00:13\n",
            "   ---------------------------- ----------- 20.7/28.8 MB 640.0 kB/s eta 0:00:13\n",
            "   ---------------------------- ----------- 20.8/28.8 MB 640.0 kB/s eta 0:00:13\n",
            "   ---------------------------- ----------- 20.8/28.8 MB 638.1 kB/s eta 0:00:13\n",
            "   ---------------------------- ----------- 20.8/28.8 MB 636.9 kB/s eta 0:00:13\n",
            "   ---------------------------- ----------- 20.8/28.8 MB 636.3 kB/s eta 0:00:13\n",
            "   ---------------------------- ----------- 20.8/28.8 MB 635.6 kB/s eta 0:00:13\n",
            "   ---------------------------- ----------- 20.9/28.8 MB 633.8 kB/s eta 0:00:13\n",
            "   ---------------------------- ----------- 20.9/28.8 MB 631.3 kB/s eta 0:00:13\n",
            "   ----------------------------- ---------- 20.9/28.8 MB 632.0 kB/s eta 0:00:13\n",
            "   ----------------------------- ---------- 21.0/28.8 MB 630.1 kB/s eta 0:00:13\n",
            "   ----------------------------- ---------- 21.0/28.8 MB 628.9 kB/s eta 0:00:13\n",
            "   ----------------------------- ---------- 21.0/28.8 MB 628.3 kB/s eta 0:00:13\n",
            "   ----------------------------- ---------- 21.0/28.8 MB 627.1 kB/s eta 0:00:13\n",
            "   ----------------------------- ---------- 21.1/28.8 MB 627.1 kB/s eta 0:00:13\n",
            "   ----------------------------- ---------- 21.1/28.8 MB 624.7 kB/s eta 0:00:13\n",
            "   ----------------------------- ---------- 21.1/28.8 MB 624.7 kB/s eta 0:00:13\n",
            "   ----------------------------- ---------- 21.1/28.8 MB 624.7 kB/s eta 0:00:13\n",
            "   ----------------------------- ---------- 21.2/28.8 MB 622.9 kB/s eta 0:00:13\n",
            "   ----------------------------- ---------- 21.2/28.8 MB 621.8 kB/s eta 0:00:13\n",
            "   ----------------------------- ---------- 21.2/28.8 MB 620.5 kB/s eta 0:00:13\n",
            "   ----------------------------- ---------- 21.3/28.8 MB 620.0 kB/s eta 0:00:13\n",
            "   ----------------------------- ---------- 21.3/28.8 MB 618.2 kB/s eta 0:00:13\n",
            "   ----------------------------- ---------- 21.3/28.8 MB 617.7 kB/s eta 0:00:13\n",
            "   ----------------------------- ---------- 21.3/28.8 MB 616.5 kB/s eta 0:00:13\n",
            "   ----------------------------- ---------- 21.4/28.8 MB 615.3 kB/s eta 0:00:13\n",
            "   ----------------------------- ---------- 21.4/28.8 MB 614.7 kB/s eta 0:00:13\n",
            "   ----------------------------- ---------- 21.4/28.8 MB 613.0 kB/s eta 0:00:13\n",
            "   ----------------------------- ---------- 21.4/28.8 MB 612.5 kB/s eta 0:00:13\n",
            "   ----------------------------- ---------- 21.5/28.8 MB 611.3 kB/s eta 0:00:13\n",
            "   ----------------------------- ---------- 21.5/28.8 MB 610.7 kB/s eta 0:00:13\n",
            "   ----------------------------- ---------- 21.5/28.8 MB 609.6 kB/s eta 0:00:13\n",
            "   ----------------------------- ---------- 21.5/28.8 MB 607.9 kB/s eta 0:00:13\n",
            "   ----------------------------- ---------- 21.6/28.8 MB 607.3 kB/s eta 0:00:12\n",
            "   ----------------------------- ---------- 21.6/28.8 MB 606.2 kB/s eta 0:00:12\n",
            "   ----------------------------- ---------- 21.6/28.8 MB 605.1 kB/s eta 0:00:12\n",
            "   ------------------------------ --------- 21.7/28.8 MB 604.5 kB/s eta 0:00:12\n",
            "   ------------------------------ --------- 21.7/28.8 MB 603.4 kB/s eta 0:00:12\n",
            "   ------------------------------ --------- 21.7/28.8 MB 602.8 kB/s eta 0:00:12\n",
            "   ------------------------------ --------- 21.8/28.8 MB 601.2 kB/s eta 0:00:12\n",
            "   ------------------------------ --------- 21.8/28.8 MB 601.2 kB/s eta 0:00:12\n",
            "   ------------------------------ --------- 21.8/28.8 MB 599.5 kB/s eta 0:00:12\n",
            "   ------------------------------ --------- 21.9/28.8 MB 599.6 kB/s eta 0:00:12\n",
            "   ------------------------------ --------- 21.9/28.8 MB 598.4 kB/s eta 0:00:12\n",
            "   ------------------------------ --------- 21.9/28.8 MB 597.4 kB/s eta 0:00:12\n",
            "   ------------------------------ --------- 22.0/28.8 MB 596.3 kB/s eta 0:00:12\n",
            "   ------------------------------ --------- 22.0/28.8 MB 595.7 kB/s eta 0:00:12\n",
            "   ------------------------------ --------- 22.0/28.8 MB 595.7 kB/s eta 0:00:12\n",
            "   ------------------------------ --------- 22.1/28.8 MB 594.6 kB/s eta 0:00:12\n",
            "   ------------------------------ --------- 22.1/28.8 MB 594.1 kB/s eta 0:00:12\n",
            "   ------------------------------ --------- 22.2/28.8 MB 593.6 kB/s eta 0:00:12\n",
            "   ------------------------------ --------- 22.2/28.8 MB 592.5 kB/s eta 0:00:12\n",
            "   ------------------------------ --------- 22.3/28.8 MB 592.5 kB/s eta 0:00:12\n",
            "   ------------------------------ --------- 22.3/28.8 MB 591.4 kB/s eta 0:00:12\n",
            "   ------------------------------ --------- 22.3/28.8 MB 590.4 kB/s eta 0:00:12\n",
            "   ------------------------------- -------- 22.4/28.8 MB 589.8 kB/s eta 0:00:11\n",
            "   ------------------------------- -------- 22.4/28.8 MB 589.8 kB/s eta 0:00:11\n",
            "   ------------------------------- -------- 22.5/28.8 MB 588.8 kB/s eta 0:00:11\n",
            "   ------------------------------- -------- 22.5/28.8 MB 588.2 kB/s eta 0:00:11\n",
            "   ------------------------------- -------- 22.5/28.8 MB 587.2 kB/s eta 0:00:11\n",
            "   ------------------------------- -------- 22.6/28.8 MB 586.1 kB/s eta 0:00:11\n",
            "   ------------------------------- -------- 22.7/28.8 MB 586.1 kB/s eta 0:00:11\n",
            "   ------------------------------- -------- 22.7/28.8 MB 585.6 kB/s eta 0:00:11\n",
            "   ------------------------------- -------- 22.7/28.8 MB 585.1 kB/s eta 0:00:11\n",
            "   ------------------------------- -------- 22.8/28.8 MB 584.6 kB/s eta 0:00:11\n",
            "   ------------------------------- -------- 22.8/28.8 MB 583.5 kB/s eta 0:00:11\n",
            "   ------------------------------- -------- 22.9/28.8 MB 590.3 kB/s eta 0:00:11\n",
            "   ------------------------------- -------- 22.9/28.8 MB 588.8 kB/s eta 0:00:11\n",
            "   ------------------------------- -------- 23.0/28.8 MB 594.6 kB/s eta 0:00:10\n",
            "   ------------------------------- -------- 23.0/28.8 MB 593.6 kB/s eta 0:00:10\n",
            "   -------------------------------- ------- 23.1/28.8 MB 594.6 kB/s eta 0:00:10\n",
            "   -------------------------------- ------- 23.2/28.8 MB 595.2 kB/s eta 0:00:10\n",
            "   -------------------------------- ------- 23.2/28.8 MB 597.4 kB/s eta 0:00:10\n",
            "   -------------------------------- ------- 23.3/28.8 MB 596.8 kB/s eta 0:00:10\n",
            "   -------------------------------- ------- 23.3/28.8 MB 598.4 kB/s eta 0:00:10\n",
            "   -------------------------------- ------- 23.4/28.8 MB 601.2 kB/s eta 0:00:10\n",
            "   -------------------------------- ------- 23.4/28.8 MB 602.9 kB/s eta 0:00:09\n",
            "   -------------------------------- ------- 23.5/28.8 MB 602.8 kB/s eta 0:00:09\n",
            "   -------------------------------- ------- 23.5/28.8 MB 602.8 kB/s eta 0:00:09\n",
            "   -------------------------------- ------- 23.6/28.8 MB 612.5 kB/s eta 0:00:09\n",
            "   -------------------------------- ------- 23.6/28.8 MB 618.8 kB/s eta 0:00:09\n",
            "   -------------------------------- ------- 23.7/28.8 MB 624.7 kB/s eta 0:00:09\n",
            "   -------------------------------- ------- 23.7/28.8 MB 631.9 kB/s eta 0:00:09\n",
            "   -------------------------------- ------- 23.8/28.8 MB 641.9 kB/s eta 0:00:08\n",
            "   --------------------------------- ------ 23.8/28.8 MB 648.2 kB/s eta 0:00:08\n",
            "   --------------------------------- ------ 23.8/28.8 MB 653.4 kB/s eta 0:00:08\n",
            "   --------------------------------- ------ 23.9/28.8 MB 659.3 kB/s eta 0:00:08\n",
            "   --------------------------------- ------ 24.0/28.8 MB 665.4 kB/s eta 0:00:08\n",
            "   --------------------------------- ------ 24.0/28.8 MB 665.4 kB/s eta 0:00:08\n",
            "   --------------------------------- ------ 24.1/28.8 MB 671.5 kB/s eta 0:00:08\n",
            "   --------------------------------- ------ 24.1/28.8 MB 672.2 kB/s eta 0:00:08\n",
            "   --------------------------------- ------ 24.1/28.8 MB 675.0 kB/s eta 0:00:07\n",
            "   --------------------------------- ------ 24.2/28.8 MB 679.1 kB/s eta 0:00:07\n",
            "   --------------------------------- ------ 24.2/28.8 MB 686.3 kB/s eta 0:00:07\n",
            "   --------------------------------- ------ 24.3/28.8 MB 688.4 kB/s eta 0:00:07\n",
            "   --------------------------------- ------ 24.3/28.8 MB 688.4 kB/s eta 0:00:07\n",
            "   --------------------------------- ------ 24.3/28.8 MB 688.4 kB/s eta 0:00:07\n",
            "   --------------------------------- ------ 24.3/28.8 MB 690.6 kB/s eta 0:00:07\n",
            "   --------------------------------- ------ 24.4/28.8 MB 692.0 kB/s eta 0:00:07\n",
            "   --------------------------------- ------ 24.4/28.8 MB 689.9 kB/s eta 0:00:07\n",
            "   --------------------------------- ------ 24.4/28.8 MB 689.9 kB/s eta 0:00:07\n",
            "   --------------------------------- ------ 24.4/28.8 MB 689.2 kB/s eta 0:00:07\n",
            "   --------------------------------- ------ 24.5/28.8 MB 689.9 kB/s eta 0:00:07\n",
            "   --------------------------------- ------ 24.5/28.8 MB 689.9 kB/s eta 0:00:07\n",
            "   --------------------------------- ------ 24.5/28.8 MB 689.2 kB/s eta 0:00:07\n",
            "   ---------------------------------- ----- 24.5/28.8 MB 689.2 kB/s eta 0:00:07\n",
            "   ---------------------------------- ----- 24.6/28.8 MB 688.5 kB/s eta 0:00:07\n",
            "   ---------------------------------- ----- 24.6/28.8 MB 687.7 kB/s eta 0:00:07\n",
            "   ---------------------------------- ----- 24.6/28.8 MB 688.4 kB/s eta 0:00:07\n",
            "   ---------------------------------- ----- 24.7/28.8 MB 688.4 kB/s eta 0:00:07\n",
            "   ---------------------------------- ----- 24.7/28.8 MB 691.3 kB/s eta 0:00:07\n",
            "   ---------------------------------- ----- 24.7/28.8 MB 690.6 kB/s eta 0:00:06\n",
            "   ---------------------------------- ----- 24.8/28.8 MB 690.6 kB/s eta 0:00:06\n",
            "   ---------------------------------- ----- 24.8/28.8 MB 692.8 kB/s eta 0:00:06\n",
            "   ---------------------------------- ----- 24.8/28.8 MB 695.0 kB/s eta 0:00:06\n",
            "   ---------------------------------- ----- 24.9/28.8 MB 698.0 kB/s eta 0:00:06\n",
            "   ---------------------------------- ----- 24.9/28.8 MB 698.8 kB/s eta 0:00:06\n",
            "   ---------------------------------- ----- 24.9/28.8 MB 701.0 kB/s eta 0:00:06\n",
            "   ---------------------------------- ----- 25.0/28.8 MB 706.3 kB/s eta 0:00:06\n",
            "   ---------------------------------- ----- 25.0/28.8 MB 710.1 kB/s eta 0:00:06\n",
            "   ---------------------------------- ----- 25.0/28.8 MB 714.0 kB/s eta 0:00:06\n",
            "   ---------------------------------- ----- 25.1/28.8 MB 715.5 kB/s eta 0:00:06\n",
            "   ---------------------------------- ----- 25.1/28.8 MB 717.1 kB/s eta 0:00:06\n",
            "   ---------------------------------- ----- 25.2/28.8 MB 721.1 kB/s eta 0:00:06\n",
            "   ---------------------------------- ----- 25.2/28.8 MB 724.2 kB/s eta 0:00:06\n",
            "   ---------------------------------- ----- 25.2/28.8 MB 726.6 kB/s eta 0:00:05\n",
            "   ----------------------------------- ---- 25.3/28.8 MB 729.1 kB/s eta 0:00:05\n",
            "   ----------------------------------- ---- 25.3/28.8 MB 728.3 kB/s eta 0:00:05\n",
            "   ----------------------------------- ---- 25.3/28.8 MB 731.5 kB/s eta 0:00:05\n",
            "   ----------------------------------- ---- 25.4/28.8 MB 733.2 kB/s eta 0:00:05\n",
            "   ----------------------------------- ---- 25.4/28.8 MB 734.8 kB/s eta 0:00:05\n",
            "   ----------------------------------- ---- 25.5/28.8 MB 735.6 kB/s eta 0:00:05\n",
            "   ----------------------------------- ---- 25.5/28.8 MB 738.1 kB/s eta 0:00:05\n",
            "   ----------------------------------- ---- 25.6/28.8 MB 737.3 kB/s eta 0:00:05\n",
            "   ----------------------------------- ---- 25.6/28.8 MB 738.9 kB/s eta 0:00:05\n",
            "   ----------------------------------- ---- 25.7/28.8 MB 740.6 kB/s eta 0:00:05\n",
            "   ----------------------------------- ---- 25.7/28.8 MB 741.4 kB/s eta 0:00:05\n",
            "   ----------------------------------- ---- 25.8/28.8 MB 744.8 kB/s eta 0:00:05\n",
            "   ----------------------------------- ---- 25.8/28.8 MB 745.7 kB/s eta 0:00:05\n",
            "   ----------------------------------- ---- 25.9/28.8 MB 746.5 kB/s eta 0:00:04\n",
            "   ----------------------------------- ---- 25.9/28.8 MB 749.9 kB/s eta 0:00:04\n",
            "   ------------------------------------ --- 26.0/28.8 MB 749.9 kB/s eta 0:00:04\n",
            "   ------------------------------------ --- 26.0/28.8 MB 750.0 kB/s eta 0:00:04\n",
            "   ------------------------------------ --- 26.1/28.8 MB 751.7 kB/s eta 0:00:04\n",
            "   ------------------------------------ --- 26.1/28.8 MB 752.5 kB/s eta 0:00:04\n",
            "   ------------------------------------ --- 26.2/28.8 MB 754.2 kB/s eta 0:00:04\n",
            "   ------------------------------------ --- 26.2/28.8 MB 754.3 kB/s eta 0:00:04\n",
            "   ------------------------------------ --- 26.3/28.8 MB 753.4 kB/s eta 0:00:04\n",
            "   ------------------------------------ --- 26.3/28.8 MB 754.2 kB/s eta 0:00:04\n",
            "   ------------------------------------ --- 26.4/28.8 MB 754.3 kB/s eta 0:00:04\n",
            "   ------------------------------------ --- 26.4/28.8 MB 753.4 kB/s eta 0:00:04\n",
            "   ------------------------------------ --- 26.4/28.8 MB 753.4 kB/s eta 0:00:04\n",
            "   ------------------------------------ --- 26.4/28.8 MB 753.4 kB/s eta 0:00:04\n",
            "   ------------------------------------ --- 26.5/28.8 MB 752.6 kB/s eta 0:00:04\n",
            "   ------------------------------------ --- 26.5/28.8 MB 753.4 kB/s eta 0:00:04\n",
            "   ------------------------------------ --- 26.5/28.8 MB 751.7 kB/s eta 0:00:04\n",
            "   ------------------------------------ --- 26.5/28.8 MB 751.7 kB/s eta 0:00:04\n",
            "   ------------------------------------ --- 26.5/28.8 MB 751.7 kB/s eta 0:00:04\n",
            "   ------------------------------------ --- 26.5/28.8 MB 751.7 kB/s eta 0:00:04\n",
            "   ------------------------------------ --- 26.5/28.8 MB 751.7 kB/s eta 0:00:04\n",
            "   ------------------------------------ --- 26.5/28.8 MB 751.7 kB/s eta 0:00:04\n",
            "   ------------------------------------ --- 26.5/28.8 MB 751.7 kB/s eta 0:00:04\n",
            "   ------------------------------------ --- 26.5/28.8 MB 751.7 kB/s eta 0:00:04\n",
            "   ------------------------------------ --- 26.5/28.8 MB 751.7 kB/s eta 0:00:04\n",
            "   ------------------------------------ --- 26.5/28.8 MB 751.7 kB/s eta 0:00:04\n",
            "   ------------------------------------ --- 26.5/28.8 MB 751.7 kB/s eta 0:00:04\n",
            "   ------------------------------------ --- 26.5/28.8 MB 751.7 kB/s eta 0:00:04\n",
            "   ------------------------------------ --- 26.5/28.8 MB 751.7 kB/s eta 0:00:04\n",
            "   ------------------------------------ --- 26.5/28.8 MB 751.7 kB/s eta 0:00:04\n",
            "   ------------------------------------ --- 26.5/28.8 MB 751.7 kB/s eta 0:00:04\n",
            "   ------------------------------------ --- 26.5/28.8 MB 751.7 kB/s eta 0:00:04\n",
            "   ------------------------------------ --- 26.5/28.8 MB 751.7 kB/s eta 0:00:04\n",
            "   ------------------------------------ --- 26.5/28.8 MB 751.7 kB/s eta 0:00:04\n",
            "   ------------------------------------ --- 26.5/28.8 MB 751.7 kB/s eta 0:00:04\n",
            "   ------------------------------------ --- 26.5/28.8 MB 751.7 kB/s eta 0:00:04\n",
            "   ------------------------------------ --- 26.5/28.8 MB 751.7 kB/s eta 0:00:04\n",
            "   ------------------------------------- -- 27.4/28.8 MB 741.4 kB/s eta 0:00:03\n",
            "   -------------------------------------- - 27.4/28.8 MB 753.4 kB/s eta 0:00:02\n",
            "   -------------------------------------- - 27.5/28.8 MB 749.9 kB/s eta 0:00:02\n",
            "   -------------------------------------- - 27.5/28.8 MB 750.8 kB/s eta 0:00:02\n",
            "   -------------------------------------- - 27.6/28.8 MB 752.5 kB/s eta 0:00:02\n",
            "   -------------------------------------- - 27.6/28.8 MB 752.5 kB/s eta 0:00:02\n",
            "   -------------------------------------- - 27.7/28.8 MB 753.4 kB/s eta 0:00:02\n",
            "   -------------------------------------- - 27.7/28.8 MB 752.5 kB/s eta 0:00:02\n",
            "   -------------------------------------- - 27.8/28.8 MB 755.1 kB/s eta 0:00:02\n",
            "   -------------------------------------- - 27.9/28.8 MB 753.4 kB/s eta 0:00:02\n",
            "   -------------------------------------- - 27.9/28.8 MB 753.4 kB/s eta 0:00:02\n",
            "   -------------------------------------- - 28.0/28.8 MB 751.7 kB/s eta 0:00:02\n",
            "   -------------------------------------- - 28.0/28.8 MB 752.5 kB/s eta 0:00:02\n",
            "   -------------------------------------- - 28.0/28.8 MB 750.8 kB/s eta 0:00:02\n",
            "   -------------------------------------- - 28.1/28.8 MB 751.7 kB/s eta 0:00:01\n",
            "   ---------------------------------------  28.1/28.8 MB 750.0 kB/s eta 0:00:01\n",
            "   ---------------------------------------  28.2/28.8 MB 750.8 kB/s eta 0:00:01\n",
            "   ---------------------------------------  28.2/28.8 MB 749.0 kB/s eta 0:00:01\n",
            "   ---------------------------------------  28.3/28.8 MB 748.2 kB/s eta 0:00:01\n",
            "   ---------------------------------------  28.3/28.8 MB 747.4 kB/s eta 0:00:01\n",
            "   ---------------------------------------  28.4/28.8 MB 748.2 kB/s eta 0:00:01\n",
            "   ---------------------------------------  28.4/28.8 MB 748.2 kB/s eta 0:00:01\n",
            "   ---------------------------------------  28.5/28.8 MB 749.1 kB/s eta 0:00:01\n",
            "   ---------------------------------------  28.5/28.8 MB 746.5 kB/s eta 0:00:01\n",
            "   ---------------------------------------  28.5/28.8 MB 747.4 kB/s eta 0:00:01\n",
            "   ---------------------------------------  28.6/28.8 MB 747.4 kB/s eta 0:00:01\n",
            "   ---------------------------------------  28.6/28.8 MB 746.5 kB/s eta 0:00:01\n",
            "   ---------------------------------------  28.7/28.8 MB 745.7 kB/s eta 0:00:01\n",
            "   ---------------------------------------  28.7/28.8 MB 746.5 kB/s eta 0:00:01\n",
            "   ---------------------------------------  28.8/28.8 MB 744.8 kB/s eta 0:00:01\n",
            "   ---------------------------------------  28.8/28.8 MB 744.8 kB/s eta 0:00:01\n",
            "   ---------------------------------------  28.8/28.8 MB 744.8 kB/s eta 0:00:01\n",
            "   ---------------------------------------  28.8/28.8 MB 744.8 kB/s eta 0:00:01\n",
            "   ---------------------------------------- 28.8/28.8 MB 737.4 kB/s eta 0:00:00\n",
            "Using cached typing_extensions-4.12.2-py3-none-any.whl (37 kB)\n",
            "Installing collected packages: typing-extensions, polars, typeguard, skimpy\n",
            "  Attempting uninstall: typing-extensions\n",
            "    Found existing installation: typing_extensions 4.12.2\n",
            "    Uninstalling typing_extensions-4.12.2:\n",
            "      Successfully uninstalled typing_extensions-4.12.2\n",
            " 100 | [ 2.5   0.04  0.05 -0.5   0.02] | Call MSE:  15.462 | Min Call MSE:  11.089\n",
            " 100 | [ 2.5   0.04  0.05 -0.5   0.02] | Put MSE:  18.333 | Min Put MSE:  15.497\n",
            " 200 | [ 7.5   0.02  0.25 -0.25  0.03] | Call MSE:  12.271 | Min Call MSE:  11.079\n",
            " 200 | [ 7.5   0.02  0.25 -0.25  0.03] | Put MSE:  16.317 | Min Put MSE:  15.396\n",
            " 300 | [ 7.10037179e+00  5.74284311e-02  3.78407138e-02 -1.89358972e-03\n",
            "  4.61193402e-02] | Call MSE:   5.745 | Min Call MSE:   5.745\n",
            " 300 | [ 7.10037179e+00  5.74284311e-02  3.78407138e-02 -1.89358972e-03\n",
            "  4.61193402e-02] | Put MSE:  12.456 | Min Put MSE:  12.456\n",
            " 400 | [ 5.72816241  0.09911124  0.0170941  -0.00735172  0.08492685] | Call MSE:   0.801 | Min Call MSE:   0.387\n",
            " 400 | [ 5.72816241  0.09911124  0.0170941  -0.00735172  0.08492685] | Put MSE:  11.806 | Min Put MSE:  11.401\n",
            " 500 | [ 5.38151148e+00  8.70001269e-02  1.27616362e-04 -6.13985493e-03\n",
            "  8.72147730e-02] | Call MSE:   0.797 | Min Call MSE:   0.387\n",
            " 500 | [ 5.38151148e+00  8.70001269e-02  1.27616362e-04 -6.13985493e-03\n",
            "  8.72147730e-02] | Put MSE:  11.810 | Min Put MSE:  11.401\n",
            " 600 | [ 5.38064478e+00  8.68039705e-02  4.53578225e-05 -6.12233242e-03\n",
            "  8.71998714e-02] | Call MSE:   0.799 | Min Call MSE:   0.387\n",
            " 600 | [ 5.38064478e+00  8.68039705e-02  4.53578225e-05 -6.12233242e-03\n",
            "  8.71998714e-02] | Put MSE:  11.808 | Min Put MSE:  11.401\n",
            " 700 | [ 5.38064478e+00  8.68040381e-02  4.54277412e-05 -6.12233920e-03\n",
            "  8.71998759e-02] | Call MSE:   0.799 | Min Call MSE:   0.387\n",
            " 700 | [ 5.38064478e+00  8.68040381e-02  4.54277412e-05 -6.12233920e-03\n",
            "  8.71998759e-02] | Put MSE:  11.808 | Min Put MSE:  11.401\n",
            " 800 | [ 5.38064479e+00  8.68040384e-02  4.54280985e-05 -6.12233923e-03\n",
            "  8.71998758e-02] | Call MSE:   0.799 | Min Call MSE:   0.387\n",
            " 800 | [ 5.38064479e+00  8.68040384e-02  4.54280985e-05 -6.12233923e-03\n",
            "  8.71998758e-02] | Put MSE:  11.808 | Min Put MSE:  11.401\n",
            " 900 | [ 5.38064479e+00  8.68040384e-02  4.54280985e-05 -6.12233923e-03\n",
            "  8.71998758e-02] | Call MSE:   0.799 | Min Call MSE:   0.387\n",
            " 900 | [ 5.38064479e+00  8.68040384e-02  4.54280985e-05 -6.12233923e-03\n",
            "  8.71998758e-02] | Put MSE:  11.808 | Min Put MSE:  11.401\n",
            "Optimization terminated successfully.\n",
            "         Current function value: 12.606721\n",
            "         Iterations: 298\n",
            "         Function evaluations: 676\n"
          ]
        }
      ],
      "source": [
        "Para = H93_calibration_full()"
      ]
    },
    {
      "cell_type": "code",
      "execution_count": 29,
      "metadata": {
        "colab": {
          "base_uri": "https://localhost:8080/"
        },
        "id": "tWn3VQ7mrv-m",
        "outputId": "c85174b3-ed53-4b9d-f97d-2ff1e48200fd"
      },
      "outputs": [
        {
          "data": {
            "text/plain": [
              "array([ 5.38064479e+00,  8.68040384e-02,  4.54280985e-05, -6.12233923e-03,\n",
              "        8.71998758e-02])"
            ]
          },
          "execution_count": 29,
          "metadata": {},
          "output_type": "execute_result"
        }
      ],
      "source": [
        "Para"
      ]
    },
    {
      "cell_type": "markdown",
      "metadata": {
        "id": "jo2n2eaApJmq"
      },
      "source": [
        "Now we have finally calibrated our parameters to market values.\n",
        "\n",
        "The results from this calibration give us the following values for the parameters in the Heston (1993) model:\n",
        "\n",
        "$\\kappa_\\nu = 5.379$\n",
        "\n",
        "$\\theta_\\nu = 0.086$\n",
        "\n",
        "$\\sigma_\\nu = 0.000$\n",
        "\n",
        "$\\rho = -0.006$\n",
        "\n",
        "$\\nu_0 = 0.087$\n",
        "\n",
        "The next step will be simply using these parameters to price the option we want.but before that first let's plot our results to check how our model calibration have worked."
      ]
    },
    {
      "cell_type": "code",
      "execution_count": 30,
      "metadata": {
        "id": "PsFbM9MRzWmB"
      },
      "outputs": [],
      "source": [
        "def generate_plot_call(Para, options):\n",
        "    # Extract parameters from the optimization result\n",
        "    kappa_v, theta_v, sigma_v, rho, v0 = Para\n",
        "\n",
        "    # Calculate model prices\n",
        "    options[\"Model\"] = 0.0\n",
        "    for idx, option in options.iterrows():\n",
        "        if option[\"Type\"] == \"C\":\n",
        "            options.loc[idx, \"Model\"] = H93_call_value(\n",
        "                S0, option[\"Strike\"], option[\"T\"], option[\"r\"], kappa_v, theta_v, sigma_v, rho, v0\n",
        "            )\n",
        "\n",
        "    # Plotting the results for maturity 15 and type C\n",
        "    subset = options[(options[\"Type\"] == \"C\")]\n",
        "    subset.plot(x=\"Strike\", y=[\"Price\", \"Model\"], style=[\"b-\", \"ro\"], title=\"Maturity 15 days\")\n",
        "    plt.ylabel(\"Option Value\")\n",
        "    plt.xlabel(\"Strike Price\")\n",
        "    plt.show()"
      ]
    },
    {
      "cell_type": "code",
      "execution_count": 31,
      "metadata": {
        "colab": {
          "base_uri": "https://localhost:8080/",
          "height": 0
        },
        "id": "mBm_E_Y4ILk1",
        "outputId": "779d137d-70ca-4fd5-8e99-429fc9a9a43b"
      },
      "outputs": [
        {
          "data": {
            "image/png": "[encoded data removed]",
            "text/plain": [
              "<Figure size 640x480 with 1 Axes>"
            ]
          },
          "metadata": {},
          "output_type": "display_data"
        }
      ],
      "source": [
        "generate_plot_call(Para, options)"
      ]
    },
    {
      "cell_type": "code",
      "execution_count": 32,
      "metadata": {
        "id": "3CU9MsD6IvmU"
      },
      "outputs": [],
      "source": [
        "def generate_plot_put(Para, options):\n",
        "    # Extract parameters from the optimization result\n",
        "    kappa_v, theta_v, sigma_v, rho, v0 = Para\n",
        "\n",
        "    # Calculate model prices\n",
        "    options[\"Model\"] = 0.0\n",
        "    for idx, option in options.iterrows():\n",
        "        if option[\"Type\"] == \"P\":\n",
        "            options.loc[idx, \"Model\"] = H93_Put_value(\n",
        "                S0, option[\"Strike\"], option[\"T\"], option[\"r\"], kappa_v, theta_v, sigma_v, rho, v0\n",
        "            )\n",
        "\n",
        "    # Plotting the results for maturity 15 and type C\n",
        "    subset = options[(options[\"Type\"] == \"P\")]\n",
        "    subset.plot(x=\"Strike\", y=[\"Price\", \"Model\"], style=[\"b-\", \"ro\"], title=\"Maturity 15 days\")\n",
        "    plt.ylabel(\"Option Value\")\n",
        "    plt.xlabel(\"Strike Price\")\n",
        "    plt.show()"
      ]
    },
    {
      "cell_type": "code",
      "execution_count": 33,
      "metadata": {
        "colab": {
          "base_uri": "https://localhost:8080/",
          "height": 0
        },
        "id": "MZcnGuzxMEt0",
        "outputId": "bcd84852-8118-4ae6-b99b-d6164959eee8"
      },
      "outputs": [
        {
          "data": {
            "image/png": "[encoded data removed]",
            "text/plain": [
              "<Figure size 640x480 with 1 Axes>"
            ]
          },
          "metadata": {},
          "output_type": "display_data"
        }
      ],
      "source": [
        "generate_plot_put(Para, options)"
      ]
    },
    {
      "cell_type": "markdown",
      "metadata": {
        "id": "pRXEkFGlZVQu"
      },
      "source": [
        "## 1.b Calibrating Heston (1993) Model Via the Carr-Madan (1999) pricing approach\n",
        "\n",
        "In this section we will use the Carr-Madan (1999) pricing approach. The Carr-Madan approach uses the Fast Fourier Transform (FFT) to price options, which brings several advantages comparig with the Lewis approach ap;ied in previous section (a):\n",
        "\n",
        " - Efficiency:  The FFT algorithm is computationally efficient with a time complexity of\n",
        "𝑂(𝑁log𝑁), making it well-suited for the batch processing and pricing of many options quickly.\n",
        "\n",
        "\n",
        " - Numerical Stability: By leveraging the FFT, the Carr-Madan method can handle a large number of integration points stably, leading to more accurate results.\n",
        "\n",
        "- Simplicity: The method is relatively straightforward to implement using existing FFT libraries. Moreover it is well-suited for pricing exotic options and payoffs that can be expressed in terms of Fourier transforms.\n",
        "\n",
        "In order to apply this approach we will use FFT to the integral in the call option price derived by Carr and Madan (1999):\n",
        "\n",
        "$$\n",
        "\\\n",
        "\\begin{equation*}\n",
        "    C_0 = \\frac{e^{-\\alpha \\kappa}}{\\pi} \\int_{0}^{\\infty} e^{-i\\nu \\kappa} \\frac{e^{-rT} \\varphi^{H93} (\\nu - (\\alpha + 1)i, T)}{\\alpha^2 + \\alpha - \\nu^2 + i(2\\alpha + 1)\\nu} d\\nu\n",
        "\\end{equation*}\n",
        "$$\n"
      ]
    },
    {
      "cell_type": "code",
      "execution_count": 34,
      "metadata": {
        "id": "CsQVfnI3ZoKP"
      },
      "outputs": [],
      "source": [
        "def H93_value_FFT(S0, K, T, r, kappa_v, theta_v, sigma_v, rho, v0, option_type):\n",
        "    \"\"\"\n",
        "    option price in Heston (1993) under FFT\n",
        "\n",
        "    H93_char_func(u, T, r, kappa_v, theta_v, sigma_v, rho, v0)\n",
        "\n",
        "    \"\"\"\n",
        "\n",
        "    k = np.log(K / S0)\n",
        "    g = 1  # Factor to increase accuracy\n",
        "    N = g * 4096\n",
        "    eps = (g * 150) ** -1\n",
        "    eta = 2 * np.pi / (N * eps)\n",
        "    b = 0.5 * N * eps - k\n",
        "    u = np.arange(1, N + 1, 1)\n",
        "    vo = eta * (u - 1)\n",
        "\n",
        "    # Modifications to ensure integrability\n",
        "    if S0 >= 0.95 * K:  # ITM Case\n",
        "        alpha = 1.5\n",
        "        v = vo - (alpha + 1) * 1j\n",
        "        modcharFunc = np.exp(-r * T) * (\n",
        "            H93_char_func(u, T, r, kappa_v, theta_v, sigma_v, rho, v0)\n",
        "            / (alpha**2 + alpha - vo**2 + 1j * (2 * alpha + 1) * vo)\n",
        "        )\n",
        "\n",
        "    else:\n",
        "        alpha = 1.1\n",
        "        v = (vo - 1j * alpha) - 1j\n",
        "        modcharFunc1 = np.exp(-r * T) * (\n",
        "            1 / (1 + 1j * (vo - 1j * alpha))\n",
        "            - np.exp(r * T) / (1j * (vo - 1j * alpha))\n",
        "            - H93_char_func(u, T, r, kappa_v, theta_v, sigma_v, rho, v0)\n",
        "            / ((vo - 1j * alpha) ** 2 - 1j * (vo - 1j * alpha))\n",
        "        )\n",
        "\n",
        "        v = (vo + 1j * alpha) - 1j\n",
        "\n",
        "        modcharFunc2 = np.exp(-r * T) * (\n",
        "            1 / (1 + 1j * (vo + 1j * alpha))\n",
        "            - np.exp(r * T) / (1j * (vo + 1j * alpha))\n",
        "            - H93_char_func(u, T, r, kappa_v, theta_v, sigma_v, rho, v0)\n",
        "            / ((vo + 1j * alpha) ** 2 - 1j * (vo + 1j * alpha))\n",
        "        )\n",
        "\n",
        "    # Numerical FFT Routine\n",
        "    delt = np.zeros(N)\n",
        "    delt[0] = 1\n",
        "    j = np.arange(1, N + 1, 1)\n",
        "    SimpsonW = (3 + (-1) ** j - delt) / 3\n",
        "    if S0 >= 0.95 * K:\n",
        "        FFTFunc = np.exp(1j * b * vo) * modcharFunc * eta * SimpsonW\n",
        "        payoff = (np.fft.fft(FFTFunc)).real\n",
        "        CallValueM = np.exp(-alpha * k) / np.pi * payoff\n",
        "    else:\n",
        "        FFTFunc = (\n",
        "            np.exp(1j * b * vo) * (modcharFunc1 - modcharFunc2) * 0.5 * eta * SimpsonW\n",
        "        )\n",
        "        payoff = (np.fft.fft(FFTFunc)).real\n",
        "        CallValueM = payoff / (np.sinh(alpha * k) * np.pi)\n",
        "\n",
        "    pos = int((k + b) / eps)\n",
        "    CallValue = CallValueM[pos] * S0\n",
        "\n",
        "    if option_type == \"C\":\n",
        "        return CallValue\n",
        "    elif option_type == \"P\":\n",
        "        PutValue = CallValue + (K * np.exp(-r * T)) - S0\n",
        "        return PutValue\n",
        "\n",
        "    return None"
      ]
    },
    {
      "cell_type": "markdown",
      "metadata": {
        "id": "-Gj_FvC9ZoC5"
      },
      "source": [
        "### Model Calibration\n",
        "We will use provided market data to calibrate parameters of the Heston model"
      ]
    },
    {
      "cell_type": "code",
      "execution_count": 35,
      "metadata": {
        "id": "11TKRZDOZn7x"
      },
      "outputs": [],
      "source": [
        "options =  (df.query('`Days to maturity` == 15')\n",
        "             .assign(t=lambda x: x[\"Days to maturity\"] / 250,\n",
        "                     r=0.15,\n",
        "                     S0 = S0\n",
        "                    )\n",
        "            )"
      ]
    },
    {
      "cell_type": "markdown",
      "metadata": {
        "id": "uR8Z1Qu9Zn0F"
      },
      "source": [
        "#### Calibration Process\n",
        "\n",
        "The calibration process for the Heston model aims to determine the optimal parameters for the model by minimizing the Mean Square Error (MSE) between market prices and model prices. Initially, the H93_value_FFT function, which is responsible for calculating option prices using the Heston model, is defined. The objective function is then created to compute MSE. This function iterates through market data, computes model prices for given market conditions and parameters, and calculates the squared errors between these model prices and actual market prices. The RMSE, a measure of the average discrepancy between model and market prices, is then derived from these squared errors.\n",
        "\n",
        "Market data, comprising columns for initial stock price (S0), strike price (K), time to maturity (T), risk-free rate (r), option type, and market price, is structured based on a pandas DataFrame. An initial guess for the parameters of the Heston model, including the speed of mean reversion (kappa_v), long-term variance (theta_v), volatility of variance (sigma_v), correlation between asset price and variance (rho), and initial variance (v0). Selected bounds ensure the parameters remain within usually observed ranges during the optimization process.\n",
        "\n",
        "The scipy.optimize.minimize function is then employed to minimize the MSE, effectively calibrating the Heston model parameters to best fit the given market data. The result of the optimization yields the optimal values for kappa_v, theta_v, sigma_v, rho, and v0, which are then extracted and printed. These optimized parameters are applied to the DataFrame to calculate option prices using the calibrated H93_value_FFT function."
      ]
    },
    {
      "cell_type": "code",
      "execution_count": 36,
      "metadata": {
        "colab": {
          "base_uri": "https://localhost:8080/"
        },
        "id": "9FOleo_mZnrv",
        "outputId": "77007f97-a177-41d9-ee24-19ad06f70ebf"
      },
      "outputs": [
        {
          "name": "stdout",
          "output_type": "stream",
          "text": [
            "Optimized parameters: kappa_v=7.211202515417182, theta_v=0.0001, sigma_v=1.0, rho=0.7689237411322527, v0=0.01\n",
            "MSE: 0.47493933768842334\n"
          ]
        }
      ],
      "source": [
        "from scipy.optimize import minimize\n",
        "\n",
        "def objective(params, market_data):\n",
        "    \"\"\"\n",
        "    Objective function to minimize MSE\n",
        "    \"\"\"\n",
        "    kappa_v, theta_v, sigma_v, rho, v0 = params\n",
        "\n",
        "    errors = []\n",
        "    for data in market_data:\n",
        "        S0, K, T, r, option_type, market_price = data\n",
        "        model_price = H93_value_FFT(S0, K, T, r, kappa_v, theta_v, sigma_v, rho, v0, option_type)\n",
        "        errors.append((market_price - model_price) ** 2)\n",
        "\n",
        "    mse = np.mean(errors)\n",
        "    return mse\n",
        "\n",
        "# Initial guess for the parameters\n",
        "initial_guess = [5.0, 0.8, 0.3, -0.7, 0.04]\n",
        "\n",
        "# # Bounds for the parameters\n",
        "bounds = [\n",
        "    (0.0001, 10),  # kappa_v bounds\n",
        "    (0.0001, 1),   # theta_v bounds\n",
        "    (0.0001, 1),   # sigma_v bounds\n",
        "    (-1, 1),     # rho bounds\n",
        "    (0.01, 0.5)  # v0 bounds\n",
        "]\n",
        "\n",
        "#prepare numpy array with market data for S0, K, T, r, option_type, market_price\n",
        "data_columns = ['S0', 'Strike', 't', 'r', 'Type', 'Price']\n",
        "market_data = options[data_columns].values\n",
        "\n",
        "\n",
        "# Minimize the MSE to find the best parameters\n",
        "result = minimize(objective, initial_guess, args=(market_data,), bounds=bounds)\n",
        "\n",
        "# Extract the optimized parameters\n",
        "kappa_v_opt, theta_v_opt, sigma_v_opt, rho_opt, v0_opt = result.x\n",
        "\n",
        "print(f\"Optimized parameters: kappa_v={kappa_v_opt}, theta_v={theta_v_opt}, sigma_v={sigma_v_opt}, rho={rho_opt}, v0={v0_opt}\")\n",
        "print(f\"MSE: {result.fun}\")"
      ]
    },
    {
      "cell_type": "markdown",
      "metadata": {
        "id": "ptbq17k4Zne0"
      },
      "source": [
        "Now we have finally calibrated our parameters to market values.\n",
        "\n",
        "The results from this calibration give us the following values for the parameters in the Heston (1993) model:\n",
        "\n",
        "$\\kappa_\\nu = 7.21$\n",
        "\n",
        "$\\theta_\\nu = 0.0001$\n",
        "\n",
        "$\\sigma_\\nu = 1.00$\n",
        "\n",
        "$\\rho = 0.768$\n",
        "\n",
        "$\\\\v_0 = 0.01$"
      ]
    },
    {
      "cell_type": "markdown",
      "metadata": {
        "id": "XUUIdggRYfjx"
      },
      "source": [
        "### Visualisation of results\n",
        "On the next step we, using the apply method to compute model prices for each row in the DataFrame, created a new column, price_calc, which contains these calculated prices. The final DataFrame, now includes both market prices and model prices calculated with the optimized parameters, provides a comprehensive view of the calibration accuracy and effectiveness."
      ]
    },
    {
      "cell_type": "code",
      "execution_count": 37,
      "metadata": {
        "colab": {
          "base_uri": "https://localhost:8080/",
          "height": 0
        },
        "id": "sQktk4qlYfg7",
        "outputId": "13f7befb-ef41-4e16-e4c6-fb227c50a589"
      },
      "outputs": [
        {
          "data": {
            "text/html": [
              "<div>\n",
              "<style scoped>\n",
              "    .dataframe tbody tr th:only-of-type {\n",
              "        vertical-align: middle;\n",
              "    }\n",
              "\n",
              "    .dataframe tbody tr th {\n",
              "        vertical-align: top;\n",
              "    }\n",
              "\n",
              "    .dataframe thead th {\n",
              "        text-align: right;\n",
              "    }\n",
              "</style>\n",
              "<table border=\"1\" class=\"dataframe\">\n",
              "  <thead>\n",
              "    <tr style=\"text-align: right;\">\n",
              "      <th></th>\n",
              "      <th>Days to maturity</th>\n",
              "      <th>Strike</th>\n",
              "      <th>Price</th>\n",
              "      <th>Type</th>\n",
              "      <th>t</th>\n",
              "      <th>r</th>\n",
              "      <th>S0</th>\n",
              "      <th>price_calc</th>\n",
              "    </tr>\n",
              "  </thead>\n",
              "  <tbody>\n",
              "    <tr>\n",
              "      <th>0</th>\n",
              "      <td>15</td>\n",
              "      <td>227.5</td>\n",
              "      <td>10.52</td>\n",
              "      <td>C</td>\n",
              "      <td>0.06</td>\n",
              "      <td>0.15</td>\n",
              "      <td>232.9</td>\n",
              "      <td>11.564888</td>\n",
              "    </tr>\n",
              "    <tr>\n",
              "      <th>1</th>\n",
              "      <td>15</td>\n",
              "      <td>230.0</td>\n",
              "      <td>10.05</td>\n",
              "      <td>C</td>\n",
              "      <td>0.06</td>\n",
              "      <td>0.15</td>\n",
              "      <td>232.9</td>\n",
              "      <td>9.738888</td>\n",
              "    </tr>\n",
              "    <tr>\n",
              "      <th>2</th>\n",
              "      <td>15</td>\n",
              "      <td>232.5</td>\n",
              "      <td>7.75</td>\n",
              "      <td>C</td>\n",
              "      <td>0.06</td>\n",
              "      <td>0.15</td>\n",
              "      <td>232.9</td>\n",
              "      <td>8.131079</td>\n",
              "    </tr>\n",
              "    <tr>\n",
              "      <th>3</th>\n",
              "      <td>15</td>\n",
              "      <td>235.0</td>\n",
              "      <td>6.01</td>\n",
              "      <td>C</td>\n",
              "      <td>0.06</td>\n",
              "      <td>0.15</td>\n",
              "      <td>232.9</td>\n",
              "      <td>6.809289</td>\n",
              "    </tr>\n",
              "    <tr>\n",
              "      <th>4</th>\n",
              "      <td>15</td>\n",
              "      <td>237.5</td>\n",
              "      <td>4.75</td>\n",
              "      <td>C</td>\n",
              "      <td>0.06</td>\n",
              "      <td>0.15</td>\n",
              "      <td>232.9</td>\n",
              "      <td>5.786548</td>\n",
              "    </tr>\n",
              "    <tr>\n",
              "      <th>15</th>\n",
              "      <td>15</td>\n",
              "      <td>227.5</td>\n",
              "      <td>4.32</td>\n",
              "      <td>P</td>\n",
              "      <td>0.06</td>\n",
              "      <td>0.15</td>\n",
              "      <td>232.9</td>\n",
              "      <td>4.126574</td>\n",
              "    </tr>\n",
              "    <tr>\n",
              "      <th>16</th>\n",
              "      <td>15</td>\n",
              "      <td>230.0</td>\n",
              "      <td>5.20</td>\n",
              "      <td>P</td>\n",
              "      <td>0.06</td>\n",
              "      <td>0.15</td>\n",
              "      <td>232.9</td>\n",
              "      <td>4.778175</td>\n",
              "    </tr>\n",
              "    <tr>\n",
              "      <th>17</th>\n",
              "      <td>15</td>\n",
              "      <td>232.5</td>\n",
              "      <td>6.45</td>\n",
              "      <td>P</td>\n",
              "      <td>0.06</td>\n",
              "      <td>0.15</td>\n",
              "      <td>232.9</td>\n",
              "      <td>5.647967</td>\n",
              "    </tr>\n",
              "    <tr>\n",
              "      <th>18</th>\n",
              "      <td>15</td>\n",
              "      <td>235.0</td>\n",
              "      <td>7.56</td>\n",
              "      <td>P</td>\n",
              "      <td>0.06</td>\n",
              "      <td>0.15</td>\n",
              "      <td>232.9</td>\n",
              "      <td>6.803778</td>\n",
              "    </tr>\n",
              "    <tr>\n",
              "      <th>19</th>\n",
              "      <td>15</td>\n",
              "      <td>237.5</td>\n",
              "      <td>8.78</td>\n",
              "      <td>P</td>\n",
              "      <td>0.06</td>\n",
              "      <td>0.15</td>\n",
              "      <td>232.9</td>\n",
              "      <td>8.258638</td>\n",
              "    </tr>\n",
              "  </tbody>\n",
              "</table>\n",
              "</div>"
            ],
            "text/plain": [
              "    Days to maturity  Strike  Price Type     t     r     S0  price_calc\n",
              "0                 15   227.5  10.52    C  0.06  0.15  232.9   11.564888\n",
              "1                 15   230.0  10.05    C  0.06  0.15  232.9    9.738888\n",
              "2                 15   232.5   7.75    C  0.06  0.15  232.9    8.131079\n",
              "3                 15   235.0   6.01    C  0.06  0.15  232.9    6.809289\n",
              "4                 15   237.5   4.75    C  0.06  0.15  232.9    5.786548\n",
              "15                15   227.5   4.32    P  0.06  0.15  232.9    4.126574\n",
              "16                15   230.0   5.20    P  0.06  0.15  232.9    4.778175\n",
              "17                15   232.5   6.45    P  0.06  0.15  232.9    5.647967\n",
              "18                15   235.0   7.56    P  0.06  0.15  232.9    6.803778\n",
              "19                15   237.5   8.78    P  0.06  0.15  232.9    8.258638"
            ]
          },
          "execution_count": 37,
          "metadata": {},
          "output_type": "execute_result"
        }
      ],
      "source": [
        "# Apply the optimized parameters to the DataFrame to calculate prices\n",
        "options['price_calc'] = options.apply(lambda row: H93_value_FFT(row['S0'], row['Strike'], row['t'], row['r'],\n",
        "                                        kappa_v_opt, theta_v_opt, sigma_v_opt, rho_opt, v0_opt, row['Type']), axis=1)\n",
        "options"
      ]
    },
    {
      "cell_type": "markdown",
      "metadata": {
        "id": "kMGh9R72Yfdj"
      },
      "source": [
        "Last step includes plotting a graph to visually inspect how close a function with our parameters, determined with the optimisation funciton, fit market data\n",
        "\n"
      ]
    },
    {
      "cell_type": "code",
      "execution_count": 38,
      "metadata": {
        "id": "kjK26NK3YfO4"
      },
      "outputs": [],
      "source": [
        "def generate_plot(df, option_type, maturity):\n",
        "\n",
        "    if option_type == \"C\":\n",
        "        option_string_name = \"Call\"\n",
        "    elif option_type == \"P\":\n",
        "        option_string_name = \"Put\"\n",
        "\n",
        "\n",
        "    # Plotting the results for maturity\n",
        "    subset = options[(options[\"Type\"] == option_type)]\n",
        "    subset.plot(x=\"Strike\", y=[\"Price\", \"price_calc\"], style=[\"b-\", \"ro\"],\n",
        "                title=f\"Fit of Model vs Market prices for {option_string_name} options with Maturity {maturity} days\",\n",
        "                figsize=(8, 4)\n",
        "    )\n",
        "\n",
        "    plt.ylabel(\"Option Value\")\n",
        "    plt.xlabel(\"Strike Price\")\n",
        "    plt.ylim(0, 15)\n",
        "    plt.show()"
      ]
    },
    {
      "cell_type": "code",
      "execution_count": 39,
      "metadata": {
        "colab": {
          "base_uri": "https://localhost:8080/",
          "height": 0
        },
        "id": "Un4-IWrMYeHQ",
        "outputId": "6dfa13ff-8050-4751-d965-766cfac39757"
      },
      "outputs": [
        {
          "data": {
            "image/png": "[encoded data removed]",
            "text/plain": [
              "<Figure size 800x400 with 1 Axes>"
            ]
          },
          "metadata": {},
          "output_type": "display_data"
        }
      ],
      "source": [
        "generate_plot(options, \"C\", 15)"
      ]
    },
    {
      "cell_type": "code",
      "execution_count": 40,
      "metadata": {
        "colab": {
          "base_uri": "https://localhost:8080/",
          "height": 0
        },
        "id": "r8srbMC0YeEE",
        "outputId": "623de264-430c-42ed-bfa7-c9fbcfe6cd9e"
      },
      "outputs": [
        {
          "data": {
            "image/png": "[encoded data removed]",
            "text/plain": [
              "<Figure size 800x400 with 1 Axes>"
            ]
          },
          "metadata": {},
          "output_type": "display_data"
        }
      ],
      "source": [
        "generate_plot(options, \"P\", 15)"
      ]
    },
    {
      "cell_type": "markdown",
      "metadata": {
        "id": "lLQfq_wUYeAr"
      },
      "source": [
        "Analysing the graphs above we can conclude that the parameters we have found using calibration process fit the actual market prices relatively well. Estimated errors are: MSE = 0.48 and RMSE of ~0.7. Visual inspection of Put and Call graphs demonstrates that the model produses values close to the maket data. The only noticeable difference is Deep Out of the Money call option."
      ]
    },
    {
      "cell_type": "markdown",
      "metadata": {
        "id": "_qinlqQToXm_"
      },
      "source": [
        "## 1.c Using Monte-Carlo method for Asian call option pricing"
      ]
    },
    {
      "cell_type": "code",
      "execution_count": 41,
      "metadata": {
        "colab": {
          "base_uri": "https://localhost:8080/"
        },
        "id": "dKdRXhaKMI48",
        "outputId": "5b1d6bbf-269a-4ab4-f388-c2602140446c"
      },
      "outputs": [
        {
          "name": "stdout",
          "output_type": "stream",
          "text": [
            "Option price $4.53\n",
            "Option price with 4 pct fee $4.71\n"
          ]
        }
      ],
      "source": [
        "import numpy as np\n",
        "from scipy.stats import norm\n",
        "\n",
        "def heston_asian_mc(S0, K, T, r, v0, kappa, theta, sigma, rho, n_steps, n_sims, option_type='call'):\n",
        "    \"\"\"\n",
        "    Price an Asian option using Monte Carlo simulation with the Heston model.\n",
        "\n",
        "    Parameters:\n",
        "    S0 (float): Initial stock price\n",
        "    K (float): Strike price\n",
        "    T (float): Time to maturity (in years)\n",
        "    r (float): Risk-free interest rate\n",
        "    v0 (float): Initial volatility\n",
        "    kappa (float): Rate of mean reversion in variance process\n",
        "    theta (float): Long-term mean variance\n",
        "    sigma (float): Volatility of volatility\n",
        "    rho (float): Correlation between stock price and variance processes\n",
        "    n_steps (int): Number of time steps in simulation\n",
        "    n_sims (int): Number of simulation paths\n",
        "    option_type (str): 'call' for Call option, 'put' for Put option\n",
        "\n",
        "    Returns:\n",
        "    float: Estimated option price\n",
        "    \"\"\"\n",
        "    dt = T / n_steps\n",
        "    np.random.seed(0)\n",
        "    # Generate correlated random numbers\n",
        "    z1 = np.random.normal(0, 1, (n_steps, n_sims))\n",
        "    z2 = rho * z1 + np.sqrt(1 - rho**2) * np.random.normal(0, 1, (n_steps, n_sims))\n",
        "\n",
        "    # Initialize arrays\n",
        "    S = np.zeros((n_steps + 1, n_sims))\n",
        "    v = np.zeros((n_steps + 1, n_sims))\n",
        "    S[0] = S0\n",
        "    v[0] = v0\n",
        "\n",
        "    # Simulate stock price and variance paths\n",
        "    for i in range(1, n_steps + 1):\n",
        "        S[i] = S[i-1] * np.exp((r - 0.5 * v[i-1]) * dt + np.sqrt(v[i-1] * dt) * z1[i-1])\n",
        "        v[i] = np.maximum(v[i-1] + kappa * (theta - v[i-1]) * dt + sigma * np.sqrt(v[i-1] * dt) * z2[i-1], 0)\n",
        "\n",
        "    # Calculate average stock price for each path\n",
        "    S_avg = np.mean(S, axis=0)\n",
        "\n",
        "    # Calculate option payoffs\n",
        "    if option_type.lower() == 'call':\n",
        "        payoffs = np.maximum(S_avg - K, 0)\n",
        "    elif option_type.lower() == 'put':\n",
        "        payoffs = np.maximum(K - S_avg, 0)\n",
        "    else:\n",
        "        raise ValueError(\"Invalid option type. Use 'call' or 'put'.\")\n",
        "\n",
        "    # Calculate option price\n",
        "    option_price = np.exp(-r * T) * np.mean(payoffs)\n",
        "\n",
        "    return option_price\n",
        "\n",
        "S0 = 232.90\n",
        "K = 232.90\n",
        "T = 20 / 250\n",
        "r = 0.015\n",
        "n_steps = 20\n",
        "\n",
        "# Heston (1993) model calibrated parameters\n",
        "kappa_v = 5.37938150e+00\n",
        "theta_v = 8.67728843e-02\n",
        "sigma_v = 6.99666868e-06\n",
        "rho = -6.11934338e-03\n",
        "v0 = 8.72078281e-02\n",
        "\n",
        "option_type = 'call'\n",
        "n_sims = 10000\n",
        "\n",
        "mc_asian_heston_call_price = heston_asian_mc(S0, K, T, r, v0, kappa_v, theta_v, sigma_v, rho, n_steps, n_sims, option_type=option_type)\n",
        "\n",
        "print(\"Option price $%.2f\" % mc_asian_heston_call_price)\n",
        "print(\"Option price with 4 pct fee $%.2f\" % (mc_asian_heston_call_price * 1.04))"
      ]
    },
    {
      "cell_type": "markdown",
      "metadata": {
        "id": "EBZJ7X-5nKue"
      },
      "source": [
        "# Step 2"
      ]
    },
    {
      "cell_type": "markdown",
      "metadata": {
        "id": "7RCn1geKLCPT"
      },
      "source": [
        "## 2.A Calibration of Heston model with jumps (Bates, 1996) using Lewis (2001) approach"
      ]
    },
    {
      "cell_type": "code",
      "execution_count": 42,
      "metadata": {
        "id": "HksjvhY_LUUS"
      },
      "outputs": [],
      "source": [
        "import pandas as pd\n",
        "import numpy as np\n",
        "from scipy.integrate import quad\n",
        "from scipy.optimize import brute, fmin\n",
        "\n",
        "def B96_error_function(p0):\n",
        "    \"\"\"\n",
        "    Error function for Bates (1996) model\n",
        "\n",
        "    Parameters:\n",
        "    -------------\n",
        "    lamb: float\n",
        "        jump intensity\n",
        "    mu: float\n",
        "        expected jump size\n",
        "    delta: float\n",
        "        standard deviation of jump\n",
        "    Returns\n",
        "    -------------\n",
        "    MSE: float\n",
        "        mean squared error\n",
        "    \"\"\"\n",
        "\n",
        "    global i, min_MSE, local_opt, opt1\n",
        "    lamb, mu, delta = p0\n",
        "    if lamb < 0.0 or mu < -0.6 or mu > 0.0 or delta < 0.0:\n",
        "        return 5000.0\n",
        "    se = []\n",
        "    for row, option in options[options[\"Type\"] == \"C\"].iterrows():\n",
        "        model_value = B96_call_value(\n",
        "            S0,\n",
        "            option[\"Strike\"],\n",
        "            option[\"T\"],\n",
        "            option[\"r\"],\n",
        "            kappa_v,\n",
        "            theta_v,\n",
        "            sigma_v,\n",
        "            rho,\n",
        "            v0,\n",
        "            lamb,\n",
        "            mu,\n",
        "            delta,\n",
        "        )\n",
        "        se.append((model_value - option[\"Price\"]) ** 2)\n",
        "    MSE = sum(se) / len(se)\n",
        "    min_MSE = min(min_MSE, MSE)\n",
        "    mse_values.append(MSE)\n",
        "    if i % 25 == 0:\n",
        "        print(\"%4d |\" % i, np.array(p0), \"| %7.3f | %7.3f\" % (MSE, min_MSE))\n",
        "    i += 1\n",
        "    if local_opt:\n",
        "        penalty = np.sqrt(np.sum((p0 - opt1) ** 2)) * 1\n",
        "        return MSE + penalty\n",
        "    return MSE\n",
        "\n",
        "def B96_call_value(S0, K, T, r, kappa_v, theta_v, sigma_v, rho, v0, lamb, mu, delta):\n",
        "    \"\"\"\n",
        "    Valuation of European call option in B96 Model via Lewis (2001)\n",
        "    Parameters:\n",
        "    ==========\n",
        "    S0: float\n",
        "        initial stock/index level\n",
        "    K: float\n",
        "        strike price\n",
        "    T: float\n",
        "        time-to-maturity (for t=0)\n",
        "    r: float\n",
        "        constant risk-free short rate\n",
        "    kappa_v: float\n",
        "        mean-reversion factor\n",
        "    theta_v: float\n",
        "        long-run mean of variance\n",
        "    sigma_v: float\n",
        "        volatility of variance\n",
        "    rho: float\n",
        "        correlation between variance and stock/index level\n",
        "    v0: float\n",
        "        initial level of variance\n",
        "    lamb: float\n",
        "        jump intensity\n",
        "    mu: float\n",
        "        expected jump size\n",
        "    delta: float\n",
        "        standard deviation of jump\n",
        "    ==========\n",
        "    \"\"\"\n",
        "    int_value = quad(\n",
        "        lambda u: B96_int_func(\n",
        "            u, S0, K, T, r, kappa_v, theta_v, sigma_v, rho, v0, lamb, mu, delta\n",
        "        ),\n",
        "        0,\n",
        "        np.inf,\n",
        "        limit=250,\n",
        "    )[0]\n",
        "    call_value = max(0, S0 - np.exp(-r * T) * np.sqrt(S0 * K) / np.pi * int_value)\n",
        "    return call_value\n",
        "\n",
        "def H93_char_func(u, T, r, kappa_v, theta_v, sigma_v, rho, v0):\n",
        "    \"\"\"Valuation of European call option in H93 model via Lewis (2001)\n",
        "    Fourier-based approach: characteristic function.\n",
        "    Parameter definitions see function BCC_call_value.\"\"\"\n",
        "    c1 = kappa_v * theta_v\n",
        "    c2 = -np.sqrt(\n",
        "        (rho * sigma_v * u * 1j - kappa_v) ** 2 - sigma_v**2 * (-u * 1j - u**2)\n",
        "    )\n",
        "    c3 = (kappa_v - rho * sigma_v * u * 1j + c2) / (\n",
        "        kappa_v - rho * sigma_v * u * 1j - c2\n",
        "    )\n",
        "    H1 = r * u * 1j * T + (c1 / sigma_v**2) * (\n",
        "        (kappa_v - rho * sigma_v * u * 1j + c2) * T\n",
        "        - 2 * np.log((1 - c3 * np.exp(c2 * T)) / (1 - c3))\n",
        "    )\n",
        "    H2 = (\n",
        "        (kappa_v - rho * sigma_v * u * 1j + c2)\n",
        "        / sigma_v**2\n",
        "        * ((1 - np.exp(c2 * T)) / (1 - c3 * np.exp(c2 * T)))\n",
        "    )\n",
        "    char_func_value = np.exp(H1 + H2 * v0)\n",
        "    return char_func_value\n",
        "\n",
        "def M76J_char_func(u, T, lamb, mu, delta):\n",
        "    \"\"\"\n",
        "    Adjusted Characteristic function for Merton '76 model: Only jump component\n",
        "    \"\"\"\n",
        "\n",
        "    omega = -lamb * (np.exp(mu + 0.5 * delta**2) - 1)\n",
        "    char_func_value = np.exp(\n",
        "        (1j * u * omega + lamb * (np.exp(1j * u * mu - u**2 * delta**2 * 0.5) - 1))\n",
        "        * T\n",
        "    )\n",
        "    return char_func_value\n",
        "\n",
        "def B96_char_func(u, T, r, kappa_v, theta_v, sigma_v, rho, v0, lamb, mu, delta):\n",
        "    \"\"\"\n",
        "    Bates (1996) characteristic function\n",
        "    \"\"\"\n",
        "    H93 = H93_char_func(u, T, r, kappa_v, theta_v, sigma_v, rho, v0)\n",
        "    M76J = M76J_char_func(u, T, lamb, mu, delta)\n",
        "    return H93 * M76J\n",
        "\n",
        "def B96_int_func(u, S0, K, T, r, kappa_v, theta_v, sigma_v, rho, v0, lamb, mu, delta):\n",
        "    \"\"\"\n",
        "    Lewis (2001) integral value for Bates (1996) characteristic function\n",
        "    \"\"\"\n",
        "    char_func_value = B96_char_func(\n",
        "        u - 1j * 0.5, T, r, kappa_v, theta_v, sigma_v, rho, v0, lamb, mu, delta\n",
        "    )\n",
        "    int_func_value = (\n",
        "        1 / (u**2 + 0.25) * (np.exp(1j * u * np.log(S0 / K)) * char_func_value).real\n",
        "    )\n",
        "    return int_func_value\n",
        "\n",
        "def B96_calibration():\n",
        "    \"\"\"\n",
        "    Calibrates jump component of Bates (1996) model to market prices\n",
        "    \"\"\"\n",
        "    # First, we run with brute force\n",
        "    # (scan sensible regions)\n",
        "    opt1 = 0.0\n",
        "    opt1 = brute(\n",
        "        B96_error_function,\n",
        "        (\n",
        "            (0.0, 0.51, 0.1),  # lambda\n",
        "            (-0.5, -0.11, 0.1),  # mu\n",
        "            (0.0, 0.51, 0.25),\n",
        "        ),  # delta\n",
        "        finish=None,\n",
        "    )\n",
        "\n",
        "    # Second, we run with local, convex minimization\n",
        "    # (dig deeper where promising)\n",
        "    opt2 = fmin(\n",
        "        B96_error_function,\n",
        "        opt1,\n",
        "        xtol=0.0000001,\n",
        "        ftol=0.0000001,\n",
        "        maxiter=550,\n",
        "        maxfun=750,\n",
        "    )\n",
        "    return opt2"
      ]
    },
    {
      "cell_type": "code",
      "execution_count": 43,
      "metadata": {
        "colab": {
          "base_uri": "https://localhost:8080/"
        },
        "id": "ug5a-Lx_M4qY",
        "outputId": "b8ab61b1-2bb9-4d9b-df66-1670a4249537"
      },
      "outputs": [
        {
          "name": "stdout",
          "output_type": "stream",
          "text": [
            "   0 | [ 0.  -0.5  0. ] |   3.738 |   3.738\n",
            "  25 | [ 0.2  -0.5   0.25] |   1.485 |   1.485\n",
            "  50 | [ 0.4 -0.5  0.5] |   6.612 |   1.317\n",
            "  75 | [ 0.2   -0.2    0.525] |   1.321 |   1.317\n",
            " 100 | [ 0.08566309 -0.02891711  0.86127058] |   1.180 |   1.170\n",
            " 125 | [ 0.0626077  -0.00179791  0.98814916] |   1.148 |   1.148\n",
            " 150 | [ 0.04128301 -0.00340358  1.22322747] |   1.127 |   1.125\n",
            " 175 | [ 0.02335722 -0.00710819  1.4963491 ] |   1.107 |   1.105\n",
            " 200 | [ 0.01057079 -0.0213949   1.90410606] |   1.086 |   1.083\n",
            " 225 | [ 0.00885597 -0.02672171  2.01497052] |   1.075 |   1.075\n",
            " 250 | [ 0.00476181 -0.04396591  2.28709421] |   1.069 |   1.068\n",
            " 275 | [ 0.00431185 -0.04944931  2.34010791] |   1.066 |   1.066\n",
            " 300 | [ 0.00288525 -0.06813474  2.50656754] |   1.063 |   1.063\n",
            " 325 | [ 1.92038459e-03 -8.91797365e-02  2.67304408e+00] |   1.061 |   1.061\n",
            " 350 | [ 1.22010824e-03 -1.10225230e-01  2.83894786e+00] |   1.060 |   1.059\n",
            " 375 | [ 1.16861962e-03 -1.12920195e-01  2.85974465e+00] |   1.059 |   1.059\n",
            " 400 | [ 8.15744309e-04 -1.29286983e-01  2.98315925e+00] |   1.058 |   1.058\n",
            " 425 | [ 7.40466490e-04 -1.34355068e-01  3.02002886e+00] |   1.058 |   1.058\n",
            " 450 | [ 5.83697778e-04 -1.45810737e-01  3.10128424e+00] |   1.057 |   1.057\n",
            " 475 | [ 4.88631458e-04 -1.54546467e-01  3.16090666e+00] |   1.057 |   1.057\n",
            " 500 | [ 4.30480209e-04 -1.60860872e-01  3.20293470e+00] |   1.057 |   1.057\n",
            " 525 | [ 3.45012629e-04 -1.71708417e-01  3.27375229e+00] |   1.057 |   1.057\n",
            " 550 | [ 3.22061794e-04 -1.75351730e-01  3.29699523e+00] |   1.057 |   1.057\n",
            " 575 | [ 2.74685884e-04 -1.83261611e-01  3.34727356e+00] |   1.057 |   1.057\n",
            " 600 | [ 2.38228545e-04 -1.90164826e-01  3.39070977e+00] |   1.057 |   1.057\n",
            " 625 | [ 2.06023587e-04 -1.97539584e-01  3.43652408e+00] |   1.056 |   1.056\n",
            " 650 | [ 1.63937369e-04 -2.08404921e-01  3.50369375e+00] |   1.056 |   1.056\n",
            " 675 | [ 1.54762747e-04 -2.11492763e-01  3.52268645e+00] |   1.056 |   1.056\n",
            " 700 | [ 1.31200073e-04 -2.19383782e-01  3.57122498e+00] |   1.056 |   1.056\n",
            " 725 | [ 1.20657214e-04 -2.23449795e-01  3.59621651e+00] |   1.056 |   1.056\n",
            " 750 | [ 1.03018857e-04 -2.30707287e-01  3.64091190e+00] |   1.056 |   1.056\n",
            " 775 | [ 9.28427760e-05 -2.35547930e-01  3.67083285e+00] |   1.056 |   1.056\n",
            " 800 | [ 8.25204445e-05 -2.40953573e-01  3.70428005e+00] |   1.056 |   1.056\n"
          ]
        },
        {
          "data": {
            "text/plain": [
              "array([ 8.25204445e-05, -2.40953573e-01,  3.70428005e+00])"
            ]
          },
          "execution_count": 43,
          "metadata": {},
          "output_type": "execute_result"
        }
      ],
      "source": [
        "# General Parameters\n",
        "S0 = 232.90\n",
        "K = 100\n",
        "T = 1\n",
        "r = 0.05\n",
        "\n",
        "# Previously calibraten parameters of Heston (1993) model with Lewis (2001) approach\n",
        "kappa_v = 13.042\n",
        "theta_v = 0.122\n",
        "sigma_v = 0.0001\n",
        "rho = -0.003\n",
        "v0 = 0.045\n",
        "\n",
        "df = pd.read_csv(r\"Data\\MScFE 622_Stochastic Modeling_GWP1_Option data.xlsx - 1.csv\")\n",
        "options = df[(df[\"Days to maturity\"] == 60)].copy()\n",
        "for row, option in options.iterrows():\n",
        "    T = (option[\"Days to maturity\"] / 250.0) # 1 year = 250 trading days\n",
        "    options.loc[row, \"T\"] = T\n",
        "    options.loc[row, \"r\"] = 0.015 # Constant Annual risk-free rate = 1.50%\n",
        "\n",
        "i = 0\n",
        "min_MSE = 5000.0\n",
        "local_opt = False\n",
        "mse_values = []\n",
        "\n",
        "b96_params = B96_calibration()\n",
        "b96_params"
      ]
    },
    {
      "cell_type": "code",
      "execution_count": 44,
      "metadata": {
        "colab": {
          "base_uri": "https://localhost:8080/",
          "height": 564
        },
        "id": "qhiNqJ1FSNEZ",
        "outputId": "e2eb3310-6cb3-4551-aee7-7b9286704dd3"
      },
      "outputs": [
        {
          "data": {
            "image/png": "[encoded data removed]",
            "text/plain": [
              "<Figure size 1000x600 with 1 Axes>"
            ]
          },
          "metadata": {},
          "output_type": "display_data"
        }
      ],
      "source": [
        "import matplotlib.pyplot as plt\n",
        "\n",
        "plt.figure(figsize=(10, 6))\n",
        "plt.plot(range(len(mse_values)), mse_values)\n",
        "plt.title('MSE Evolution During Calibration')\n",
        "plt.xlabel('Iteration')\n",
        "plt.ylabel('Mean Squared Error')\n",
        "plt.yscale('log')  # Use log scale for y-axis to better visualize improvements\n",
        "plt.grid(True)\n",
        "plt.show()"
      ]
    },
    {
      "cell_type": "code",
      "execution_count": 45,
      "metadata": {
        "colab": {
          "base_uri": "https://localhost:8080/"
        },
        "id": "f-AI04S1OnZz",
        "outputId": "7d5f4140-deda-4e63-d3e9-6d3b02e277bd"
      },
      "outputs": [
        {
          "data": {
            "text/plain": [
              "(8.25204445319403e-05, -0.24095357290461622, 3.704280054252557)"
            ]
          },
          "execution_count": 45,
          "metadata": {},
          "output_type": "execute_result"
        }
      ],
      "source": [
        "lambd, mu, delta = b96_params\n",
        "lambd, mu, delta"
      ]
    },
    {
      "cell_type": "markdown",
      "metadata": {
        "id": "_FXczdmIO9dD"
      },
      "source": [
        "Optimal parameters for Bates' (1996) jump component Merton (1976) with Lewis (2001) approach are\n",
        "$$\\lambda = 0.0000825$$\n",
        "$$\\mu = -0.2409$$\n",
        "$$\\delta = 3.704$$"
      ]
    },
    {
      "cell_type": "markdown",
      "metadata": {
        "id": "_yCpvFHlqGKi"
      },
      "source": [
        "## 2.B Calibrating Bates (1996) model using Carr Madan (1999) Approach\n",
        "\n",
        "As our Client demanded that 60 days maturity would be better for her needs, we are going to use a different approach for calibration we are going to use the carr-Madan (1999) approach to Bates (1996)"
      ]
    },
    {
      "cell_type": "markdown",
      "metadata": {
        "id": "q_mNDpxSKz6x"
      },
      "source": [
        "As we have previously used Lewis (2001) Approach to calibrate the models, this time we are going to use Carr-Madan(1999) to bates (1996) for that we need bates characteristic function which is simply the product of characterstic function Heston model and Merton model Jump component.\n",
        "\n",
        "As we have already discussed about Heston model charactertic function in Step 1 a. We are going to start with Merton Adjusted characteristic function where we will ony include the jump component."
      ]
    },
    {
      "cell_type": "markdown",
      "metadata": {
        "id": "6GqK_JmcySuE"
      },
      "source": [
        "### Merton (1976) Adjusted Characteristic Function (Only Jump Component)\n",
        "\n",
        "In order to produce a stochastic volatility jump-diffusion model, we need to incorporate **only** the jump component of the Merton (1976) characteristic function.\n",
        "\n",
        "The adjusted (only jump) characteristic function of Merton (1976) is therefore given by:\n",
        "$$\n",
        "\\\n",
        "\\begin{equation*}\n",
        "    \\varphi^{M76J}_0 (u, T) = e^{\\left( \\left( i u \\omega + \\lambda ( e^{i u \\mu_j - u^2 \\delta^2/2}-1) \\right) T \\right)}\n",
        "\\end{equation*}\n",
        "$$\n",
        "\n",
        "where,\n",
        "$$\n",
        "\\\n",
        "\\begin{equation*}\n",
        "    \\omega = - \\lambda \\left( e^{\\mu_j + \\delta^2/2}-1 \\right)\n",
        "\\end{equation*}\n",
        "$$\n",
        "\\\n",
        "Now we will code the characteristic function:"
      ]
    },
    {
      "cell_type": "code",
      "execution_count": 46,
      "metadata": {
        "id": "taVFQ4AOnMnm"
      },
      "outputs": [],
      "source": [
        "def M76J_char_func(u, T, lamb, mu, delta):\n",
        "    \"\"\"\n",
        "    Adjusted Characteristic function for Merton '76 model: Only jump component\n",
        "    \"\"\"\n",
        "\n",
        "    omega = -lamb * (np.exp(mu + 0.5 * delta**2) - 1)\n",
        "    char_func_value = np.exp(\n",
        "        (1j * u * omega + lamb * (np.exp(1j * u * mu - u**2 * delta**2 * 0.5) - 1))\n",
        "        * T\n",
        "    )\n",
        "    return char_func_value"
      ]
    },
    {
      "cell_type": "markdown",
      "metadata": {
        "id": "AjAT1L3hqfC6"
      },
      "source": [
        "### Bates (1996) Characteristic Function\n",
        "\n",
        "This is the $\\varphi^{B96}( )$ characteristic function of the bates model. which is the product of heston model and jump diffusion part of Merton model.\n",
        "$$\n",
        "\\begin{equation*}\n",
        "        \\varphi^{B96}_0 (u, T) = \\varphi^{H93}_0 \\varphi^{M76J}_0 (u, T)\n",
        "\\end{equation*}\n",
        "$$\n",
        "\n",
        "Now we can combine both previous characteristic functions to produce the one we are interested in:"
      ]
    },
    {
      "cell_type": "code",
      "execution_count": 47,
      "metadata": {
        "id": "zBBFJFfdpa7O"
      },
      "outputs": [],
      "source": [
        "def B96_char_func(u, T, r, kappa_v, theta_v, sigma_v, rho, v0, lamb, mu, delta):\n",
        "    \"\"\"\n",
        "    Bates (1996) characteristic function\n",
        "    \"\"\"\n",
        "    H93 = H93_char_func(u, T, r, kappa_v, theta_v, sigma_v, rho, v0)\n",
        "    M76J = M76J_char_func(u, T, lamb, mu, delta)\n",
        "    return H93 * M76J"
      ]
    },
    {
      "cell_type": "markdown",
      "metadata": {
        "id": "z9rB_79xqphh"
      },
      "source": [
        "### Pricing via Carr and Madan (1999)\n",
        "\n",
        "Now we are going to price via carr-madan(1999) model. we can apply FFT to the integral in the call option price derived by Carr and Madan:\n",
        "$$\n",
        "\\\n",
        "\\begin{equation*}\n",
        "    C_0 = \\frac{e^{-\\alpha \\kappa}}{\\pi} \\int_{0}^{\\infty} e^{-i\\nu \\kappa} \\frac{e^{-rT} \\varphi^{B96} (\\nu - (\\alpha + 1)i, T)}{\\alpha^2 + \\alpha - \\nu^2 + i(2\\alpha + 1)\\nu} d\\nu\n",
        "\\end{equation*}\n",
        "$$\n",
        "\\\n",
        "Here we are going to use a numerical FFT routine and as was the case with the Lewis (2001) approach, we basically have to adapt the characteristic function we are considering to be the Bates (1996) one.\n",
        "\n",
        "We also quickly used the put-call parity to write a Put call pricing function, then we used some general function to check wether our function are working well or not."
      ]
    },
    {
      "cell_type": "code",
      "execution_count": 48,
      "metadata": {
        "id": "xBLHZLtope-l"
      },
      "outputs": [],
      "source": [
        "def B96_call_FFT(S0, K, T, r, kappa_v, theta_v, sigma_v, rho, v0, lamb, mu, delta):\n",
        "    \"\"\"\n",
        "    Call option price in Bates (1996) under FFT\n",
        "    \"\"\"\n",
        "\n",
        "    k = np.log(K / S0)\n",
        "    g = 1  # Factor to increase accuracy\n",
        "    N = g * 4096\n",
        "    eps = (g * 150) ** -1\n",
        "    eta = 2 * np.pi / (N * eps)\n",
        "    b = 0.5 * N * eps - k\n",
        "    u = np.arange(1, N + 1, 1)\n",
        "    vo = eta * (u - 1)\n",
        "\n",
        "    # Modifications to ensure integrability\n",
        "    if S0 >= 0.95 * K:  # ITM Case\n",
        "        alpha = 1.5\n",
        "        v = vo - (alpha + 1) * 1j\n",
        "        modcharFunc = np.exp(-r * T) * (\n",
        "            B96_char_func(v, T, r, kappa_v, theta_v, sigma_v, rho, v0, lamb, mu, delta)\n",
        "            / (alpha**2 + alpha - vo**2 + 1j * (2 * alpha + 1) * vo)\n",
        "        )\n",
        "\n",
        "    else:\n",
        "        alpha = 1.1\n",
        "        v = (vo - 1j * alpha) - 1j\n",
        "        modcharFunc1 = np.exp(-r * T) * (\n",
        "            1 / (1 + 1j * (vo - 1j * alpha))\n",
        "            - np.exp(r * T) / (1j * (vo - 1j * alpha))\n",
        "            - B96_char_func(\n",
        "                v, T, r, kappa_v, theta_v, sigma_v, rho, v0, lamb, mu, delta\n",
        "            )\n",
        "            / ((vo - 1j * alpha) ** 2 - 1j * (vo - 1j * alpha))\n",
        "        )\n",
        "\n",
        "        v = (vo + 1j * alpha) - 1j\n",
        "\n",
        "        modcharFunc2 = np.exp(-r * T) * (\n",
        "            1 / (1 + 1j * (vo + 1j * alpha))\n",
        "            - np.exp(r * T) / (1j * (vo + 1j * alpha))\n",
        "            - B96_char_func(\n",
        "                v, T, r, kappa_v, theta_v, sigma_v, rho, v0, lamb, mu, delta\n",
        "            )\n",
        "            / ((vo + 1j * alpha) ** 2 - 1j * (vo + 1j * alpha))\n",
        "        )\n",
        "\n",
        "    # Numerical FFT Routine\n",
        "    delt = np.zeros(N)\n",
        "    delt[0] = 1\n",
        "    j = np.arange(1, N + 1, 1)\n",
        "    SimpsonW = (3 + (-1) ** j - delt) / 3\n",
        "    if S0 >= 0.95 * K:\n",
        "        FFTFunc = np.exp(1j * b * vo) * modcharFunc * eta * SimpsonW\n",
        "        payoff = (np.fft.fft(FFTFunc)).real\n",
        "        CallValueM = np.exp(-alpha * k) / np.pi * payoff\n",
        "    else:\n",
        "        FFTFunc = (\n",
        "            np.exp(1j * b * vo) * (modcharFunc1 - modcharFunc2) * 0.5 * eta * SimpsonW\n",
        "        )\n",
        "        payoff = (np.fft.fft(FFTFunc)).real\n",
        "        CallValueM = payoff / (np.sinh(alpha * k) * np.pi)\n",
        "\n",
        "    pos = int((k + b) / eps)\n",
        "    CallValue = CallValueM[pos] * S0\n",
        "\n",
        "    return CallValue"
      ]
    },
    {
      "cell_type": "code",
      "execution_count": 49,
      "metadata": {
        "id": "CXSQ3Tj8puDf"
      },
      "outputs": [],
      "source": [
        "def B96_put_FFT(S0, K, T, r, kappa_v, theta_v, sigma_v, rho, v0, lamb, mu, delta):\n",
        "    call = B96_call_FFT(S0, K, T, r, kappa_v, theta_v, sigma_v, rho, v0, lamb, mu, delta)\n",
        "    Put = call + (K * np.exp(-r * T)) - S0\n",
        "\n",
        "    return Put"
      ]
    },
    {
      "cell_type": "code",
      "execution_count": 50,
      "metadata": {
        "id": "BIJoplIPpltN"
      },
      "outputs": [],
      "source": [
        "# General Parameters\n",
        "S0 = 100\n",
        "K = 100\n",
        "T = 1\n",
        "r = 0.05\n",
        "\n",
        "# Heston'93 Parameters\n",
        "kappa_v = 1.5\n",
        "theta_v = 0.02\n",
        "sigma_v = 0.15\n",
        "rho = 0.1\n",
        "v0 = 0.01\n",
        "\n",
        "# Merton'76 Parameters\n",
        "lamb = 0.25\n",
        "mu = -0.2\n",
        "delta = 0.1\n",
        "sigma = np.sqrt(v0)\n",
        "\n",
        "i = 0\n",
        "min_MSE = 500\n",
        "min_MSE2 = 500"
      ]
    },
    {
      "cell_type": "code",
      "execution_count": 51,
      "metadata": {
        "colab": {
          "base_uri": "https://localhost:8080/"
        },
        "id": "yfWA3-swpiEE",
        "outputId": "18b61e3a-6bd3-4995-ab5a-a524ebe68d6c"
      },
      "outputs": [
        {
          "name": "stdout",
          "output_type": "stream",
          "text": [
            "B96 Call option price via FFT: $    8.9047\n",
            "B96 Put option price via FFT: $    4.0277\n"
          ]
        }
      ],
      "source": [
        "print(\n",
        "    \"B96 Call option price via FFT: $%10.4f\"\n",
        "    % B96_call_FFT(S0, K, T, r, kappa_v, theta_v, sigma_v, rho, v0, lamb, mu, delta)\n",
        ")\n",
        "\n",
        "print(\n",
        "    \"B96 Put option price via FFT: $%10.4f\"\n",
        "    % B96_put_FFT(S0, K, T, r, kappa_v, theta_v, sigma_v, rho, v0, lamb, mu, delta)\n",
        ")"
      ]
    },
    {
      "cell_type": "markdown",
      "metadata": {
        "id": "XifE8xRmse9I"
      },
      "source": [
        "### Options Data Preprocessing\n",
        "\n",
        "after that we moved into option data processing. We have already discussed data processing in Step 1 a. So we will not discuss anything more here but this time as our client has demanded for 60 days maturity so we are going to use data which has 60 days to maturity."
      ]
    },
    {
      "cell_type": "code",
      "execution_count": 52,
      "metadata": {
        "colab": {
          "base_uri": "https://localhost:8080/",
          "height": 206
        },
        "id": "scbNzhhSse9K",
        "outputId": "78a84793-2633-4b38-a745-3aafc1780402"
      },
      "outputs": [
        {
          "data": {
            "text/html": [
              "<div>\n",
              "<style scoped>\n",
              "    .dataframe tbody tr th:only-of-type {\n",
              "        vertical-align: middle;\n",
              "    }\n",
              "\n",
              "    .dataframe tbody tr th {\n",
              "        vertical-align: top;\n",
              "    }\n",
              "\n",
              "    .dataframe thead th {\n",
              "        text-align: right;\n",
              "    }\n",
              "</style>\n",
              "<table border=\"1\" class=\"dataframe\">\n",
              "  <thead>\n",
              "    <tr style=\"text-align: right;\">\n",
              "      <th></th>\n",
              "      <th>Days to maturity</th>\n",
              "      <th>Strike</th>\n",
              "      <th>Price</th>\n",
              "      <th>Type</th>\n",
              "    </tr>\n",
              "  </thead>\n",
              "  <tbody>\n",
              "    <tr>\n",
              "      <th>0</th>\n",
              "      <td>15</td>\n",
              "      <td>227.5</td>\n",
              "      <td>10.52</td>\n",
              "      <td>C</td>\n",
              "    </tr>\n",
              "    <tr>\n",
              "      <th>1</th>\n",
              "      <td>15</td>\n",
              "      <td>230.0</td>\n",
              "      <td>10.05</td>\n",
              "      <td>C</td>\n",
              "    </tr>\n",
              "    <tr>\n",
              "      <th>2</th>\n",
              "      <td>15</td>\n",
              "      <td>232.5</td>\n",
              "      <td>7.75</td>\n",
              "      <td>C</td>\n",
              "    </tr>\n",
              "    <tr>\n",
              "      <th>3</th>\n",
              "      <td>15</td>\n",
              "      <td>235.0</td>\n",
              "      <td>6.01</td>\n",
              "      <td>C</td>\n",
              "    </tr>\n",
              "    <tr>\n",
              "      <th>4</th>\n",
              "      <td>15</td>\n",
              "      <td>237.5</td>\n",
              "      <td>4.75</td>\n",
              "      <td>C</td>\n",
              "    </tr>\n",
              "  </tbody>\n",
              "</table>\n",
              "</div>"
            ],
            "text/plain": [
              "   Days to maturity  Strike  Price Type\n",
              "0                15   227.5  10.52    C\n",
              "1                15   230.0  10.05    C\n",
              "2                15   232.5   7.75    C\n",
              "3                15   235.0   6.01    C\n",
              "4                15   237.5   4.75    C"
            ]
          },
          "execution_count": 52,
          "metadata": {},
          "output_type": "execute_result"
        }
      ],
      "source": [
        "df = pd.read_csv(r\"Data\\MScFE 622_Stochastic Modeling_GWP1_Option data.xlsx - 1.csv\")\n",
        "df.head()"
      ]
    },
    {
      "cell_type": "code",
      "execution_count": 53,
      "metadata": {
        "colab": {
          "base_uri": "https://localhost:8080/",
          "height": 437
        },
        "id": "f1W5XyuOse9M",
        "outputId": "7a19fd91-e8cd-4a24-9a69-5172e11e34a3"
      },
      "outputs": [
        {
          "data": {
            "text/html": [
              "<pre style=\"white-space:pre;overflow-x:auto;line-height:normal;font-family:Menlo,'DejaVu Sans Mono',consolas,'Courier New',monospace\">╭──────────────────────────────────────────────── skimpy summary ─────────────────────────────────────────────────╮\n",
              "│ <span style=\"font-style: italic\">         Data Summary         </span> <span style=\"font-style: italic\">      Data Types       </span>                                                          │\n",
              "│ ┏━━━━━━━━━━━━━━━━━━━┳━━━━━━━━┓ ┏━━━━━━━━━━━━━┳━━━━━━━┓                                                          │\n",
              "│ ┃<span style=\"color: #008080; text-decoration-color: #008080; font-weight: bold\"> dataframe         </span>┃<span style=\"color: #008080; text-decoration-color: #008080; font-weight: bold\"> Values </span>┃ ┃<span style=\"color: #008080; text-decoration-color: #008080; font-weight: bold\"> Column Type </span>┃<span style=\"color: #008080; text-decoration-color: #008080; font-weight: bold\"> Count </span>┃                                                          │\n",
              "│ ┡━━━━━━━━━━━━━━━━━━━╇━━━━━━━━┩ ┡━━━━━━━━━━━━━╇━━━━━━━┩                                                          │\n",
              "│ │ Number of rows    │ 30     │ │ float64     │ 2     │                                                          │\n",
              "│ │ Number of columns │ 4      │ │ int32       │ 1     │                                                          │\n",
              "│ └───────────────────┴────────┘ │ string      │ 1     │                                                          │\n",
              "│                                └─────────────┴───────┘                                                          │\n",
              "│ <span style=\"font-style: italic\">                                                    number                                                    </span>  │\n",
              "│ ┏━━━━━━━━━━━━━━━━━━━━━┳━━━━━┳━━━━━━━┳━━━━━━━━┳━━━━━━━━┳━━━━━━━━┳━━━━━━━━┳━━━━━━━━┳━━━━━━━━┳━━━━━━━━┳━━━━━━━━━┓  │\n",
              "│ ┃<span style=\"font-weight: bold\"> column_name         </span>┃<span style=\"font-weight: bold\"> NA  </span>┃<span style=\"font-weight: bold\"> NA %  </span>┃<span style=\"font-weight: bold\"> mean   </span>┃<span style=\"font-weight: bold\"> sd     </span>┃<span style=\"font-weight: bold\"> p0     </span>┃<span style=\"font-weight: bold\"> p25    </span>┃<span style=\"font-weight: bold\"> p50    </span>┃<span style=\"font-weight: bold\"> p75    </span>┃<span style=\"font-weight: bold\"> p100   </span>┃<span style=\"font-weight: bold\"> hist    </span>┃  │\n",
              "│ ┡━━━━━━━━━━━━━━━━━━━━━╇━━━━━╇━━━━━━━╇━━━━━━━━╇━━━━━━━━╇━━━━━━━━╇━━━━━━━━╇━━━━━━━━╇━━━━━━━━╇━━━━━━━━╇━━━━━━━━━┩  │\n",
              "│ │ <span style=\"color: #af87ff; text-decoration-color: #af87ff\">Days to maturity   </span> │ <span style=\"color: #008080; text-decoration-color: #008080\">  0</span> │ <span style=\"color: #008080; text-decoration-color: #008080\">    0</span> │ <span style=\"color: #008080; text-decoration-color: #008080\">    65</span> │ <span style=\"color: #008080; text-decoration-color: #008080\"> 43.75</span> │ <span style=\"color: #008080; text-decoration-color: #008080\">    15</span> │ <span style=\"color: #008080; text-decoration-color: #008080\">    15</span> │ <span style=\"color: #008080; text-decoration-color: #008080\">    60</span> │ <span style=\"color: #008080; text-decoration-color: #008080\">   120</span> │ <span style=\"color: #008080; text-decoration-color: #008080\">   120</span> │ <span style=\"color: #008000; text-decoration-color: #008000\">▇ ▇  ▇ </span> │  │\n",
              "│ │ <span style=\"color: #af87ff; text-decoration-color: #af87ff\">Strike             </span> │ <span style=\"color: #008080; text-decoration-color: #008080\">  0</span> │ <span style=\"color: #008080; text-decoration-color: #008080\">    0</span> │ <span style=\"color: #008080; text-decoration-color: #008080\"> 232.5</span> │ <span style=\"color: #008080; text-decoration-color: #008080\"> 3.596</span> │ <span style=\"color: #008080; text-decoration-color: #008080\"> 227.5</span> │ <span style=\"color: #008080; text-decoration-color: #008080\">   230</span> │ <span style=\"color: #008080; text-decoration-color: #008080\"> 232.5</span> │ <span style=\"color: #008080; text-decoration-color: #008080\">   235</span> │ <span style=\"color: #008080; text-decoration-color: #008080\"> 237.5</span> │ <span style=\"color: #008000; text-decoration-color: #008000\">▇▇ ▇▇▇ </span> │  │\n",
              "│ │ <span style=\"color: #af87ff; text-decoration-color: #af87ff\">Price              </span> │ <span style=\"color: #008080; text-decoration-color: #008080\">  0</span> │ <span style=\"color: #008080; text-decoration-color: #008080\">    0</span> │ <span style=\"color: #008080; text-decoration-color: #008080\"> 14.07</span> │ <span style=\"color: #008080; text-decoration-color: #008080\"> 6.124</span> │ <span style=\"color: #008080; text-decoration-color: #008080\">  4.32</span> │ <span style=\"color: #008080; text-decoration-color: #008080\"> 9.098</span> │ <span style=\"color: #008080; text-decoration-color: #008080\"> 14.93</span> │ <span style=\"color: #008080; text-decoration-color: #008080\"> 17.54</span> │ <span style=\"color: #008080; text-decoration-color: #008080\"> 27.92</span> │ <span style=\"color: #008000; text-decoration-color: #008000\">▇▅▆▇▂▂ </span> │  │\n",
              "│ └─────────────────────┴─────┴───────┴────────┴────────┴────────┴────────┴────────┴────────┴────────┴─────────┘  │\n",
              "│ <span style=\"font-style: italic\">                                                    string                                                    </span>  │\n",
              "│ ┏━━━━━━━━━━━━━━━━━━━━━━━━━━━┳━━━━━━━━━┳━━━━━━━━━━━━┳━━━━━━━━━━━━━━━━━━━━━━━━━━━━━━┳━━━━━━━━━━━━━━━━━━━━━━━━━━┓  │\n",
              "│ ┃<span style=\"font-weight: bold\"> column_name               </span>┃<span style=\"font-weight: bold\"> NA      </span>┃<span style=\"font-weight: bold\"> NA %       </span>┃<span style=\"font-weight: bold\"> words per row                </span>┃<span style=\"font-weight: bold\"> total words              </span>┃  │\n",
              "│ ┡━━━━━━━━━━━━━━━━━━━━━━━━━━━╇━━━━━━━━━╇━━━━━━━━━━━━╇━━━━━━━━━━━━━━━━━━━━━━━━━━━━━━╇━━━━━━━━━━━━━━━━━━━━━━━━━━┩  │\n",
              "│ │ <span style=\"color: #af87ff; text-decoration-color: #af87ff\">Type                     </span> │ <span style=\"color: #008080; text-decoration-color: #008080\">      0</span> │ <span style=\"color: #008080; text-decoration-color: #008080\">         0</span> │ <span style=\"color: #008080; text-decoration-color: #008080\">                           1</span> │ <span style=\"color: #008080; text-decoration-color: #008080\">                      30</span> │  │\n",
              "│ └───────────────────────────┴─────────┴────────────┴──────────────────────────────┴──────────────────────────┘  │\n",
              "╰────────────────────────────────────────────────────── End ──────────────────────────────────────────────────────╯\n",
              "</pre>\n"
            ],
            "text/plain": [
              "╭──────────────────────────────────────────────── skimpy summary ─────────────────────────────────────────────────╮\n",
              "│ \u001b[3m         Data Summary         \u001b[0m \u001b[3m      Data Types       \u001b[0m                                                          │\n",
              "│ ┏━━━━━━━━━━━━━━━━━━━┳━━━━━━━━┓ ┏━━━━━━━━━━━━━┳━━━━━━━┓                                                          │\n",
              "│ ┃\u001b[1;36m \u001b[0m\u001b[1;36mdataframe        \u001b[0m\u001b[1;36m \u001b[0m┃\u001b[1;36m \u001b[0m\u001b[1;36mValues\u001b[0m\u001b[1;36m \u001b[0m┃ ┃\u001b[1;36m \u001b[0m\u001b[1;36mColumn Type\u001b[0m\u001b[1;36m \u001b[0m┃\u001b[1;36m \u001b[0m\u001b[1;36mCount\u001b[0m\u001b[1;36m \u001b[0m┃                                                          │\n",
              "│ ┡━━━━━━━━━━━━━━━━━━━╇━━━━━━━━┩ ┡━━━━━━━━━━━━━╇━━━━━━━┩                                                          │\n",
              "│ │ Number of rows    │ 30     │ │ float64     │ 2     │                                                          │\n",
              "│ │ Number of columns │ 4      │ │ int32       │ 1     │                                                          │\n",
              "│ └───────────────────┴────────┘ │ string      │ 1     │                                                          │\n",
              "│                                └─────────────┴───────┘                                                          │\n",
              "│ \u001b[3m                                                    number                                                    \u001b[0m  │\n",
              "│ ┏━━━━━━━━━━━━━━━━━━━━━┳━━━━━┳━━━━━━━┳━━━━━━━━┳━━━━━━━━┳━━━━━━━━┳━━━━━━━━┳━━━━━━━━┳━━━━━━━━┳━━━━━━━━┳━━━━━━━━━┓  │\n",
              "│ ┃\u001b[1m \u001b[0m\u001b[1mcolumn_name        \u001b[0m\u001b[1m \u001b[0m┃\u001b[1m \u001b[0m\u001b[1mNA \u001b[0m\u001b[1m \u001b[0m┃\u001b[1m \u001b[0m\u001b[1mNA % \u001b[0m\u001b[1m \u001b[0m┃\u001b[1m \u001b[0m\u001b[1mmean  \u001b[0m\u001b[1m \u001b[0m┃\u001b[1m \u001b[0m\u001b[1msd    \u001b[0m\u001b[1m \u001b[0m┃\u001b[1m \u001b[0m\u001b[1mp0    \u001b[0m\u001b[1m \u001b[0m┃\u001b[1m \u001b[0m\u001b[1mp25   \u001b[0m\u001b[1m \u001b[0m┃\u001b[1m \u001b[0m\u001b[1mp50   \u001b[0m\u001b[1m \u001b[0m┃\u001b[1m \u001b[0m\u001b[1mp75   \u001b[0m\u001b[1m \u001b[0m┃\u001b[1m \u001b[0m\u001b[1mp100  \u001b[0m\u001b[1m \u001b[0m┃\u001b[1m \u001b[0m\u001b[1mhist   \u001b[0m\u001b[1m \u001b[0m┃  │\n",
              "│ ┡━━━━━━━━━━━━━━━━━━━━━╇━━━━━╇━━━━━━━╇━━━━━━━━╇━━━━━━━━╇━━━━━━━━╇━━━━━━━━╇━━━━━━━━╇━━━━━━━━╇━━━━━━━━╇━━━━━━━━━┩  │\n",
              "│ │ \u001b[38;5;141mDays to maturity   \u001b[0m │ \u001b[36m  0\u001b[0m │ \u001b[36m    0\u001b[0m │ \u001b[36m    65\u001b[0m │ \u001b[36m 43.75\u001b[0m │ \u001b[36m    15\u001b[0m │ \u001b[36m    15\u001b[0m │ \u001b[36m    60\u001b[0m │ \u001b[36m   120\u001b[0m │ \u001b[36m   120\u001b[0m │ \u001b[32m▇ ▇  ▇ \u001b[0m │  │\n",
              "│ │ \u001b[38;5;141mStrike             \u001b[0m │ \u001b[36m  0\u001b[0m │ \u001b[36m    0\u001b[0m │ \u001b[36m 232.5\u001b[0m │ \u001b[36m 3.596\u001b[0m │ \u001b[36m 227.5\u001b[0m │ \u001b[36m   230\u001b[0m │ \u001b[36m 232.5\u001b[0m │ \u001b[36m   235\u001b[0m │ \u001b[36m 237.5\u001b[0m │ \u001b[32m▇▇ ▇▇▇ \u001b[0m │  │\n",
              "│ │ \u001b[38;5;141mPrice              \u001b[0m │ \u001b[36m  0\u001b[0m │ \u001b[36m    0\u001b[0m │ \u001b[36m 14.07\u001b[0m │ \u001b[36m 6.124\u001b[0m │ \u001b[36m  4.32\u001b[0m │ \u001b[36m 9.098\u001b[0m │ \u001b[36m 14.93\u001b[0m │ \u001b[36m 17.54\u001b[0m │ \u001b[36m 27.92\u001b[0m │ \u001b[32m▇▅▆▇▂▂ \u001b[0m │  │\n",
              "│ └─────────────────────┴─────┴───────┴────────┴────────┴────────┴────────┴────────┴────────┴────────┴─────────┘  │\n",
              "│ \u001b[3m                                                    string                                                    \u001b[0m  │\n",
              "│ ┏━━━━━━━━━━━━━━━━━━━━━━━━━━━┳━━━━━━━━━┳━━━━━━━━━━━━┳━━━━━━━━━━━━━━━━━━━━━━━━━━━━━━┳━━━━━━━━━━━━━━━━━━━━━━━━━━┓  │\n",
              "│ ┃\u001b[1m \u001b[0m\u001b[1mcolumn_name              \u001b[0m\u001b[1m \u001b[0m┃\u001b[1m \u001b[0m\u001b[1mNA     \u001b[0m\u001b[1m \u001b[0m┃\u001b[1m \u001b[0m\u001b[1mNA %      \u001b[0m\u001b[1m \u001b[0m┃\u001b[1m \u001b[0m\u001b[1mwords per row               \u001b[0m\u001b[1m \u001b[0m┃\u001b[1m \u001b[0m\u001b[1mtotal words             \u001b[0m\u001b[1m \u001b[0m┃  │\n",
              "│ ┡━━━━━━━━━━━━━━━━━━━━━━━━━━━╇━━━━━━━━━╇━━━━━━━━━━━━╇━━━━━━━━━━━━━━━━━━━━━━━━━━━━━━╇━━━━━━━━━━━━━━━━━━━━━━━━━━┩  │\n",
              "│ │ \u001b[38;5;141mType                     \u001b[0m │ \u001b[36m      0\u001b[0m │ \u001b[36m         0\u001b[0m │ \u001b[36m                           1\u001b[0m │ \u001b[36m                      30\u001b[0m │  │\n",
              "│ └───────────────────────────┴─────────┴────────────┴──────────────────────────────┴──────────────────────────┘  │\n",
              "╰────────────────────────────────────────────────────── End ──────────────────────────────────────────────────────╯\n"
            ]
          },
          "metadata": {},
          "output_type": "display_data"
        }
      ],
      "source": [
        "from skimpy import skim\n",
        "\n",
        "skim(df)"
      ]
    },
    {
      "cell_type": "code",
      "execution_count": 54,
      "metadata": {
        "id": "SpsBa5bjse9N"
      },
      "outputs": [],
      "source": [
        "S0 = 232.90\n",
        "\n",
        "\n",
        "options = df[(df[\"Days to maturity\"] == 60)].copy()"
      ]
    },
    {
      "cell_type": "code",
      "execution_count": 55,
      "metadata": {
        "id": "HpA9j3EEse9P"
      },
      "outputs": [],
      "source": [
        "for row, option in options.iterrows():\n",
        "    T = (option[\"Days to maturity\"] / 250.0) # 1 year = 250 trading days\n",
        "    options.loc[row, \"T\"] = T\n",
        "    options.loc[row, \"r\"] = 0.015      #Constant Annual risk-free rate = 1.50%"
      ]
    },
    {
      "cell_type": "code",
      "execution_count": 56,
      "metadata": {
        "colab": {
          "base_uri": "https://localhost:8080/",
          "height": 206
        },
        "id": "4g7p0HkIse9Q",
        "outputId": "36b99223-0816-4aea-ddb3-f44cdd620e68"
      },
      "outputs": [
        {
          "data": {
            "text/html": [
              "<div>\n",
              "<style scoped>\n",
              "    .dataframe tbody tr th:only-of-type {\n",
              "        vertical-align: middle;\n",
              "    }\n",
              "\n",
              "    .dataframe tbody tr th {\n",
              "        vertical-align: top;\n",
              "    }\n",
              "\n",
              "    .dataframe thead th {\n",
              "        text-align: right;\n",
              "    }\n",
              "</style>\n",
              "<table border=\"1\" class=\"dataframe\">\n",
              "  <thead>\n",
              "    <tr style=\"text-align: right;\">\n",
              "      <th></th>\n",
              "      <th>Days to maturity</th>\n",
              "      <th>Strike</th>\n",
              "      <th>Price</th>\n",
              "      <th>Type</th>\n",
              "      <th>T</th>\n",
              "      <th>r</th>\n",
              "    </tr>\n",
              "  </thead>\n",
              "  <tbody>\n",
              "    <tr>\n",
              "      <th>5</th>\n",
              "      <td>60</td>\n",
              "      <td>227.5</td>\n",
              "      <td>16.78</td>\n",
              "      <td>C</td>\n",
              "      <td>0.24</td>\n",
              "      <td>0.015</td>\n",
              "    </tr>\n",
              "    <tr>\n",
              "      <th>6</th>\n",
              "      <td>60</td>\n",
              "      <td>230.0</td>\n",
              "      <td>17.65</td>\n",
              "      <td>C</td>\n",
              "      <td>0.24</td>\n",
              "      <td>0.015</td>\n",
              "    </tr>\n",
              "    <tr>\n",
              "      <th>7</th>\n",
              "      <td>60</td>\n",
              "      <td>232.5</td>\n",
              "      <td>16.86</td>\n",
              "      <td>C</td>\n",
              "      <td>0.24</td>\n",
              "      <td>0.015</td>\n",
              "    </tr>\n",
              "    <tr>\n",
              "      <th>8</th>\n",
              "      <td>60</td>\n",
              "      <td>235.0</td>\n",
              "      <td>16.05</td>\n",
              "      <td>C</td>\n",
              "      <td>0.24</td>\n",
              "      <td>0.015</td>\n",
              "    </tr>\n",
              "    <tr>\n",
              "      <th>9</th>\n",
              "      <td>60</td>\n",
              "      <td>237.5</td>\n",
              "      <td>15.10</td>\n",
              "      <td>C</td>\n",
              "      <td>0.24</td>\n",
              "      <td>0.015</td>\n",
              "    </tr>\n",
              "  </tbody>\n",
              "</table>\n",
              "</div>"
            ],
            "text/plain": [
              "   Days to maturity  Strike  Price Type     T      r\n",
              "5                60   227.5  16.78    C  0.24  0.015\n",
              "6                60   230.0  17.65    C  0.24  0.015\n",
              "7                60   232.5  16.86    C  0.24  0.015\n",
              "8                60   235.0  16.05    C  0.24  0.015\n",
              "9                60   237.5  15.10    C  0.24  0.015"
            ]
          },
          "execution_count": 56,
          "metadata": {},
          "output_type": "execute_result"
        }
      ],
      "source": [
        "options.head()"
      ]
    },
    {
      "cell_type": "markdown",
      "metadata": {
        "id": "zKlxaIbLstEB"
      },
      "source": [
        "### Calibrating Heston (1993) stochastic volatility model\n",
        "\n",
        "Now we are going to start our claibration process.\n",
        "\n",
        "we are going to start with  $\\varphi^{H93}_0$  which stands for characteristic function of Heston (1993). Thus, our first task in calibrating the Bates (1996) model will be to calibrate Heston (1993) model to observed market data. we have done something similar in step 1 a. So we are going to do the same thing again but with days to maturity of 60 days."
      ]
    },
    {
      "cell_type": "markdown",
      "metadata": {
        "id": "LA9U-Rj5VwKI"
      },
      "source": [
        "Now, we will introduce the same error function again that will evaluate the error the model makes with respect to observed data given certain parameters. As usual, we will rely on a mean squared error (MSE) function. We will also define some initial values for the calibration parameters:"
      ]
    },
    {
      "cell_type": "code",
      "execution_count": 57,
      "metadata": {
        "id": "c5kJveMUstEQ"
      },
      "outputs": [],
      "source": [
        "i = 0\n",
        "min_MSE = 500\n",
        "min_MSE2 = 500"
      ]
    },
    {
      "cell_type": "code",
      "execution_count": 58,
      "metadata": {
        "id": "qGlUFncrstEQ"
      },
      "outputs": [],
      "source": [
        "def H93_error_function(p0):\n",
        "    \"\"\"Error function for parameter calibration via\n",
        "    Lewis (2001) Fourier approach for Heston (1993).\n",
        "    Parameters\n",
        "    ==========\n",
        "    kappa_v: float\n",
        "        mean-reversion factor\n",
        "    theta_v: float\n",
        "        long-run mean of variance\n",
        "    sigma_v: float\n",
        "        volatility of variance\n",
        "    rho: float\n",
        "        correlation between variance and stock/index level\n",
        "    v0: float\n",
        "        initial, instantaneous variance\n",
        "    Returns\n",
        "    =======\n",
        "    MSE: float\n",
        "        mean squared error\n",
        "    \"\"\"\n",
        "    global i, min_MSE, min_MSE2\n",
        "    kappa_v, theta_v, sigma_v, rho, v0 = p0\n",
        "    if kappa_v < 0.0 or theta_v < 0.005 or sigma_v < 0.0 or rho < -1.0 or rho > 1.0:\n",
        "        return 500.0\n",
        "    if 2 * kappa_v * theta_v < sigma_v**2:\n",
        "        return 500.0\n",
        "    se = []\n",
        "    se2 = []\n",
        "\n",
        "    for row, option in options.iterrows():\n",
        "      if option[\"Type\"] == \"C\":\n",
        "            model_value = H93_call_value(\n",
        "                S0,\n",
        "                option[\"Strike\"],\n",
        "                option[\"T\"],\n",
        "                option[\"r\"],\n",
        "                kappa_v,\n",
        "                theta_v,\n",
        "                sigma_v,\n",
        "                rho,\n",
        "                v0,\n",
        "            )\n",
        "            se.append((model_value - option[\"Price\"]) ** 2)\n",
        "\n",
        "      if option[\"Type\"] == \"P\":\n",
        "            model_value = H93_call_value(\n",
        "                S0,\n",
        "                option[\"Strike\"],\n",
        "                option[\"T\"],\n",
        "                option[\"r\"],\n",
        "                kappa_v,\n",
        "                theta_v,\n",
        "                sigma_v,\n",
        "                rho,\n",
        "                v0,\n",
        "            )\n",
        "            se2.append((model_value - option[\"Price\"]) ** 2)\n",
        "\n",
        "    MSE = sum(se) / len(se)\n",
        "    MSE2 = sum(se2) / len(se2)\n",
        "\n",
        "    min_MSE = min(min_MSE, MSE)\n",
        "    min_MSE2 = min(min_MSE2, MSE2)\n",
        "\n",
        "    if i % 100 == 0:\n",
        "        print(\"%4d |\" % i, np.array(p0), \"| Call MSE: %7.3f | Min Call MSE: %7.3f\" % (MSE, min_MSE))\n",
        "        print(\"%4d |\" % i, np.array(p0), \"| Put MSE: %7.3f | Min Put MSE: %7.3f\" % (MSE2, min_MSE2))\n",
        "\n",
        "    i += 1\n",
        "\n",
        "    return MSE + MSE2"
      ]
    },
    {
      "cell_type": "markdown",
      "metadata": {
        "id": "_H6ZWxkBV-sj"
      },
      "source": [
        "Again, we are going to use the same function that performs the optimization process. In other words, it optimizes the model parameters so as to minimize the error function with respect to market data.\n",
        "\n",
        "we will use the same steps that is to use brute function of Scipy , that allows the calibration to focus on most sensible ranges. Once ranges are declared, we can dig deeper into the specific regions and get the actual parameters more accurately with the fmin function.\n",
        "\n"
      ]
    },
    {
      "cell_type": "code",
      "execution_count": 59,
      "metadata": {
        "id": "ge4BfCUfstER"
      },
      "outputs": [],
      "source": [
        "def H93_calibration_full():\n",
        "    \"\"\"Calibrates Heston (1993) stochastic volatility model to market quotes.\"\"\"\n",
        "    # First run with brute force\n",
        "    # (scan sensible regions, for faster convergence)\n",
        "    p0 = brute(\n",
        "        H93_error_function,\n",
        "        (\n",
        "            (2.5, 10.6, 5.0),  # kappa_v\n",
        "            (0.01, 0.041, 0.01),  # theta_v\n",
        "            (0.05, 0.251, 0.1),  # sigma_v\n",
        "            (-0.75, 0.01, 0.25),  # rho\n",
        "            (0.01, 0.031, 0.01),\n",
        "        ),  # v0\n",
        "        finish=None,\n",
        "    )\n",
        "\n",
        "    # Second run with local, convex minimization\n",
        "    # (we dig deeper where promising results)\n",
        "    opt = fmin(\n",
        "        H93_error_function, p0, xtol=0.000001, ftol=0.000001, maxiter=750, maxfun=900\n",
        "    )\n",
        "    return opt"
      ]
    },
    {
      "cell_type": "markdown",
      "metadata": {
        "id": "eCaLwbVmWrIo"
      },
      "source": [
        "Now, let's see the performance of our calibration algorithm. For that, we just need to call our H93_calibration_full() function. This will give us each of the different outputs from calibration, including the values given to the different parameters in the model."
      ]
    },
    {
      "cell_type": "code",
      "execution_count": 60,
      "metadata": {
        "colab": {
          "base_uri": "https://localhost:8080/"
        },
        "id": "B8oMXhpbstER",
        "outputId": "e4a4ccbb-70f4-4669-a10b-f1efd3c347f5"
      },
      "outputs": [
        {
          "name": "stdout",
          "output_type": "stream",
          "text": [
            "   0 | [ 2.5   0.01  0.05 -0.75  0.01] | Call MSE: 124.804 | Min Call MSE: 124.804\n",
            "   0 | [ 2.5   0.01  0.05 -0.75  0.01] | Put MSE:  76.656 | Min Put MSE:  76.656\n",
            " 100 | [ 2.5   0.04  0.05 -0.5   0.02] | Call MSE:  74.670 | Min Call MSE:  58.694\n",
            " 100 | [ 2.5   0.04  0.05 -0.5   0.02] | Put MSE:  41.844 | Min Put MSE:  31.966\n",
            " 200 | [ 7.5   0.02  0.25 -0.25  0.03] | Call MSE:  76.370 | Min Call MSE:  58.668\n",
            " 200 | [ 7.5   0.02  0.25 -0.25  0.03] | Put MSE:  43.060 | Min Put MSE:  31.791\n",
            " 300 | [ 9.21694329e+00  6.78192087e-02  3.91683465e-02 -1.65139018e-03\n",
            "  3.44282888e-02] | Call MSE:  28.307 | Min Call MSE:  28.307\n",
            " 300 | [ 9.21694329e+00  6.78192087e-02  3.91683465e-02 -1.65139018e-03\n",
            "  3.44282888e-02] | Put MSE:  16.008 | Min Put MSE:  16.008\n",
            " 400 | [ 1.30048138e+01  1.23311948e-01  7.54349574e-03 -4.73537003e-03\n",
            "  4.38142629e-02] | Call MSE:   3.629 | Min Call MSE:   1.621\n",
            " 400 | [ 1.30048138e+01  1.23311948e-01  7.54349574e-03 -4.73537003e-03\n",
            "  4.38142629e-02] | Put MSE:  13.857 | Min Put MSE:  11.487\n",
            " 500 | [ 1.30419803e+01  1.22502666e-01  3.79203794e-05 -3.83022435e-03\n",
            "  4.53929091e-02] | Call MSE:   3.633 | Min Call MSE:   1.621\n",
            " 500 | [ 1.30419803e+01  1.22502666e-01  3.79203794e-05 -3.83022435e-03\n",
            "  4.53929091e-02] | Put MSE:  13.852 | Min Put MSE:  11.487\n",
            " 600 | [ 1.30421000e+01  1.22500578e-01  1.33244387e-05 -3.82725860e-03\n",
            "  4.53972770e-02] | Call MSE:   3.634 | Min Call MSE:   1.621\n",
            " 600 | [ 1.30421000e+01  1.22500578e-01  1.33244387e-05 -3.82725860e-03\n",
            "  4.53972770e-02] | Put MSE:  13.852 | Min Put MSE:  11.487\n",
            " 700 | [ 1.30421001e+01  1.22500576e-01  1.33016351e-05 -3.82725595e-03\n",
            "  4.53972818e-02] | Call MSE:   3.633 | Min Call MSE:   1.621\n",
            " 700 | [ 1.30421001e+01  1.22500576e-01  1.33016351e-05 -3.82725595e-03\n",
            "  4.53972818e-02] | Put MSE:  13.853 | Min Put MSE:  11.487\n",
            " 800 | [ 1.30421001e+01  1.22500576e-01  1.33016663e-05 -3.82725595e-03\n",
            "  4.53972818e-02] | Call MSE:   3.633 | Min Call MSE:   1.621\n",
            " 800 | [ 1.30421001e+01  1.22500576e-01  1.33016663e-05 -3.82725595e-03\n",
            "  4.53972818e-02] | Put MSE:  13.852 | Min Put MSE:  11.487\n",
            "Optimization terminated successfully.\n",
            "         Current function value: 17.485370\n",
            "         Iterations: 272\n",
            "         Function evaluations: 633\n"
          ]
        }
      ],
      "source": [
        "Para = H93_calibration_full()"
      ]
    },
    {
      "cell_type": "code",
      "execution_count": 61,
      "metadata": {
        "colab": {
          "base_uri": "https://localhost:8080/"
        },
        "id": "EMbj0JXmstES",
        "outputId": "4257921d-d401-4455-ea23-b7f6fcc32502"
      },
      "outputs": [
        {
          "data": {
            "text/plain": [
              "array([ 1.30421001e+01,  1.22500576e-01,  1.33016664e-05, -3.82725595e-03,\n",
              "        4.53972818e-02])"
            ]
          },
          "execution_count": 61,
          "metadata": {},
          "output_type": "execute_result"
        }
      ],
      "source": [
        "Para"
      ]
    },
    {
      "cell_type": "markdown",
      "metadata": {
        "id": "9hs_rXZ4W_3Y"
      },
      "source": [
        "Now we have finally calibrated our parameters to market values.\n",
        "\n",
        "The results from this calibration give us the following values for the parameters in the Heston (1993) model:\n",
        "\n",
        "$\\kappa_\\nu = 13.042$\n",
        "\n",
        "$\\theta_\\nu = 0.122$\n",
        "\n",
        "$\\sigma_\\nu = 0.000$\n",
        "\n",
        "$\\rho = -0.003$\n",
        "\n",
        "$\\nu_0 = 0.045$\n",
        "\n",
        "The next step will be simply using these parameters to use in the final Bates model calibration."
      ]
    },
    {
      "cell_type": "markdown",
      "metadata": {
        "id": "ddHzRmCEt3Ju"
      },
      "source": [
        "### Calibrate jump component in Bates (1996)\n",
        "\n",
        "Now we will move to claibrating the Merton model Jump diffusion component, we will gain start with an error function which will be looking at differences between market and model prices for the complete Bates (1996) model:"
      ]
    },
    {
      "cell_type": "markdown",
      "metadata": {
        "id": "kVAcw9eshTy_"
      },
      "source": [
        "We are also going to use the same carr-madan (1999) pricing function of call and put options via bates (1996) model."
      ]
    },
    {
      "cell_type": "code",
      "execution_count": 62,
      "metadata": {
        "id": "MfKaKJQEstET"
      },
      "outputs": [],
      "source": [
        "i = 0\n",
        "min_MSE = 5000.0\n",
        "min_MSE2 = 5000.0\n",
        "local_opt = False"
      ]
    },
    {
      "cell_type": "code",
      "execution_count": 63,
      "metadata": {
        "id": "pqetaIg1srd1"
      },
      "outputs": [],
      "source": [
        "def B96_error_function(p0):\n",
        "    \"\"\"\n",
        "    Error function for Bates (1996) model\n",
        "\n",
        "    Parameters:\n",
        "    -------------\n",
        "    lamb: float\n",
        "        jump intensity\n",
        "    mu: float\n",
        "        expected jump size\n",
        "    delta: float\n",
        "        standard deviation of jump\n",
        "    Returns\n",
        "    -------------\n",
        "    MSE: float\n",
        "        mean squared error\n",
        "    \"\"\"\n",
        "\n",
        "    global i, min_MSE, local_opt, opt1, min_MSE2\n",
        "    lamb, mu, delta = p0\n",
        "    if lamb < 0.0 or mu < -0.6 or mu > 0.0 or delta < 0.0:\n",
        "        return 5000.0\n",
        "    se = []\n",
        "    se2 = []\n",
        "    for row, option in options.iterrows():\n",
        "      if option[\"Type\"] == \"C\":\n",
        "        model_value = B96_call_FFT(\n",
        "            S0,\n",
        "            option[\"Strike\"],\n",
        "            option[\"T\"],\n",
        "            option[\"r\"],\n",
        "            kappa_v,\n",
        "            theta_v,\n",
        "            sigma_v,\n",
        "            rho,\n",
        "            v0,\n",
        "            lamb,\n",
        "            mu,\n",
        "            delta,\n",
        "        )\n",
        "        se.append((model_value - option[\"Price\"]) ** 2)\n",
        "\n",
        "      if option[\"Type\"] == \"P\":\n",
        "        model_value = B96_put_FFT(\n",
        "            S0,\n",
        "            option[\"Strike\"],\n",
        "            option[\"T\"],\n",
        "            option[\"r\"],\n",
        "            kappa_v,\n",
        "            theta_v,\n",
        "            sigma_v,\n",
        "            rho,\n",
        "            v0,\n",
        "            lamb,\n",
        "            mu,\n",
        "            delta,\n",
        "        )\n",
        "        se2.append((model_value - option[\"Price\"]) ** 2)\n",
        "\n",
        "\n",
        "    MSE = sum(se) / len(se)\n",
        "    MSE2 = sum(se2) / len(se2)\n",
        "\n",
        "    min_MSE = min(min_MSE, MSE)\n",
        "    min_MSE2 = min(min_MSE2, MSE2)\n",
        "\n",
        "    if i % 25 == 0:\n",
        "        print(\"%4d |\" % i, np.array(p0), \"| %7.3f | %7.3f\" % (MSE, min_MSE))\n",
        "        print(\"%4d |\" % i, np.array(p0), \"| Put MSE: %7.3f | Min Put MSE: %7.3f\" % (MSE2, min_MSE2))\n",
        "    i += 1\n",
        "    if local_opt:\n",
        "        penalty = np.sqrt(np.sum((p0 - opt1) ** 2)) * 1\n",
        "        return MSE + MSE2 + penalty\n",
        "    return MSE + MSE2"
      ]
    },
    {
      "cell_type": "markdown",
      "metadata": {
        "id": "X9-zErsShpJ2"
      },
      "source": [
        "Finally, we can create our functions to calibrate the jump component of the model:"
      ]
    },
    {
      "cell_type": "code",
      "execution_count": 64,
      "metadata": {
        "id": "xTOqTCWewjNN"
      },
      "outputs": [],
      "source": [
        "def B96_calibration_short():\n",
        "    \"\"\"\n",
        "    Calibrates jump component of Bates (1996) model to market prices\n",
        "    \"\"\"\n",
        "    # First, we run with brute force\n",
        "    # (scan sensible regions)\n",
        "    opt1 = 0.0\n",
        "    opt1 = brute(\n",
        "        B96_error_function,\n",
        "        (\n",
        "            (0.0, 0.51, 0.1),  # lambda\n",
        "            (-0.5, -0.11, 0.1),  # mu\n",
        "            (0.0, 0.51, 0.25),\n",
        "        ),  # delta\n",
        "        finish=None,\n",
        "    )\n",
        "\n",
        "    # Second, we run with local, convex minimization\n",
        "    # (dig deeper where promising)\n",
        "    opt2 = fmin(\n",
        "        B96_error_function,\n",
        "        opt1,\n",
        "        xtol=0.0000001,\n",
        "        ftol=0.0000001,\n",
        "        maxiter=550,\n",
        "        maxfun=750,\n",
        "    )\n",
        "    return opt2"
      ]
    },
    {
      "cell_type": "markdown",
      "metadata": {
        "id": "l42KE8qWhuHi"
      },
      "source": [
        "Let's execute this optimization to see the values for the jump component calibration:"
      ]
    },
    {
      "cell_type": "code",
      "execution_count": 65,
      "metadata": {
        "colab": {
          "base_uri": "https://localhost:8080/"
        },
        "id": "1k8N2t5cwwNk",
        "outputId": "17d3080c-54bd-421a-90e2-322b755dc986"
      },
      "outputs": [
        {
          "name": "stdout",
          "output_type": "stream",
          "text": [
            "   0 | [ 0.  -0.5  0. ] | 118.817 | 118.817\n",
            "   0 | [ 0.  -0.5  0. ] | Put MSE:  80.178 | Min Put MSE:  80.178\n",
            "  25 | [ 0.2  -0.5   0.25] |  76.476 |  74.718\n",
            "  25 | [ 0.2  -0.5   0.25] | Put MSE:  45.342 | Min Put MSE:  43.942\n",
            "  50 | [ 0.4 -0.5  0.5] |  37.352 |  37.352\n",
            "  50 | [ 0.4 -0.5  0.5] | Put MSE:  16.068 | Min Put MSE:  16.009\n",
            "  75 | [ 5.0e-01 -5.0e-01  2.5e-04] |  23.283 |  20.320\n",
            "  75 | [ 5.0e-01 -5.0e-01  2.5e-04] | Put MSE:   6.974 | Min Put MSE:   5.315\n",
            " 100 | [ 6.74086934e-01 -5.48315329e-01  3.38348765e-04] |   5.414 |   4.504\n",
            " 100 | [ 6.74086934e-01 -5.48315329e-01  3.38348765e-04] | Put MSE:   1.586 | Min Put MSE:   0.747\n",
            " 125 | [ 9.84562212e-01 -3.72007279e-01  9.13590567e-04] |   5.165 |   4.504\n",
            " 125 | [ 9.84562212e-01 -3.72007279e-01  9.13590567e-04] | Put MSE:   1.045 | Min Put MSE:   0.747\n",
            " 150 | [ 1.33153797 -0.2860966   0.0029084 ] |   4.989 |   3.662\n",
            " 150 | [ 1.33153797 -0.2860966   0.0029084 ] | Put MSE:   0.606 | Min Put MSE:   0.538\n",
            " 175 | [ 1.72652362 -0.24081717  0.00586289] |   4.157 |   3.400\n",
            " 175 | [ 1.72652362 -0.24081717  0.00586289] | Put MSE:   0.557 | Min Put MSE:   0.267\n",
            " 200 | [ 2.27027385 -0.20835912  0.01027744] |   3.149 |   2.548\n",
            " 200 | [ 2.27027385 -0.20835912  0.01027744] | Put MSE:   0.707 | Min Put MSE:   0.124\n",
            " 225 | [ 3.63698768 -0.16584296  0.02180189] |   2.744 |   2.268\n",
            " 225 | [ 3.63698768 -0.16584296  0.02180189] | Put MSE:   0.676 | Min Put MSE:   0.124\n",
            " 250 | [ 3.41731586 -0.17283139  0.01994855] |   2.459 |   2.192\n",
            " 250 | [ 3.41731586 -0.17283139  0.01994855] | Put MSE:   0.913 | Min Put MSE:   0.124\n",
            " 275 | [ 3.40301173 -0.17320923  0.01982558] |   2.455 |   2.192\n",
            " 275 | [ 3.40301173 -0.17320923  0.01982558] | Put MSE:   0.918 | Min Put MSE:   0.124\n",
            " 300 | [ 3.40766193 -0.17313469  0.01984831] |   2.450 |   2.192\n",
            " 300 | [ 3.40766193 -0.17313469  0.01984831] | Put MSE:   0.923 | Min Put MSE:   0.124\n",
            " 325 | [ 3.4174182  -0.17291214  0.01989123] |   2.448 |   2.192\n",
            " 325 | [ 3.4174182  -0.17291214  0.01989123] | Put MSE:   0.924 | Min Put MSE:   0.124\n",
            " 350 | [ 3.48687828 -0.17131732  0.01918362] |   2.453 |   2.192\n",
            " 350 | [ 3.48687828 -0.17131732  0.01918362] | Put MSE:   0.915 | Min Put MSE:   0.124\n",
            " 375 | [ 3.46414503 -0.1731487   0.00450145] |   2.362 |   2.192\n",
            " 375 | [ 3.46414503 -0.1731487   0.00450145] | Put MSE:   0.969 | Min Put MSE:   0.124\n",
            " 400 | [ 3.44378862e+00 -1.73316320e-01  2.35098930e-04] |   2.407 |   2.192\n",
            " 400 | [ 3.44378862e+00 -1.73316320e-01  2.35098930e-04] | Put MSE:   0.920 | Min Put MSE:   0.124\n",
            " 425 | [ 3.44556711e+00 -1.73266520e-01  1.82637892e-05] |   2.408 |   2.192\n",
            " 425 | [ 3.44556711e+00 -1.73266520e-01  1.82637892e-05] | Put MSE:   0.919 | Min Put MSE:   0.124\n",
            " 450 | [ 3.44559228e+00 -1.73266029e-01  2.88967506e-06] |   2.408 |   2.192\n",
            " 450 | [ 3.44559228e+00 -1.73266029e-01  2.88967506e-06] | Put MSE:   0.919 | Min Put MSE:   0.124\n",
            " 475 | [ 3.44570125e+00 -1.73263672e-01  5.66754679e-07] |   2.408 |   2.192\n",
            " 475 | [ 3.44570125e+00 -1.73263672e-01  5.66754679e-07] | Put MSE:   0.919 | Min Put MSE:   0.124\n",
            " 500 | [ 3.44569763e+00 -1.73263730e-01  5.49756311e-08] |   2.408 |   2.192\n",
            " 500 | [ 3.44569763e+00 -1.73263730e-01  5.49756311e-08] | Put MSE:   0.919 | Min Put MSE:   0.124\n",
            " 525 | [ 3.44569826e+00 -1.73263718e-01  1.73797881e-09] |   2.408 |   2.192\n",
            " 525 | [ 3.44569826e+00 -1.73263718e-01  1.73797881e-09] | Put MSE:   0.919 | Min Put MSE:   0.124\n",
            "Optimization terminated successfully.\n",
            "         Current function value: 3.326698\n",
            "         Iterations: 283\n",
            "         Function evaluations: 508\n"
          ]
        }
      ],
      "source": [
        "params = B96_calibration_short()"
      ]
    },
    {
      "cell_type": "code",
      "execution_count": 66,
      "metadata": {
        "colab": {
          "base_uri": "https://localhost:8080/"
        },
        "id": "yIq9jzh_wyad",
        "outputId": "15bad078-f8ab-4778-a7cd-8050dd704551"
      },
      "outputs": [
        {
          "data": {
            "text/plain": [
              "array([ 3.44569822e+00, -1.73263719e-01,  1.20222545e-09])"
            ]
          },
          "execution_count": 66,
          "metadata": {},
          "output_type": "execute_result"
        }
      ],
      "source": [
        "params"
      ]
    },
    {
      "cell_type": "markdown",
      "metadata": {
        "id": "KDTsdyEzhwZx"
      },
      "source": [
        "After Calibrating we got the following jump components yields:\n",
        "\n",
        "λ = 3.445\n",
        "\n",
        "μ = -0.173\n",
        "\n",
        "δ = 0.000\n",
        "\n"
      ]
    },
    {
      "cell_type": "markdown",
      "metadata": {
        "id": "vff11pA4ibNl"
      },
      "source": [
        "### Model vs Market prices after jump claibration\n",
        "\n",
        "Now we will check the performance of our jump calibrated model.\n",
        "\n",
        "we will create a function that yields the model values under the different parameters obtained in the calibration process:"
      ]
    },
    {
      "cell_type": "code",
      "execution_count": 67,
      "metadata": {
        "id": "xkJdjr6qw7Gk"
      },
      "outputs": [],
      "source": [
        "def B96_jump_calculate_model_values(p0):\n",
        "    \"\"\"Calculates all model values given parameter vector p0.\"\"\"\n",
        "    lamb, mu, delta = p0\n",
        "    values = []\n",
        "    for row, option in options.iterrows():\n",
        "      if option[\"Type\"] == \"C\":\n",
        "        model_value = B96_call_FFT(\n",
        "            S0,\n",
        "            option[\"Strike\"],\n",
        "            T,\n",
        "            r,\n",
        "            kappa_v,\n",
        "            theta_v,\n",
        "            sigma_v,\n",
        "            rho,\n",
        "            v0,\n",
        "            lamb,\n",
        "            mu,\n",
        "            delta,\n",
        "        )\n",
        "        values.append(model_value)\n",
        "    return np.array(values)"
      ]
    },
    {
      "cell_type": "markdown",
      "metadata": {
        "id": "HifuuLgriz8D"
      },
      "source": [
        "Here we will plot our results"
      ]
    },
    {
      "cell_type": "code",
      "execution_count": 68,
      "metadata": {
        "id": "Icoh9Qanxs8t"
      },
      "outputs": [],
      "source": [
        "def plot_calibration_results(p0):\n",
        "\n",
        "    options_t = options[(options[\"Type\"] == 'C')]\n",
        "    options_t[\"Model\"] = B96_jump_calculate_model_values(p0)\n",
        "    plt.figure(figsize=(8, 6))\n",
        "    plt.subplot(211)\n",
        "    plt.grid()\n",
        "    plt.title(\"Maturity 60 days\")\n",
        "    plt.ylabel(\"option values\")\n",
        "    plt.plot(options_t.Strike, options_t.Price, \"b\", label=\"market\")\n",
        "    plt.plot(options_t.Strike, options_t.Model, \"ro\", label=\"model\")\n",
        "    plt.legend(loc=0)\n",
        "    plt.axis(\n",
        "        [\n",
        "            min(options_t.Strike) - 5,\n",
        "            max(options_t.Strike) + 5,\n",
        "            min(options_t.Price) - 5,\n",
        "            max(options_t.Price) + 5,\n",
        "        ]\n",
        "    )\n",
        "\n",
        "    plt.subplot(212)\n",
        "    plt.grid()\n",
        "    wi = 1.0\n",
        "    diffs = options_t.Model.values - options_t.Price.values\n",
        "    plt.bar(options_t.Strike.values - wi / 2, diffs, width=wi)\n",
        "    plt.ylabel(\"difference\")\n",
        "    plt.axis(\n",
        "        [\n",
        "            min(options_t.Strike) - 5,\n",
        "            max(options_t.Strike) + 5,\n",
        "            min(diffs) * 1.1,\n",
        "            max(diffs) * 1.1,\n",
        "        ]\n",
        "    )\n",
        "    plt.tight_layout()"
      ]
    },
    {
      "cell_type": "code",
      "execution_count": 69,
      "metadata": {
        "colab": {
          "base_uri": "https://localhost:8080/",
          "height": 607
        },
        "id": "ScYcB3bzx9wf",
        "outputId": "4ac46b84-fa2a-4144-addb-662e8c93eafd"
      },
      "outputs": [
        {
          "data": {
            "image/png": "[encoded data removed]",
            "text/plain": [
              "<Figure size 800x600 with 2 Axes>"
            ]
          },
          "metadata": {},
          "output_type": "display_data"
        }
      ],
      "source": [
        "plot_calibration_results(params)"
      ]
    },
    {
      "cell_type": "markdown",
      "metadata": {
        "id": "tZv5Hm4D38eR"
      },
      "source": [
        "### Full Bates (1996) model calibration\n",
        "\n",
        "Now we are here in our Final step i.e Full calibration of Bates (1996) model.\n",
        "\n",
        "As we have already got out calibrated parameters from both the components which is from the stochastic volatility model ($\\kappa_\\nu$, $\\theta_\\nu$, $\\sigma_\\nu$, $\\rho$, $\\nu_0$), but also those from the jump component ($λ$, $\\mu$, $\\delta$).\n",
        "\n",
        "Hence, our $p_0$ is defined as:"
      ]
    },
    {
      "cell_type": "code",
      "execution_count": 70,
      "metadata": {
        "colab": {
          "base_uri": "https://localhost:8080/"
        },
        "id": "ngDLQx2C21Rr",
        "outputId": "26cbe21d-5c31-4040-b473-8f45f97f5a81"
      },
      "outputs": [
        {
          "data": {
            "text/plain": [
              "[13.04, 0.12, 0.0, -0.003, 0.045, 3.44, -0.17, 0.0]"
            ]
          },
          "execution_count": 70,
          "metadata": {},
          "output_type": "execute_result"
        }
      ],
      "source": [
        "kappa_v = 13.04\n",
        "theta_v = 0.12\n",
        "sigma_v = 0.\n",
        "rho = -0.003\n",
        "v0 = 0.045\n",
        "lamb = 3.44\n",
        "mu = -0.17\n",
        "delta = 0.\n",
        "\n",
        "p0 = [kappa_v, theta_v, sigma_v, rho, v0, lamb, mu, delta]\n",
        "p0"
      ]
    },
    {
      "cell_type": "markdown",
      "metadata": {
        "id": "6MOWRb4cjR6q"
      },
      "source": [
        "Now, we built up a B96_full_error_function that essentially takes these inputs and calculate the error function. Here we do not impose any penalties on the error function, as it solved an inherent problem of the jump diffusion model that should be already solved by using the initial inputs from the jump component calibration.\n",
        "\n",
        "Now. Let's define our error function:"
      ]
    },
    {
      "cell_type": "code",
      "execution_count": 71,
      "metadata": {
        "id": "Zwl3vcihBVMv"
      },
      "outputs": [],
      "source": [
        "i = 0\n",
        "min_MSE = 5000.0\n",
        "min_MSE2 = 5000.0\n",
        "\n",
        "\n",
        "def B96_full_error_function(p0):\n",
        "    global i, min_MSE, min_MSE2\n",
        "    kappa_v, theta_v, sigma_v, rho, v0, lamb, mu, delta = p0\n",
        "\n",
        "    if (\n",
        "        kappa_v < 0.0\n",
        "        or theta_v < 0.005\n",
        "        or sigma_v < 0.0\n",
        "        or rho < -1.0\n",
        "        or rho > 1.0\n",
        "        or v0 < 0.0\n",
        "        or lamb < 0.0\n",
        "        or mu < -0.6\n",
        "        or mu > 0.0\n",
        "        or delta < 0.0\n",
        "    ):\n",
        "        return 5000.0\n",
        "\n",
        "    if 2 * kappa_v * theta_v < sigma_v**2:\n",
        "        return 5000.0\n",
        "\n",
        "    se = []\n",
        "    se2 = []\n",
        "    for row, option in options.iterrows():\n",
        "        if option[\"Type\"] == \"C\":\n",
        "          model_value = B96_call_FFT(\n",
        "              S0,\n",
        "              option[\"Strike\"],\n",
        "              option[\"T\"],\n",
        "              option[\"r\"],\n",
        "              kappa_v,\n",
        "              theta_v,\n",
        "              sigma_v,\n",
        "              rho,\n",
        "              v0,\n",
        "              lamb,\n",
        "              mu,\n",
        "              delta,\n",
        "        )\n",
        "        se.append((model_value - option[\"Price\"]) ** 2)\n",
        "\n",
        "        if option[\"Type\"] == \"P\":\n",
        "          model_value = B96_put_FFT(\n",
        "              S0,\n",
        "              option[\"Strike\"],\n",
        "              option[\"T\"],\n",
        "              option[\"r\"],\n",
        "              kappa_v,\n",
        "              theta_v,\n",
        "              sigma_v,\n",
        "              rho,\n",
        "              v0,\n",
        "              lamb,\n",
        "              mu,\n",
        "              delta,\n",
        "          )\n",
        "        se2.append((model_value - option[\"Price\"]) ** 2)\n",
        "\n",
        "\n",
        "    MSE = sum(se) / len(se)\n",
        "    MSE2 = sum(se2) / len(se2)\n",
        "\n",
        "    min_MSE = min(min_MSE, MSE)\n",
        "    min_MSE2 = min(min_MSE2, MSE2)\n",
        "\n",
        "    if i % 25 == 0:\n",
        "        print(\"%4d |\" % i, np.array(p0), \"| %7.3f | %7.3f\" % (MSE, min_MSE))\n",
        "        print(\"%4d |\" % i, np.array(p0), \"| Put MSE: %7.3f | Min Put MSE: %7.3f\" % (MSE2, min_MSE2))\n",
        "    i += 1\n",
        "    return MSE + MSE2"
      ]
    },
    {
      "cell_type": "markdown",
      "metadata": {
        "id": "PRff06Vwjqb4"
      },
      "source": [
        "Next, the classic calibration we have done before for other models:"
      ]
    },
    {
      "cell_type": "code",
      "execution_count": 72,
      "metadata": {
        "id": "OA00kP96CRiZ"
      },
      "outputs": [],
      "source": [
        "def B96_calibration_full():\n",
        "    opt = fmin(\n",
        "        B96_full_error_function, p0, xtol=0.001, ftol=0.001, maxiter=1250, maxfun=650\n",
        "    )\n",
        "    return opt"
      ]
    },
    {
      "cell_type": "markdown",
      "metadata": {
        "id": "72fxTgRDjxVR"
      },
      "source": [
        "Now, we can see what are the different parameter values yielded by this calibration:"
      ]
    },
    {
      "cell_type": "code",
      "execution_count": 73,
      "metadata": {
        "colab": {
          "base_uri": "https://localhost:8080/"
        },
        "id": "sUFgfUtJCl_U",
        "outputId": "af8d0d37-d836-454c-ad4f-649932e41ef2"
      },
      "outputs": [
        {
          "name": "stdout",
          "output_type": "stream",
          "text": [
            "   0 | [ 1.304e+01  1.200e-01  0.000e+00 -3.000e-03  4.500e-02  3.440e+00\n",
            " -1.700e-01  0.000e+00] |     nan | 5000.000\n",
            "   0 | [ 1.304e+01  1.200e-01  0.000e+00 -3.000e-03  4.500e-02  3.440e+00\n",
            " -1.700e-01  0.000e+00] | Put MSE:     nan | Min Put MSE: 5000.000\n"
          ]
        },
        {
          "name": "stdout",
          "output_type": "stream",
          "text": [
            "  25 | [ 1.30871445e+01  1.19873543e-01  2.36460686e-04 -2.97312641e-03\n",
            "  4.53307829e-02  3.41629738e+00 -1.64487762e-01  9.38825607e-05] |  17.460 |  17.243\n",
            "  25 | [ 1.30871445e+01  1.19873543e-01  2.36460686e-04 -2.97312641e-03\n",
            "  4.53307829e-02  3.41629738e+00 -1.64487762e-01  9.38825607e-05] | Put MSE:  20.697 | Min Put MSE:  20.458\n",
            "  50 | [ 1.33610911e+01  1.11146941e-01  8.49947601e-04 -3.18754744e-03\n",
            "  4.96817380e-02  3.56346847e+00 -8.54112313e-02  1.13286434e-03] |   1.561 |   1.561\n",
            "  50 | [ 1.33610911e+01  1.11146941e-01  8.49947601e-04 -3.18754744e-03\n",
            "  4.96817380e-02  3.56346847e+00 -8.54112313e-02  1.13286434e-03] | Put MSE:   2.002 | Min Put MSE:   2.002\n",
            "  75 | [ 1.35441466e+01  1.13066289e-01  1.16562962e-03 -3.23471914e-03\n",
            "  5.17015662e-02  3.54646416e+00 -5.57712532e-02  1.42398534e-03] |   1.723 |   1.473\n",
            "  75 | [ 1.35441466e+01  1.13066289e-01  1.16562962e-03 -3.23471914e-03\n",
            "  5.17015662e-02  3.54646416e+00 -5.57712532e-02  1.42398534e-03] | Put MSE:   1.562 | Min Put MSE:   1.549\n",
            " 100 | [ 1.36909693e+01  1.12041396e-01  1.01044833e-03 -3.19216134e-03\n",
            "  5.03072155e-02  3.56608998e+00 -7.00473920e-02  1.22351937e-03] |   1.495 |   1.473\n",
            " 100 | [ 1.36909693e+01  1.12041396e-01  1.01044833e-03 -3.19216134e-03\n",
            "  5.03072155e-02  3.56608998e+00 -7.00473920e-02  1.22351937e-03] | Put MSE:   1.600 | Min Put MSE:   1.548\n",
            " 125 | [ 1.36960642e+01  1.12323688e-01  1.03601065e-03 -3.18453398e-03\n",
            "  5.04045402e-02  3.56042190e+00 -6.95331747e-02  1.22595162e-03] |   1.496 |   1.473\n",
            " 125 | [ 1.36960642e+01  1.12323688e-01  1.03601065e-03 -3.18453398e-03\n",
            "  5.04045402e-02  3.56042190e+00 -6.95331747e-02  1.22595162e-03] | Put MSE:   1.599 | Min Put MSE:   1.548\n",
            " 150 | [ 1.37070278e+01  1.12330847e-01  1.04015125e-03 -3.19324723e-03\n",
            "  5.04374857e-02  3.55739483e+00 -6.87348618e-02  1.23634248e-03] |   1.504 |   1.473\n",
            " 150 | [ 1.37070278e+01  1.12330847e-01  1.04015125e-03 -3.19324723e-03\n",
            "  5.04374857e-02  3.55739483e+00 -6.87348618e-02  1.23634248e-03] | Put MSE:   1.588 | Min Put MSE:   1.548\n",
            " 175 | [ 1.37205708e+01  1.12729014e-01  1.04588439e-03 -3.19038228e-03\n",
            "  5.04297491e-02  3.55784845e+00 -6.78235069e-02  1.23587254e-03] |   1.507 |   1.473\n",
            " 175 | [ 1.37205708e+01  1.12729014e-01  1.04588439e-03 -3.19038228e-03\n",
            "  5.04297491e-02  3.55784845e+00 -6.78235069e-02  1.23587254e-03] | Put MSE:   1.585 | Min Put MSE:   1.548\n",
            " 200 | [ 1.39606875e+01  1.19715927e-01  1.13316213e-03 -3.17974392e-03\n",
            "  5.04975007e-02  3.48639275e+00 -5.62097078e-02  1.27136112e-03] |   1.500 |   1.473\n",
            " 200 | [ 1.39606875e+01  1.19715927e-01  1.13316213e-03 -3.17974392e-03\n",
            "  5.04975007e-02  3.48639275e+00 -5.62097078e-02  1.27136112e-03] | Put MSE:   1.586 | Min Put MSE:   1.548\n",
            " 225 | [ 1.41440410e+01  1.24492718e-01  1.19797456e-03 -3.16750577e-03\n",
            "  5.04913666e-02  3.44310080e+00 -4.67081704e-02  1.30606835e-03] |   1.492 |   1.473\n",
            " 225 | [ 1.41440410e+01  1.24492718e-01  1.19797456e-03 -3.16750577e-03\n",
            "  5.04913666e-02  3.44310080e+00 -4.67081704e-02  1.30606835e-03] | Put MSE:   1.592 | Min Put MSE:   1.548\n",
            " 250 | [ 1.43806061e+01  1.29104550e-01  1.29424875e-03 -3.16623436e-03\n",
            "  5.08206475e-02  3.38130532e+00 -3.35457674e-02  1.39653296e-03] |   1.489 |   1.473\n",
            " 250 | [ 1.43806061e+01  1.29104550e-01  1.29424875e-03 -3.16623436e-03\n",
            "  5.08206475e-02  3.38130532e+00 -3.35457674e-02  1.39653296e-03] | Put MSE:   1.594 | Min Put MSE:   1.548\n",
            " 275 | [ 1.43023571e+01  1.27555861e-01  1.27388525e-03 -3.16804013e-03\n",
            "  5.06707388e-02  3.39542227e+00 -3.57990282e-02  1.40168932e-03] |   1.505 |   1.473\n",
            " 275 | [ 1.43023571e+01  1.27555861e-01  1.27388525e-03 -3.16804013e-03\n",
            "  5.06707388e-02  3.39542227e+00 -3.57990282e-02  1.40168932e-03] | Put MSE:   1.573 | Min Put MSE:   1.548\n",
            " 300 | [ 1.44090503e+01  1.30287594e-01  1.35350065e-03 -3.16775682e-03\n",
            "  5.05367733e-02  3.34058095e+00 -2.60680749e-02  1.50867818e-03] |   1.504 |   1.473\n",
            " 300 | [ 1.44090503e+01  1.30287594e-01  1.35350065e-03 -3.16775682e-03\n",
            "  5.05367733e-02  3.34058095e+00 -2.60680749e-02  1.50867818e-03] | Put MSE:   1.574 | Min Put MSE:   1.548\n",
            " 325 | [ 1.44509757e+01  1.31542320e-01  1.41227910e-03 -3.17305701e-03\n",
            "  5.02802298e-02  3.29495767e+00 -1.94591395e-02  1.61006393e-03] |   1.507 |   1.473\n",
            " 325 | [ 1.44509757e+01  1.31542320e-01  1.41227910e-03 -3.17305701e-03\n",
            "  5.02802298e-02  3.29495767e+00 -1.94591395e-02  1.61006393e-03] | Put MSE:   1.570 | Min Put MSE:   1.548\n",
            " 350 | [ 1.44626731e+01  1.32050209e-01  1.43118962e-03 -3.16859794e-03\n",
            "  5.02249091e-02  3.28731575e+00 -1.71013792e-02  1.63571588e-03] |   1.504 |   1.473\n",
            " 350 | [ 1.44626731e+01  1.32050209e-01  1.43118962e-03 -3.16859794e-03\n",
            "  5.02249091e-02  3.28731575e+00 -1.71013792e-02  1.63571588e-03] | Put MSE:   1.572 | Min Put MSE:   1.548\n",
            " 375 | [ 1.44863266e+01  1.33064648e-01  1.48977000e-03 -3.17142595e-03\n",
            "  4.98868654e-02  3.24356437e+00 -1.08966044e-02  1.73881108e-03] |   1.502 |   1.473\n",
            " 375 | [ 1.44863266e+01  1.33064648e-01  1.48977000e-03 -3.17142595e-03\n",
            "  4.98868654e-02  3.24356437e+00 -1.08966044e-02  1.73881108e-03] | Put MSE:   1.575 | Min Put MSE:   1.548\n",
            " 400 | [ 1.44738980e+01  1.33408611e-01  1.52900096e-03 -3.17187175e-03\n",
            "  4.94502471e-02  3.21213481e+00 -7.12785959e-03  1.81936223e-03] |   1.505 |   1.473\n",
            " 400 | [ 1.44738980e+01  1.33408611e-01  1.52900096e-03 -3.17187175e-03\n",
            "  4.94502471e-02  3.21213481e+00 -7.12785959e-03  1.81936223e-03] | Put MSE:   1.572 | Min Put MSE:   1.548\n",
            " 425 | [ 1.44639850e+01  1.33852916e-01  1.56947678e-03 -3.16884407e-03\n",
            "  4.90044600e-02  3.18368197e+00 -2.71939116e-03  1.90246988e-03] |   1.504 |   1.473\n",
            " 425 | [ 1.44639850e+01  1.33852916e-01  1.56947678e-03 -3.16884407e-03\n",
            "  4.90044600e-02  3.18368197e+00 -2.71939116e-03  1.90246988e-03] | Put MSE:   1.573 | Min Put MSE:   1.548\n",
            " 450 | [ 1.44657353e+01  1.33778784e-01  1.56156425e-03 -3.16894232e-03\n",
            "  4.91038657e-02  3.19000885e+00 -3.63855724e-03  1.88423444e-03] |   1.504 |   1.473\n",
            " 450 | [ 1.44657353e+01  1.33778784e-01  1.56156425e-03 -3.16894232e-03\n",
            "  4.91038657e-02  3.19000885e+00 -3.63855724e-03  1.88423444e-03] | Put MSE:   1.573 | Min Put MSE:   1.548\n",
            " 475 | [ 1.44533712e+01  1.34017487e-01  1.59469506e-03 -3.16961817e-03\n",
            "  4.87187743e-02  3.16315192e+00 -3.62328330e-04  1.95548320e-03] |   1.504 |   1.473\n",
            " 475 | [ 1.44533712e+01  1.34017487e-01  1.59469506e-03 -3.16961817e-03\n",
            "  4.87187743e-02  3.16315192e+00 -3.62328330e-04  1.95548320e-03] | Put MSE:   1.573 | Min Put MSE:   1.548\n",
            " 500 | [ 1.44528995e+01  1.34018752e-01  1.59499145e-03 -3.16933016e-03\n",
            "  4.87156700e-02  3.16328915e+00 -3.44116332e-04  1.95560571e-03] |   1.504 |   1.473\n",
            " 500 | [ 1.44528995e+01  1.34018752e-01  1.59499145e-03 -3.16933016e-03\n",
            "  4.87156700e-02  3.16328915e+00 -3.44116332e-04  1.95560571e-03] | Put MSE:   1.573 | Min Put MSE:   1.548\n",
            " 525 | [ 1.44518911e+01  1.34033470e-01  1.59829788e-03 -3.16992499e-03\n",
            "  4.86828589e-02  3.16020031e+00 -7.88712906e-05  1.96244176e-03] |   1.504 |   1.473\n",
            " 525 | [ 1.44518911e+01  1.34033470e-01  1.59829788e-03 -3.16992499e-03\n",
            "  4.86828589e-02  3.16020031e+00 -7.88712906e-05  1.96244176e-03] | Put MSE:   1.573 | Min Put MSE:   1.548\n",
            "Optimization terminated successfully.\n",
            "         Current function value: 3.076602\n",
            "         Iterations: 352\n",
            "         Function evaluations: 563\n"
          ]
        }
      ],
      "source": [
        "full_params = B96_calibration_full()"
      ]
    },
    {
      "cell_type": "code",
      "execution_count": 74,
      "metadata": {
        "colab": {
          "base_uri": "https://localhost:8080/"
        },
        "id": "NMRvFJ3JCodk",
        "outputId": "9aeb8016-9177-4e19-8304-13e9763beba9"
      },
      "outputs": [
        {
          "data": {
            "text/plain": [
              "array([ 1.44520369e+01,  1.34036701e-01,  1.59918622e-03, -3.17038964e-03,\n",
              "        4.86758427e-02,  3.15907383e+00, -1.00196527e-05,  1.96451143e-03])"
            ]
          },
          "execution_count": 74,
          "metadata": {},
          "output_type": "execute_result"
        }
      ],
      "source": [
        "full_params"
      ]
    },
    {
      "cell_type": "markdown",
      "metadata": {
        "id": "a0Q5nam-j1wH"
      },
      "source": [
        "we got the complete calibrated parameters :\n",
        "\n",
        "- $\\kappa_\\nu = 14.452$\n",
        "- $\\theta_\\nu = 0.134$\n",
        "- $\\sigma_\\nu = 0.001$\n",
        "- $\\rho = -0.003$\n",
        "- $\\nu_0 = 0.048$\n",
        "- $\\lambda = 3.159$\n",
        "- $\\mu = -0.000$\n",
        "- $\\delta = 0.001$"
      ]
    },
    {
      "cell_type": "markdown",
      "metadata": {
        "id": "7fqjWNwCkRvn"
      },
      "source": [
        "Again we will see market vs model prices in full calibration and see the differences that our model produces using the parameters resulting from calibration, and compare those to observed market prices:"
      ]
    },
    {
      "cell_type": "code",
      "execution_count": 75,
      "metadata": {
        "id": "JjEF79IpHsCM"
      },
      "outputs": [],
      "source": [
        "def B96_calculate_model_values(p0):\n",
        "    kappa_v, theta_v, sigma_v, rho, v0, lamb, mu, delta = p0\n",
        "    values = []\n",
        "    for row, option in options.iterrows():\n",
        "      if option[\"Type\"] == \"C\":\n",
        "        model_value = B96_call_FFT(\n",
        "            S0,\n",
        "            option[\"Strike\"],\n",
        "            option[\"T\"],\n",
        "            option[\"r\"],\n",
        "            kappa_v,\n",
        "            theta_v,\n",
        "            sigma_v,\n",
        "            rho,\n",
        "            v0,\n",
        "            lamb,\n",
        "            mu,\n",
        "            delta,\n",
        "        )\n",
        "\n",
        "        values.append(model_value)\n",
        "\n",
        "    return np.array(values)"
      ]
    },
    {
      "cell_type": "code",
      "execution_count": 76,
      "metadata": {
        "id": "FQvhSJCWCxQs"
      },
      "outputs": [],
      "source": [
        "def plot_full_calibration_results_full(p0):\n",
        "\n",
        "    options_t = options[(options[\"Type\"] == 'C')]\n",
        "    options_t[\"Model\"] = B96_calculate_model_values(p0)\n",
        "    plt.figure(figsize=(8, 6))\n",
        "    plt.subplot(211)\n",
        "    plt.grid()\n",
        "    plt.title(\"Maturity 60 days: Call options\")\n",
        "    plt.ylabel(\"option values\")\n",
        "    plt.plot(options_t.Strike, options_t.Price, \"b\", label=\"market\")\n",
        "    plt.plot(options_t.Strike, options_t.Model, \"ro\", label=\"model\")\n",
        "    plt.legend(loc=0)\n",
        "    plt.axis(\n",
        "        [\n",
        "            min(options_t.Strike) - 5,\n",
        "            max(options_t.Strike) + 5,\n",
        "            min(options_t.Price) - 5,\n",
        "            max(options_t.Price) + 5,\n",
        "        ]\n",
        "    )\n",
        "\n",
        "    plt.subplot(212)\n",
        "    plt.grid()\n",
        "    wi = 1.0\n",
        "    diffs = options_t.Model.values - options_t.Price.values\n",
        "    plt.bar(options_t.Strike.values - wi / 2, diffs, width=wi)\n",
        "    plt.ylabel(\"difference\")\n",
        "    plt.axis(\n",
        "        [\n",
        "            min(options_t.Strike) - 5,\n",
        "            max(options_t.Strike) + 5,\n",
        "            min(diffs) * 1.1,\n",
        "            max(diffs) * 1.1,\n",
        "        ]\n",
        "    )\n",
        "    plt.tight_layout()"
      ]
    },
    {
      "cell_type": "markdown",
      "metadata": {
        "id": "CumcmCmilUMQ"
      },
      "source": [
        "Here is the Market Vs model Calibration for call options data:"
      ]
    },
    {
      "cell_type": "code",
      "execution_count": 77,
      "metadata": {
        "colab": {
          "base_uri": "https://localhost:8080/",
          "height": 607
        },
        "id": "MDmrd4cfGukQ",
        "outputId": "ce971e45-a726-44a2-e279-d11b7a7c49d2"
      },
      "outputs": [
        {
          "data": {
            "image/png": "[encoded data removed]",
            "text/plain": [
              "<Figure size 800x600 with 2 Axes>"
            ]
          },
          "metadata": {},
          "output_type": "display_data"
        }
      ],
      "source": [
        "plot_full_calibration_results_full(full_params)"
      ]
    },
    {
      "cell_type": "code",
      "execution_count": 78,
      "metadata": {
        "id": "jbrHoTHQGwHD"
      },
      "outputs": [],
      "source": [
        "def B96_calculate_model_values(p0):\n",
        "    kappa_v, theta_v, sigma_v, rho, v0, lamb, mu, delta = p0\n",
        "    values = []\n",
        "    for row, option in options.iterrows():\n",
        "      if option[\"Type\"] == \"P\":\n",
        "        model_value = B96_put_FFT(\n",
        "            S0,\n",
        "            option[\"Strike\"],\n",
        "            option[\"T\"],\n",
        "            option[\"r\"],\n",
        "            kappa_v,\n",
        "            theta_v,\n",
        "            sigma_v,\n",
        "            rho,\n",
        "            v0,\n",
        "            lamb,\n",
        "            mu,\n",
        "            delta,\n",
        "        )\n",
        "\n",
        "        values.append(model_value)\n",
        "\n",
        "    return np.array(values)"
      ]
    },
    {
      "cell_type": "code",
      "execution_count": 79,
      "metadata": {
        "id": "thyQzUPfJr6y"
      },
      "outputs": [],
      "source": [
        "def plot_full_calibration_results_full(p0):\n",
        "\n",
        "    options_t = options[(options[\"Type\"] == 'P')]\n",
        "    options_t[\"Model\"] = B96_calculate_model_values(p0)\n",
        "    plt.figure(figsize=(8, 6))\n",
        "    plt.subplot(211)\n",
        "    plt.grid()\n",
        "    plt.title(\"Maturity 60 days : Put Options\")\n",
        "    plt.ylabel(\"option values\")\n",
        "    plt.plot(options_t.Strike, options_t.Price, \"b\", label=\"market\")\n",
        "    plt.plot(options_t.Strike, options_t.Model, \"ro\", label=\"model\")\n",
        "    plt.legend(loc=0)\n",
        "    plt.axis(\n",
        "        [\n",
        "            min(options_t.Strike) - 5,\n",
        "            max(options_t.Strike) + 5,\n",
        "            min(options_t.Price) - 5,\n",
        "            max(options_t.Price) + 5,\n",
        "        ]\n",
        "    )\n",
        "\n",
        "    plt.subplot(212)\n",
        "    plt.grid()\n",
        "    wi = 1.0\n",
        "    diffs = options_t.Model.values - options_t.Price.values\n",
        "    plt.bar(options_t.Strike.values - wi / 2, diffs, width=wi)\n",
        "    plt.ylabel(\"difference\")\n",
        "    plt.axis(\n",
        "        [\n",
        "            min(options_t.Strike) - 5,\n",
        "            max(options_t.Strike) + 5,\n",
        "            min(diffs) * 1.1,\n",
        "            max(diffs) * 1.1,\n",
        "        ]\n",
        "    )\n",
        "    plt.tight_layout()"
      ]
    },
    {
      "cell_type": "markdown",
      "metadata": {
        "id": "Lhx0XrcUlhSG"
      },
      "source": [
        "Here is the Market Vs model Calibration plot for Put options data:"
      ]
    },
    {
      "cell_type": "code",
      "execution_count": 80,
      "metadata": {
        "colab": {
          "base_uri": "https://localhost:8080/",
          "height": 607
        },
        "id": "H5MsOqqCJv-K",
        "outputId": "1b9b4814-c303-4a29-df92-a764f2ba4536"
      },
      "outputs": [
        {
          "data": {
            "image/png": "[encoded data removed]",
            "text/plain": [
              "<Figure size 800x600 with 2 Axes>"
            ]
          },
          "metadata": {},
          "output_type": "display_data"
        }
      ],
      "source": [
        "plot_full_calibration_results_full(full_params)"
      ]
    },
    {
      "cell_type": "markdown",
      "metadata": {
        "id": "yyCh8fq3JyoK"
      },
      "source": [
        "## 2.c Monte Carlo valuation of OTM Put option\n",
        "\n",
        "In this section, we will price a Put option for \"SM\" with 70 days to maturity and a moneyness of 95% (strike price of 221.25). Since it is a Put option and the strike price is lower than the current price, the option is out-of-the-money (OTM).\n",
        "\n",
        "Below are the input parameters required for valuing both call and put options using the Monte Carlo method. As the specific approach was not explicitly stated, we will use random path generation to determine option prices.\n",
        "\n",
        "All parameters except volatility are provided in previous sections. Since the exact date of analysis is unknown, we cannot assess historical volatility based on market data. Therefore, as a proxy, we will use the implied volatility of the most similar option: an OTM Put with 60 days to maturity and a strike price of 227.5. Based on its price of 11.03, the implied volatility is calculated as follows:"
      ]
    },
    {
      "cell_type": "code",
      "execution_count": 81,
      "metadata": {
        "colab": {
          "base_uri": "https://localhost:8080/"
        },
        "id": "BWwpV9aw2vs6",
        "outputId": "37171427-1c17-4c4a-cc39-fd8b781345a8"
      },
      "outputs": [
        {
          "name": "stdout",
          "output_type": "stream",
          "text": [
            "The implied volatility is: 0.3131\n"
          ]
        }
      ],
      "source": [
        "#implied volatility\n",
        "\n",
        "# Given market data\n",
        "S0 = 232.90\n",
        "K = 227.5\n",
        "T = 60 / 250\n",
        "r = 0.02\n",
        "market_price = 11.03\n",
        "\n",
        "from scipy.stats import norm\n",
        "from scipy.optimize import newton\n",
        "\n",
        "def black_scholes_put_price(S, K, T, r, sigma):\n",
        "    \"\"\"\n",
        "    Calculate the Black-Scholes price of a European put option.\n",
        "\n",
        "    Parameters:\n",
        "    S : float : Current stock price\n",
        "    K : float : Strike price\n",
        "    T : float : Time to maturity (in years)\n",
        "    r : float : Risk-free rate\n",
        "    sigma : float : Volatility\n",
        "\n",
        "    Returns:\n",
        "    float : Black-Scholes price of the put option\n",
        "    \"\"\"\n",
        "    d1 = (np.log(S / K) + (r + 0.5 * sigma**2) * T) / (sigma * np.sqrt(T))\n",
        "    d2 = d1 - sigma * np.sqrt(T)\n",
        "\n",
        "    put_price = K * np.exp(-r * T) * norm.cdf(-d2) - S * norm.cdf(-d1)\n",
        "    return put_price\n",
        "\n",
        "def implied_volatility_put(price, S, K, T, r):\n",
        "    \"\"\"\n",
        "    Calculate the implied volatility for a European put option using Newton-Raphson method.\n",
        "\n",
        "    Parameters:\n",
        "    price : float : Market price of the put option\n",
        "    S : float : Current stock price\n",
        "    K : float : Strike price\n",
        "    T : float : Time to maturity (in years)\n",
        "    r : float : Risk-free rate\n",
        "\n",
        "    Returns:\n",
        "    float : Implied volatility\n",
        "    \"\"\"\n",
        "    def objective_function(sigma):\n",
        "        return black_scholes_put_price(S, K, T, r, sigma) - price\n",
        "\n",
        "    # Use Newton-Raphson method to find the root of the objective function\n",
        "    implied_vol = newton(objective_function, x0=0.2, tol=1e-6)\n",
        "\n",
        "    return implied_vol\n",
        "\n",
        "\n",
        "\n",
        "# Calculate implied volatility\n",
        "implied_volatilit = implied_volatility_put(market_price, S0, K, T, r)\n",
        "\n",
        "print(f\"The implied volatility is: {implied_volatilit:.4f}\")"
      ]
    },
    {
      "cell_type": "markdown",
      "metadata": {
        "id": "pPgxPDyP2wbk"
      },
      "source": [
        "The implied volatility is 31.31%. To assess the price of the Put option, we will use this implied volatility instead of relying on historical volatility."
      ]
    },
    {
      "cell_type": "code",
      "execution_count": 82,
      "metadata": {
        "colab": {
          "base_uri": "https://localhost:8080/"
        },
        "id": "kTknP7Tx2wmC",
        "outputId": "0aaf7a0c-c74c-4eae-99f2-5823338c3caf"
      },
      "outputs": [
        {
          "name": "stdout",
          "output_type": "stream",
          "text": [
            "Option price 9.24\n",
            "Option price with 4% fee 9.61\n"
          ]
        }
      ],
      "source": [
        "S0 = 232.90\n",
        "K = 232.90 * 0.95\n",
        "T = 70 / 250\n",
        "r = 0.02\n",
        "sigma = implied_volatilit  # Implied Volatility based on marke tdata\n",
        "M = 10000    # Number of simulations\n",
        "N = 70      # Number of time steps = days\n",
        "\n",
        "\n",
        "\n",
        "def defmonte_carlo_call_option(S0, K, T, r, sigma, M, N, option_type):\n",
        "\n",
        "    \"\"\"\n",
        "    Price an Europeran option using Monte Carlo simulation with the Heston model.\n",
        "\n",
        "    Parameters:\n",
        "    S0 (float): Initial stock price\n",
        "    K (float): Strike price\n",
        "    T (float): Time to maturity (in years)\n",
        "    r (float): Risk-free interest rate\n",
        "    sigma (float): Volatility of volatility\n",
        "    n_steps (int): Number of time steps in simulation\n",
        "\n",
        "\n",
        "    Returns:\n",
        "    float: Estimated option price\n",
        "    \"\"\"\n",
        "\n",
        "    # Time step\n",
        "    dt = T / N\n",
        "\n",
        "    # Simulate M paths of N steps each\n",
        "    S = np.zeros((M, N + 1))\n",
        "    S[:, 0] = S0\n",
        "\n",
        "    for t in range(1, N + 1):\n",
        "        Z = np.random.standard_normal(M)\n",
        "        S[:, t] = S[:, t-1] * np.exp((r - 0.5 * sigma**2) * dt + sigma * np.sqrt(dt) * Z)\n",
        "\n",
        "\n",
        "    # Calculate option payoffs\n",
        "    if option_type.lower() == 'call':\n",
        "        payoffs = np.maximum(S[:, -1] - K, 0)\n",
        "    elif option_type.lower() == 'put':\n",
        "        payoffs = np.maximum(K - S[:, -1], 0)\n",
        "    else:\n",
        "        raise ValueError(\"Invalid option type. Use 'call' or 'put'.\")\n",
        "\n",
        "    # Discounted average payoff\n",
        "    option_price = np.exp(-r * T) * np.mean(payoffs)\n",
        "\n",
        "    return option_price\n",
        "\n",
        "\n",
        "\n",
        "\n",
        "option_type = 'put'\n",
        "\n",
        "mc_call_price = defmonte_carlo_call_option(S0, K, T, r, sigma, M, N, option_type)\n",
        "\n",
        "print(f\"Option price {mc_call_price:.2f}\")\n",
        "print(f\"Option price with 4% fee {mc_call_price * 1.04:.2f}\")"
      ]
    },
    {
      "cell_type": "markdown",
      "metadata": {
        "id": "lL6AbcR62wrs"
      },
      "source": [
        "Therefore based on the Monte-Carlo approach and using market data for implied volatility, the price of put option is 9.34$ and with 4% fees it is $9.72"
      ]
    },
    {
      "cell_type": "markdown",
      "metadata": {
        "id": "5SiUMoBl9Zbz"
      },
      "source": [
        "# Step 3"
      ]
    },
    {
      "cell_type": "markdown",
      "metadata": {
        "id": "Dn_JA6Kmfy0U"
      },
      "source": [
        "## 3.A Calibrating CIR (1985) Model\n",
        "\n",
        "As our client have very volatile demands, we must be ready to cater all their needs when necessary so we should be ready with the insights about the evolution of intrest rates in the long term.\n",
        "\n",
        "For that we going to calibrate the CIR (1985) model which is an enhanced version of Vasicek (1977) model which includes a a term to make the\n",
        "standard deviation of short rate changes proportional to √r. This yields the following SDE:\n",
        "\n",
        "\\\n",
        "\\begin{equation*}\n",
        "  dr_t = k_r(\\theta_r-r_t)dt + \\sigma_r \\sqrt{r_t} dz_t\n",
        "\\end{equation*}\n",
        "\n",
        "\\\n",
        "\n",
        "Where the presence of $\\sqrt{r_t}$ means that when the short rate increases, its standard deviation becomes higher.\n",
        "\n",
        "CIR model have also different function components:\n",
        "\n",
        "In this model, prices of ZCBs paying 1 monetary unit at T take the following form:\n",
        "$$\n",
        "\\\n",
        "\\begin{equation*}\n",
        "        B_0(T) = b_1(T) e^{-b_2(T)r_0}\n",
        "\\end{equation*}\n",
        "$$\n",
        "\\\n",
        "where\n",
        "$$\n",
        "\\\n",
        "\\begin{equation*}\n",
        "        b_1(T) = \\left[ \\frac{2\\gamma e^{((k_r+\\gamma)T/2)}}{ 2\\gamma + (k_r +  \\gamma)(e^{\\gamma T}-1) } \\right]^{\\frac{2k_r\\theta_r}{\\sigma^2_r}}\n",
        "\\end{equation*}\n",
        "$$\n",
        "$$\n",
        "\\\n",
        "\\begin{equation*}\n",
        "        b_2(T) = \\frac{2(e^{\\gamma T}-1)}{2\\gamma + (k_r + \\gamma)(e^{\\gamma T}-1)}\n",
        "\\end{equation*}\n",
        "$$\n",
        "$$\n",
        "\\\n",
        "\\begin{equation*}\n",
        "        \\gamma = \\sqrt{k^2_r + 2\\sigma^2_r}\n",
        "\\end{equation*}\n",
        "$$\n",
        "\n",
        "AS now we have understood this model we are going to deal with model calibration in the following steps:\n",
        "\n",
        "- Get market data\n",
        "- Build up your valuation function according to your model\n",
        "- Error function (difference between model output and observed market prices)\n",
        "- Optimization function (minimizing error function)\n",
        "\n",
        "\n"
      ]
    },
    {
      "cell_type": "markdown",
      "metadata": {
        "id": "zvZJy66uf3Ym"
      },
      "source": [
        "### Getting Bond Market Data\n",
        "\n",
        "For Market Data we are going to consider Euribor rates as we opearate mostly on an European setting.\n",
        "\n",
        "The Rate are:\n",
        "\n",
        "- 1 week = 0.648%\n",
        "- 1 Month = 0.679%\n",
        "- 3 months = 1.173%\n",
        "- 6 months = 1.809%\n",
        "- 12 months = 2.556%\n",
        "\n",
        "We will divide the rates with 100 and maturaties with 360 to express it into decimal(rates), fraction of years(maturities)"
      ]
    },
    {
      "cell_type": "code",
      "execution_count": 83,
      "metadata": {
        "id": "lC0SkBKT9dd5"
      },
      "outputs": [],
      "source": [
        "mat_list = np.array(( 7, 30, 90, 180, 360)) / 360\n",
        "rate_list = (\n",
        "    np.array((0.648, 0.679, 1.173, 1.809, 2.556)) / 100\n",
        ")"
      ]
    },
    {
      "cell_type": "markdown",
      "metadata": {
        "id": "GcBscCzFgBAy"
      },
      "source": [
        "### Bond Pricing and Forward Rates in CIR (1985) Model\n",
        "\n",
        "\\\n",
        "When we perform our calibration, the goal is going to select model parameters ($\\kappa_r$, $\\theta_r$, $\\sigma_r$, $r_0$) so to minimize the differences between the rates produced by the model, and the rates observed in practice. In other words, minimize $\\Delta f(0, t)$:\n",
        "\n",
        "$$\n",
        "\\\n",
        "\\begin{equation*}\n",
        "    \\Delta f(0, t) \\equiv f(0, t) - f^{CIR}(0, t; \\kappa_r, \\theta_r, \\sigma_r, r_0)\n",
        "\\end{equation*}\n",
        "$$\n",
        "\\\n",
        "where $f(0,t)$ is the current market implied forward rate between $0$ and time $t$. Formally, the forward rate from any time $t$ to $T$ is defined as:\n",
        "$$\n",
        "\\\n",
        "\\begin{equation*}\n",
        "   f(t,T) \\equiv -\\frac{\\partial B_t(T)}{\\partial T}\n",
        "\\end{equation*}\n",
        "$$\n",
        "\\\n",
        "Now, using the previous formula and the expressions we know from the CIR (1985) model, we can define the forward rate between times $t$ and $T$ and a set of parameters $\\alpha$ in the following way:\n",
        "$$\n",
        "\\\n",
        "\\begin{equation*}\n",
        "   f^{CIR}(t,T; \\alpha) = \\frac{\\kappa_r \\theta_r (e^{\\gamma t}-1)}{2\\gamma + (\\kappa_r + \\gamma)(e^{\\gamma t}-1)} + r_0 \\frac{4\\gamma^2 e^{\\gamma t}}{(2\\gamma + (\\kappa_r + \\gamma)(e^{\\gamma t}-1))^2}\n",
        "\\end{equation*}\n",
        "$$\n",
        "\\\n",
        "Of course, the fact we are considering forward rates makes a lot of sense; since we are going to be projecting things into the future, we would like to calibrate the model to the actual forward rates implied by the ZCB prices.\n",
        "\n",
        "Now, when using forward rates between two different times (e.g., $t$ and $T$), our bond valuation equation would slightly change in notation. You will realize that there are no major changes in the formula but, for the sake of completeness, we include them next  Svoboda (2002).\n",
        "$$\n",
        "\\\n",
        "\\begin{equation*}\n",
        "        B_t(T) = a(t,T) e^{-b(t,T)\\mathbf{E_0^Q}(r_t)}\n",
        "\\end{equation*}\n",
        "$$\n",
        "\\\n",
        "where\n",
        "$$\n",
        "\\\n",
        "\\begin{equation*}\n",
        "        a(t, T) = \\left[ \\frac{2\\gamma e^{((k_r+\\gamma)(T-t)/2)}}{ 2\\gamma + (k_r +  \\gamma)(e^{\\gamma (T-t)}-1) } \\right]^{\\frac{2k_r\\theta_r}{\\sigma^2_r}}\n",
        "\\end{equation*}\n",
        "$$\n",
        "$$\n",
        "\\\n",
        "\\begin{equation*}\n",
        "        b(t, T) = \\frac{2(e^{\\gamma (T-t)}-1)}{2\\gamma + (k_r + \\gamma)(e^{\\gamma (T-t)}-1)}\n",
        "\\end{equation*}\n",
        "$$\n",
        "\\\n",
        "with\n",
        "$$\n",
        "\\\n",
        "\\begin{equation*}\n",
        "    \\mathbf{E_0^Q}(r_t) = \\theta_r + e^{-\\kappa_r t}(r_0- \\theta_r)\n",
        "\\end{equation*}\n",
        "$$\n",
        "\\\n",
        "and, of course, still with $\\gamma = \\sqrt{k^2_r + 2\\sigma^2_r}$.\n",
        "\n",
        "\\\n",
        "Unfortunately, we do not typically get market quotes of the forward rates, which is what we need to properly execute our model calibration via minimizing $\\Delta f(t,T)$ above for different $t$. Instead, we just have the yields (or rates) for different ZCBs and their maturities.\n",
        "\n",
        "Luckily for us, there is a very simple way of going from bond yields to forward rates and vice versa (this, you should be familiar with even before the course). Suppose $Y(0, T)$ is the current bond yield (short rate) of a ZCB that pays 1 unit at maturity $T$:\n",
        "$$\n",
        "\\\n",
        "\\begin{equation*}\n",
        "    f(0, T) = Y(0, T) + \\frac{\\partial Y(0, T)}{\\partial T}T\n",
        "\\end{equation*}\n",
        "$$\n",
        "\\\n",
        "Simultaneously, we know that the price of that bond today, given yield $Y(0, T)$ should solve the following equation:\n",
        "$$\n",
        "\\\n",
        "\\begin{equation*}\n",
        "    B_T(T) = B_0(T) e^{Y(0,T) T} \\Leftrightarrow Y(0,T) = \\frac{log B_T(T) - log B_0(T)}{T}\n",
        "\\end{equation*}\n",
        "$$\n",
        "\\\n",
        "and since we have normalized the face value of the bond at maturity to 1:\n",
        "$$\n",
        "\\\n",
        "\\begin{equation*}\n",
        "    Y(0,T) = -\\frac{log B_0(T)}{T}\n",
        "\\end{equation*}\n",
        "$$\n",
        "\\\n",
        "Similarly, we can derive capitalization factors (the continuous yield of a unit ZCB) and equivalent annualized continuous rates. For example, capitalization factor, $f_s^{3m}$, for the 3 months Euribor rate, $Eur_{3m}$ would be:\n",
        "$$\n",
        "\\\n",
        "\\begin{equation*}\n",
        "    f_s^{3m} = 1 + 90/360 \\times Eur_{3m}\n",
        "\\end{equation*}\n",
        "$$\n",
        "\\\n",
        "The equivalent annualized continuous rate, $f_c^{3m}$, is therefore defined as:\n",
        "$$\n",
        "\\\n",
        "\\begin{equation*}\n",
        "    f_c^{3m} = 360/90 \\times log(f_s^{3m})\n",
        "\\end{equation*}\n",
        "$$\n",
        "\\\n",
        "which ensures the following relationship is satisfied:\n",
        "$$\n",
        "\\\n",
        "\\begin{equation*}\n",
        "    1 + 90/360 \\times f_s^{3m} = e^{90/360 f^{3m}_c}\n",
        "\\end{equation*}\n",
        "$$\n",
        "\\\n",
        "So, now that we know all this, let's define the current short-term rate ($r_0$), the capitalization factors and the zero-forward rates implied by the Euribor rates observed in the market."
      ]
    },
    {
      "cell_type": "code",
      "execution_count": 84,
      "metadata": {
        "id": "EAdMW2-JJOMc"
      },
      "outputs": [],
      "source": [
        "r0 = rate_list[0]\n",
        "factors = 1 + mat_list * rate_list\n",
        "zero_rates = 1 / mat_list * np.log(factors)"
      ]
    },
    {
      "cell_type": "code",
      "execution_count": 85,
      "metadata": {
        "colab": {
          "base_uri": "https://localhost:8080/",
          "height": 472
        },
        "id": "9YOud0ZsJTKK",
        "outputId": "bffaaaaf-fe14-427f-f23e-b4fdabf4fd1d"
      },
      "outputs": [
        {
          "data": {
            "image/png": "[encoded data removed]",
            "text/plain": [
              "<Figure size 640x480 with 1 Axes>"
            ]
          },
          "metadata": {},
          "output_type": "display_data"
        }
      ],
      "source": [
        "plt.plot(mat_list, zero_rates, \"r.\", markersize=\"15\")\n",
        "plt.xlabel(\"Time Horizon\")\n",
        "plt.ylabel(\"Zero forward rate\")\n",
        "plt.title(\"Term Structure Euribor\")\n",
        "plt.show()"
      ]
    },
    {
      "cell_type": "markdown",
      "metadata": {
        "id": "Kyb5P8WagIKS"
      },
      "source": [
        "### Interpolation of Market Rates\n",
        "\n",
        "Unfortunately, as we observe in the previous graph, there are a limited amount of rates quoted in the market. However, in order to calibrate the parameters of our model, we would like to have as many inputs (data points) as possible.\n",
        "\n",
        "In order to do that, there is actually one common solution: interpolate the term structure of forward rates. This basically consists of fitting a function that can replicate the observed term structure and infer what would be the forward rate of a given maturity for which there is no market quote.\n",
        "\n",
        "There are several ways to interpolate a term structure (e.g., linear interpolation, fitting a model such as Nelson-Siegel using OLS, etc). Here, we will use a common way of interpolation, which is cubic spline interpolation.\n",
        "\n",
        "Now, we are going to take advantage of the scipy package in Python and its built-in spline functions `splrep` (https://docs.scipy.org/doc/scipy/reference/generated/scipy.interpolate.splrep.html#scipy.interpolate.splrep) and `splev` (https://docs.scipy.org/doc/scipy/reference/generated/scipy.interpolate.splev.html#scipy.interpolate.splev).\n",
        "\n",
        "We created 52 equally spaced maturites between 0 and 1 because we need to interpolate weekly rates for period of 12 months:"
      ]
    },
    {
      "cell_type": "code",
      "execution_count": 86,
      "metadata": {
        "id": "oiG_XNkdJUn5"
      },
      "outputs": [],
      "source": [
        "from scipy.interpolate import splev, splrep"
      ]
    },
    {
      "cell_type": "code",
      "execution_count": 87,
      "metadata": {
        "id": "sDaLyW21Jbsh"
      },
      "outputs": [],
      "source": [
        "bspline = splrep(mat_list, zero_rates, k=3)  # Cubic spline\n",
        "\n",
        "mat_list_n = np.linspace(\n",
        "    0.0, 1.0, 52\n",
        ")  # Create 52 equally spaced maturities between 0 and 1\n",
        "\n",
        "inter_rates = splev(mat_list_n, bspline, der=0)  # Interpolated rates\n",
        "\n",
        "first_der = splev(mat_list_n, bspline, der=1)  # First derivative of spline\n",
        "\n",
        "f = (\n",
        "    inter_rates + first_der * mat_list_n\n",
        ")  # Forward rate given interpolated ones and first derivative"
      ]
    },
    {
      "cell_type": "code",
      "execution_count": 88,
      "metadata": {
        "colab": {
          "base_uri": "https://localhost:8080/",
          "height": 564
        },
        "id": "vVD1ZFkYJtU5",
        "outputId": "20dd7981-3ae2-4436-f9b2-779922e5905c"
      },
      "outputs": [
        {
          "data": {
            "image/png": "[encoded data removed]",
            "text/plain": [
              "<Figure size 1200x600 with 1 Axes>"
            ]
          },
          "metadata": {},
          "output_type": "display_data"
        }
      ],
      "source": [
        "plt.figure(figsize=(12, 6))\n",
        "plt.plot(mat_list, zero_rates, \"r.\", markersize=\"15\", label=\"Market quotes\")\n",
        "plt.plot(mat_list_n, inter_rates, \"--\", markersize=\"10\", label=\"Interpolation\")\n",
        "plt.plot(mat_list_n, first_der, \"g--\", markersize=\"10\", label=\"1st derivative\")\n",
        "plt.xlabel(\"Time Horizon\")\n",
        "plt.ylabel(\"Zero forward rate\")\n",
        "plt.title(\"Term Structure Euribor\")\n",
        "plt.legend()\n",
        "plt.show()"
      ]
    },
    {
      "cell_type": "markdown",
      "metadata": {
        "id": "Be3oqPYTT6dg"
      },
      "source": [
        "As you can see, we do not perfectly match the observed market data, but we are pretty close. In turn, we have many more data points that we can use to calibrate our interest rate model to observed (or, better said, interpolated from observed) market quotes."
      ]
    },
    {
      "cell_type": "markdown",
      "metadata": {
        "id": "7j0SqzRjgU2D"
      },
      "source": [
        "### CIR forward rates\n",
        "\n",
        "Finally, before jumping to the pure calibration, we wrote one last function. We will calibrate forward rates of the CIR (1985) model. Hence, we defined the forward rate expression in the CIR model, $f^{CIR}(t,T; \\alpha)$. Remember that we have already seen this expression before:\n",
        "$$\n",
        "\\\n",
        "\\begin{equation*}\n",
        "   f^{CIR}(t,T; \\alpha) = \\frac{\\kappa_r \\theta_r (e^{\\gamma t}-1)}{2\\gamma + (\\kappa_r + \\gamma)(e^{\\gamma t}-1)} + r_0 \\frac{4\\gamma^2 e^{\\gamma t}}{(2\\gamma + (\\kappa_r + \\gamma)(e^{\\gamma t}-1))^2}\n",
        "\\end{equation*}\n",
        "$$"
      ]
    },
    {
      "cell_type": "code",
      "execution_count": 89,
      "metadata": {
        "id": "PzCad9L0Ju1J"
      },
      "outputs": [],
      "source": [
        "def CIR_forward_rate(alpha):\n",
        "    \"\"\"\n",
        "    Forward rates in CIR (1985) model\n",
        "    The set of parameters is called alpha and include Kappa_r, Theta_r and Sigma_r\n",
        "    \"\"\"\n",
        "\n",
        "    kappa_r, theta_r, sigma_r = alpha\n",
        "\n",
        "    t = mat_list_n\n",
        "    g = np.sqrt(kappa_r**2 + 2 * sigma_r**2)\n",
        "\n",
        "    s1 = (kappa_r * theta_r * (np.exp(g * t) - 1)) / (\n",
        "        2 * g + (kappa_r + g) * (np.exp(g * t) - 1)\n",
        "    )\n",
        "\n",
        "    s2 = r0 * (\n",
        "        (4 * g**2 * np.exp(g * t)) / (2 * g + (kappa_r + g) * (np.exp(g * t)) ** 2)\n",
        "    )\n",
        "\n",
        "    return s1 + s2"
      ]
    },
    {
      "cell_type": "markdown",
      "metadata": {
        "id": "w-bjhBangYHU"
      },
      "source": [
        "### Error Function\n",
        "\n",
        "Next, we will define our error function, which basically is equivalent to other error functions we have defined before. In this case, we are using Mean Squared Error (MSE). This is, given $\\alpha$ equal to the set of parameters to calibrate:\n",
        "\n",
        "$$\n",
        "\\\n",
        "\\begin{equation*}\n",
        "  min \\frac{1}{M} \\sum_{m=0}^{M} \\left( f(0,m\\Delta t) - f^{CIR}(0,m\\Delta t; \\alpha) \\right)^2\n",
        "\\end{equation*}\n",
        "$$\n",
        "\\\n",
        "with $M = T / \\Delta t$, that is, the number of market data points between $0$ and $T$."
      ]
    },
    {
      "cell_type": "code",
      "execution_count": 90,
      "metadata": {
        "id": "GkYfO8Y_J3Rr"
      },
      "outputs": [],
      "source": [
        "def CIR_error_function(alpha):\n",
        "    \"\"\"\n",
        "    Error function to calibrate CIR (1985) model\n",
        "    \"\"\"\n",
        "\n",
        "    kappa_r, theta_r, sigma_r = alpha\n",
        "\n",
        "    # Few remarks to avoid problems for certain values of parameters:\n",
        "    if 2 * kappa_r * theta_r < sigma_r**2:\n",
        "        return 100\n",
        "    if kappa_r < 0 or theta_r < 0 or sigma_r < 0.001:\n",
        "        return 100\n",
        "\n",
        "    forward_rates = CIR_forward_rate(alpha)\n",
        "    MSE = np.sum((f - forward_rates) ** 2) / len(f)\n",
        "\n",
        "    return MSE"
      ]
    },
    {
      "cell_type": "markdown",
      "metadata": {
        "id": "quGZDr8jgbgO"
      },
      "source": [
        "### Optimization\n",
        "\n",
        "Finally, we just need to create our optimization function to minimize the difference between model and market rates, very much in the same spirit as we have done a few times before for other models:"
      ]
    },
    {
      "cell_type": "code",
      "execution_count": 91,
      "metadata": {
        "id": "9AFdIHuzJ4-L"
      },
      "outputs": [],
      "source": [
        "from scipy.optimize import fmin"
      ]
    },
    {
      "cell_type": "code",
      "execution_count": 92,
      "metadata": {
        "id": "CFRzs1gMJ6sB"
      },
      "outputs": [],
      "source": [
        "def CIR_calibration():\n",
        "    opt = fmin(\n",
        "        CIR_error_function,\n",
        "        [1.0, 0.02, 0.1],\n",
        "        xtol=0.00001,\n",
        "        ftol=0.00001,\n",
        "        maxiter=300,\n",
        "        maxfun=500,\n",
        "    )\n",
        "\n",
        "    return opt"
      ]
    },
    {
      "cell_type": "markdown",
      "metadata": {
        "id": "G8vE823SgjOp"
      },
      "source": [
        "### Results\n",
        "\n",
        "Now, we are ready to perform the whole calibration process as usual. First, let's run our calibration function to obtain the parameters:"
      ]
    },
    {
      "cell_type": "code",
      "execution_count": 93,
      "metadata": {
        "colab": {
          "base_uri": "https://localhost:8080/"
        },
        "id": "rFvvGWFgJ8vS",
        "outputId": "5e6b6f60-a3ba-45d5-a5f5-d2492651e032"
      },
      "outputs": [
        {
          "name": "stdout",
          "output_type": "stream",
          "text": [
            "Optimization terminated successfully.\n",
            "         Current function value: 0.000003\n",
            "         Iterations: 142\n",
            "         Function evaluations: 251\n"
          ]
        },
        {
          "data": {
            "text/plain": [
              "array([0.99872676, 0.10742899, 0.00100228])"
            ]
          },
          "execution_count": 93,
          "metadata": {},
          "output_type": "execute_result"
        }
      ],
      "source": [
        "params = CIR_calibration()\n",
        "params"
      ]
    },
    {
      "cell_type": "markdown",
      "metadata": {
        "id": "N6SwDR5zUvcd"
      },
      "source": [
        "we obtain parameters that closely match market data:\n",
        "\n",
        "- $\\kappa_r = 0.998$\n",
        "- $\\theta_r = 0.107$\n",
        "- $\\sigma_r = 0.001$\n",
        "\n",
        "\\\n",
        "Then, let's see graphically the results of our calibration given the previous parameters:"
      ]
    },
    {
      "cell_type": "code",
      "execution_count": 94,
      "metadata": {
        "id": "ecZSu8T0J96L"
      },
      "outputs": [],
      "source": [
        "def plot_calibrated_frc(opt):\n",
        "    \"\"\"Plots market and calibrated forward rate curves.\"\"\"\n",
        "    forward_rates = CIR_forward_rate(opt)\n",
        "    plt.figure(figsize=(8, 6))\n",
        "    plt.subplot(211)\n",
        "    plt.title(\"CIR model calibration\")\n",
        "    plt.ylabel(\"Forward rate $f(0,T)$\")\n",
        "    plt.plot(mat_list_n, f, \"ro\", label=\"market\")\n",
        "    plt.plot(mat_list_n, forward_rates, \"b--\", label=\"model\")\n",
        "    plt.legend(loc=0)\n",
        "    plt.axis(\n",
        "        [min(mat_list_n) - 0.05, max(mat_list_n) + 0.05, min(f) - 0.005, max(f) * 1.1]\n",
        "    )\n",
        "    plt.subplot(212)\n",
        "    wi = 0.01\n",
        "    plt.bar(mat_list_n - wi / 2, forward_rates - f, width=wi)\n",
        "    plt.xlabel(\"Time horizon\")\n",
        "    plt.ylabel(\"Difference\")\n",
        "    plt.axis(\n",
        "        [\n",
        "            min(mat_list_n) - 0.05,\n",
        "            max(mat_list_n) + 0.05,\n",
        "            min(forward_rates - f) * 1.1,\n",
        "            max(forward_rates - f) * 1.1,\n",
        "        ]\n",
        "    )\n",
        "    plt.tight_layout()"
      ]
    },
    {
      "cell_type": "code",
      "execution_count": 95,
      "metadata": {
        "colab": {
          "base_uri": "https://localhost:8080/",
          "height": 607
        },
        "id": "luXhOi4HKAWp",
        "outputId": "600e0117-dd52-4149-8b22-0dd64482682d"
      },
      "outputs": [
        {
          "data": {
            "image/png": "[encoded data removed]",
            "text/plain": [
              "<Figure size 800x600 with 2 Axes>"
            ]
          },
          "metadata": {},
          "output_type": "display_data"
        }
      ],
      "source": [
        "plot_calibrated_frc(params)"
      ]
    },
    {
      "cell_type": "markdown",
      "metadata": {
        "id": "CEJJgIPDZ5WU"
      },
      "source": [
        "## 3.B Using CIR for Euribor daily rates simulations via Monte-Carlo"
      ]
    },
    {
      "cell_type": "code",
      "execution_count": 96,
      "metadata": {
        "colab": {
          "base_uri": "https://localhost:8080/",
          "height": 1000
        },
        "id": "AN9GMuqnZ58E",
        "outputId": "e482eee9-a82c-4dff-ab89-bd4ca558f9fe"
      },
      "outputs": [
        {
          "data": {
            "image/png": "[encoded data removed]",
            "text/plain": [
              "<Figure size 1200x800 with 1 Axes>"
            ]
          },
          "metadata": {},
          "output_type": "display_data"
        },
        {
          "data": {
            "image/png": "[encoded data removed]",
            "text/plain": [
              "<Figure size 1200x800 with 1 Axes>"
            ]
          },
          "metadata": {},
          "output_type": "display_data"
        },
        {
          "name": "stdout",
          "output_type": "stream",
          "text": [
            "Expected 12-month Euribor rate in 1 year: 0.0702\n",
            "95% Confidence Interval: [0.0699, 0.0705]\n"
          ]
        }
      ],
      "source": [
        "import numpy as np\n",
        "import matplotlib.pyplot as plt\n",
        "from scipy import stats\n",
        "\n",
        "kappa, theta, sigma = params\n",
        "r0 = rate_list[0]\n",
        "T = 1\n",
        "dt = 1/250\n",
        "N = int(T/dt)\n",
        "M = 30000\n",
        "\n",
        "np.random.seed(42)\n",
        "def cir(r0, k, theta, sigma, T, N, M):\n",
        "    dt = T / N\n",
        "    rates = np.zeros((N, M))\n",
        "    rates[0, :] = r0\n",
        "    for j in range(M):\n",
        "        for i in range(1, N):\n",
        "            dr = (\n",
        "                k * (theta - rates[i - 1, j]) * dt\n",
        "                + sigma\n",
        "                * np.sqrt(dt)\n",
        "                * np.sqrt(np.maximum(rates[i - 1, j], 0))\n",
        "                * np.random.normal()\n",
        "            )\n",
        "            rates[i, j] = rates[i - 1, j] + dr\n",
        "    return rates\n",
        "\n",
        "r = cir(r0, kappa, theta, sigma, T, N, M)\n",
        "\n",
        "final_rates = r[-1, :]\n",
        "expected_rate = np.mean(final_rates)\n",
        "confidence_level = 0.95\n",
        "lower_bound, upper_bound = np.percentile(final_rates, [(1-confidence_level)/2*100, (1+confidence_level)/2*100])\n",
        "\n",
        "plt.figure(figsize=(12, 8))\n",
        "plt.plot(r[:, :100], alpha=0.1, color='blue')\n",
        "plt.plot(np.mean(r, axis=1), color='red', linewidth=2)\n",
        "plt.title('CIR 12-month Rate Simulations')\n",
        "plt.xlabel('Time Horizon expressed in Trading Days')\n",
        "plt.ylabel('Zero Forward Rate')\n",
        "plt.show()\n",
        "\n",
        "plt.figure(figsize=(12, 8))\n",
        "plt.hist(final_rates, bins=100, density=True, alpha=0.7)\n",
        "plt.axvline(expected_rate, color='r', linestyle='dashed', linewidth=2)\n",
        "plt.axvline(lower_bound, color='g', linestyle='dashed', linewidth=2)\n",
        "plt.axvline(upper_bound, color='g', linestyle='dashed', linewidth=2)\n",
        "plt.title('Distribution of Euribor 12-month Rates After 1 Year')\n",
        "plt.xlabel('Rate')\n",
        "plt.ylabel('Density')\n",
        "plt.show()\n",
        "\n",
        "print(f\"Expected 12-month Euribor rate in 1 year: {expected_rate:.4f}\")\n",
        "print(f\"95% Confidence Interval: [{lower_bound:.4f}, {upper_bound:.4f}]\")"
      ]
    },
    {
      "cell_type": "markdown",
      "metadata": {
        "id": "xIipqdykji63"
      },
      "source": [
        "# **References**\n",
        "\n",
        "- Gatheral, Jim. *The Volatility Surface: A Practitioner's Guide*. John Wiley & Sons Inc., 2006.\n",
        "\n",
        "- Heston, Steven L. \"A Closed-Form Solution for Options with Stochastic Volatility with Applications to Bond and Currency Options.\" *The Review of Financial Studies*, vol. 6, no. 2, 1993, pp. 327-343.\n",
        "\n",
        "- Hilpisch, Yves. *Derivatives Analytics with Python: Data Analysis, Models,Simulation, Calibration and Hedging.* John Wiley & Sons, 2015.\n",
        "\n",
        "- Bates, David S. 'Jumps and stochastic volatility: Exchange rate processes implicit in deutsche mark options'. The Review of Financial Studies 9.1 (1996): 69-107.\n",
        "\n",
        "- Cherubini, Umberto, et al. Fourier transform methods in finance. John Wiley & Sons, 2010\n",
        "\n",
        "- Galluccio, Stefano, and Yann Lecam. \"Implied calibration and moments asymptotics in stochastic volatility jump diffusion models.\" Available at SSRN 831784 (2008).\n",
        "\n",
        "- Cox, John C., et al. \"An Intertemporal General Equilibrium Model of Asset Prices.\" *Econometrica: Journal of the Econometric Society*, 1985, pp. 363-384.\n",
        "\n",
        "- Svoboda, Simona. *An Investigation of Various Interest Rate Models and Their Calibration in the South African Market.* 2002. University of the Witwatersrand, Dissertation. https://www.econbiz.de/Record/interest-rate-model-theory-with-reference-to-the-south-african-market-van-wijck-tjaart/10009442156"
      ]
    }
  ],
  "metadata": {
    "colab": {
      "collapsed_sections": [
        "wSmsZbXyNUc5",
        "UUcihEzINZ69",
        "KrqY-uEfNTiO",
        "2Ce6W_HGNzwW",
        "5RdXBKmtN6vd",
        "QLGS5KTDODL5",
        "nrtIVMWoOS1i",
        "pRXEkFGlZVQu",
        "_qinlqQToXm_",
        "7RCn1geKLCPT",
        "6GqK_JmcySuE",
        "AjAT1L3hqfC6",
        "z9rB_79xqphh",
        "XifE8xRmse9I",
        "zKlxaIbLstEB",
        "ddHzRmCEt3Ju",
        "vff11pA4ibNl",
        "tZv5Hm4D38eR",
        "yyCh8fq3JyoK",
        "5SiUMoBl9Zbz",
        "Dn_JA6Kmfy0U",
        "CEJJgIPDZ5WU",
        "xIipqdykji63"
      ],
      "provenance": []
    },
    "kernelspec": {
      "display_name": "Python 3",
      "name": "python3"
    },
    "language_info": {
      "codemirror_mode": {
        "name": "ipython",
        "version": 3
      },
      "file_extension": ".py",
      "mimetype": "text/x-python",
      "name": "python",
      "nbconvert_exporter": "python",
      "pygments_lexer": "ipython3",
      "version": "3.11.3"
    }
  },
  "nbformat": 4,
  "nbformat_minor": 0
}
